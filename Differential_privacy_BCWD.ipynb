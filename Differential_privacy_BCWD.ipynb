{
  "nbformat": 4,
  "nbformat_minor": 0,
  "metadata": {
    "colab": {
      "name": "Differential privacy.ipynb",
      "provenance": [],
      "toc_visible": true,
      "authorship_tag": "ABX9TyMHLkiNFupTvkYn+GMY3z6U",
      "include_colab_link": true
    },
    "kernelspec": {
      "name": "python3",
      "display_name": "Python 3"
    }
  },
  "cells": [
    {
      "cell_type": "markdown",
      "metadata": {
        "id": "view-in-github",
        "colab_type": "text"
      },
      "source": [
        "<a href=\"https://colab.research.google.com/github/Rakib-Ul-Haque/Differential_Privacy/blob/main/Differential_privacy.ipynb\" target=\"_parent\"><img src=\"https://colab.research.google.com/assets/colab-badge.svg\" alt=\"Open In Colab\"/></a>"
      ]
    },
    {
      "cell_type": "markdown",
      "metadata": {
        "id": "lNxlkTH57ORz"
      },
      "source": [
        "## **BCWD data with classic Laplace**"
      ]
    },
    {
      "cell_type": "code",
      "metadata": {
        "id": "J042dyQx0m8N"
      },
      "source": [
        "# Library Declaration  \n",
        "import numpy as np\n",
        "import pandas as pd \n",
        "# Data Input\n",
        "df = pd.read_table('breast-cancer-wisconsin.data', sep=',', names=[\"Sample code number\", \"Clump Thickness\", \"Uniformity of Cell Size\", \"Uniformity of Cell Shape\", \"Marginal Adhesion\", \"Single Epithelial Cell Size\",\"Bare Nuclei\", \"Bland Chromatin\", \"Normal Nucleoli\",\"Mitoses\",\"Class\"]) \n",
        "# print(df.head)"
      ],
      "execution_count": 71,
      "outputs": []
    },
    {
      "cell_type": "code",
      "metadata": {
        "colab": {
          "base_uri": "https://localhost:8080/"
        },
        "id": "Jp-EQV9r1yww",
        "outputId": "98641ad4-a62b-4161-c09b-ece343830f43"
      },
      "source": [
        "# Data Cleaning\n",
        "df[\"Bare Nuclei\"][df[\"Bare Nuclei\"]=='?']='0'\n",
        "df[\"Bare Nuclei\"] = df[\"Bare Nuclei\"].astype(str).astype(int)\n",
        "# df.info()\n",
        "# pd.to_numeric(df[\"Bare Nuclei\"])"
      ],
      "execution_count": 72,
      "outputs": [
        {
          "output_type": "stream",
          "text": [
            "/usr/local/lib/python3.6/dist-packages/ipykernel_launcher.py:2: SettingWithCopyWarning: \n",
            "A value is trying to be set on a copy of a slice from a DataFrame\n",
            "\n",
            "See the caveats in the documentation: https://pandas.pydata.org/pandas-docs/stable/user_guide/indexing.html#returning-a-view-versus-a-copy\n",
            "  \n"
          ],
          "name": "stderr"
        }
      ]
    },
    {
      "cell_type": "code",
      "metadata": {
        "colab": {
          "base_uri": "https://localhost:8080/"
        },
        "id": "NzcdTB3e10_V",
        "outputId": "e1224f7c-a3e6-4ece-b3df-41ed9d7b221c"
      },
      "source": [
        "# Data Cleaning\n",
        "df=df.drop([\"Sample code number\"], axis = 1)\n",
        "print(df.shape)"
      ],
      "execution_count": 73,
      "outputs": [
        {
          "output_type": "stream",
          "text": [
            "(699, 10)\n"
          ],
          "name": "stdout"
        }
      ]
    },
    {
      "cell_type": "code",
      "metadata": {
        "id": "NrPfIzpF13lN"
      },
      "source": [
        "# Data Cleaning\n",
        "def Class_value(Class): \n",
        "     if Class == 2: \n",
        "         return 1\n",
        "     else: \n",
        "         return 0\n",
        "  \n",
        "df['Class'] = df['Class'].apply(Class_value) \n",
        "#df['Class'].head(10)"
      ],
      "execution_count": 74,
      "outputs": []
    },
    {
      "cell_type": "code",
      "metadata": {
        "id": "yjRZ72ym15qE"
      },
      "source": [
        "sf=df\n",
        "y = sf[\"Class\"].astype(float).values.tolist()\n",
        "# y"
      ],
      "execution_count": 75,
      "outputs": []
    },
    {
      "cell_type": "code",
      "metadata": {
        "id": "xqPocp1c1-y_"
      },
      "source": [
        "df=df.drop([\"Class\"], axis = 1)"
      ],
      "execution_count": 76,
      "outputs": []
    },
    {
      "cell_type": "code",
      "metadata": {
        "id": "w_dnTn_k2EnP"
      },
      "source": [
        "# dataset = df.astype(float).values.tolist()\n",
        "# dataset"
      ],
      "execution_count": 77,
      "outputs": []
    },
    {
      "cell_type": "code",
      "metadata": {
        "id": "PKosD5Gk2OLm"
      },
      "source": [
        "# df[\"Clump Thickness\"].head()"
      ],
      "execution_count": 78,
      "outputs": []
    },
    {
      "cell_type": "code",
      "metadata": {
        "id": "bbiLf_hvh_RB"
      },
      "source": [
        "# df[\"Clump Thickness\"].min()\n",
        "# df[\"Clump Thickness\"].max()\n",
        "# len(df[\"Clump Thickness\"])"
      ],
      "execution_count": 79,
      "outputs": []
    },
    {
      "cell_type": "code",
      "metadata": {
        "id": "y5m4jf-Vo9wZ"
      },
      "source": [
        "import math"
      ],
      "execution_count": 80,
      "outputs": []
    },
    {
      "cell_type": "code",
      "metadata": {
        "id": "16QAz-1I30OD"
      },
      "source": [
        "# ep=1\n",
        "# def Lap(x,b):\n",
        "#   # print(x)\n",
        "#   # print(\"bget\",b)\n",
        "#   temp=(math.exp(-(abs(x)*b)))*(b/2)\n",
        "#   # print(\"noice: \",temp)\n",
        "#   return temp\n",
        "\n",
        "\n",
        "# for i in df[\"Clump Thickness\"]:\n",
        "#   noice=Lap((df[\"Clump Thickness\"].max()-df[\"Clump Thickness\"].min()),(ep))\n",
        "#   # noice=Lap((i),(ep))\n",
        "#   # data=i+noice\n",
        "#   print(noice)"
      ],
      "execution_count": 81,
      "outputs": []
    },
    {
      "cell_type": "code",
      "metadata": {
        "id": "4PjGPrU4oyLU"
      },
      "source": [
        "# sss=0.0027772491345605765\n",
        "# ssss=6.170490204333978e-05\n",
        "# if sss>ssss:\n",
        "#   print(\"sss:\",sss)\n",
        "# else:\n",
        "#   print(\"ssss:\",ssss)\n",
        "# abs(-1.4)\n",
        "# math.exp(-((62910-4.5)/0.5))"
      ],
      "execution_count": 82,
      "outputs": []
    },
    {
      "cell_type": "code",
      "metadata": {
        "id": "5bgWQRbRjJIs"
      },
      "source": [
        "# df[\"Clump Thickness\"].mean()"
      ],
      "execution_count": 83,
      "outputs": []
    },
    {
      "cell_type": "code",
      "metadata": {
        "id": "GT5OV-6YsJCn"
      },
      "source": [
        "# datacount = df[\"Clump Thickness\"].value_counts()\n",
        "# datacount = df[\"Clump Thickness\"].value_counts()\n"
      ],
      "execution_count": 84,
      "outputs": []
    },
    {
      "cell_type": "code",
      "metadata": {
        "id": "GuP8GvLQOyV6"
      },
      "source": [
        "import math\n",
        "data1=df[\"Clump Thickness\"].unique()\n",
        "data2=df[\"Uniformity of Cell Size\"].unique()\n",
        "data3=df[\"Uniformity of Cell Shape\"].unique()\n",
        "data4=df[\"Marginal Adhesion\"].unique()\n",
        "data5=df[\"Single Epithelial Cell Size\"].unique()\n",
        "data6=df[\"Bare Nuclei\"].unique()\n",
        "data7=df[\"Bland Chromatin\"].unique()\n",
        "data8=df[\"Normal Nucleoli\"].unique()\n",
        "data9=df[\"Mitoses\"].unique()"
      ],
      "execution_count": 85,
      "outputs": []
    },
    {
      "cell_type": "code",
      "metadata": {
        "id": "29ytOwfMNKHf"
      },
      "source": [
        "location = 1.0\n",
        "scale = 0.1"
      ],
      "execution_count": 86,
      "outputs": []
    },
    {
      "cell_type": "code",
      "metadata": {
        "id": "6JHfqW4hNSRA"
      },
      "source": [
        "Laplacian_noise1 = np.random.laplace(location,scale, len(data1))\n",
        "Laplacian_noise2 = np.random.laplace(location,scale, len(data2))\n",
        "Laplacian_noise3 = np.random.laplace(location,scale, len(data3))\n",
        "Laplacian_noise4 = np.random.laplace(location,scale, len(data4))\n",
        "Laplacian_noise5 = np.random.laplace(location,scale, len(data5))\n",
        "Laplacian_noise6 = np.random.laplace(location,scale, len(data6))\n",
        "Laplacian_noise7 = np.random.laplace(location,scale, len(data7))\n",
        "Laplacian_noise8 = np.random.laplace(location,scale, len(data8))\n",
        "Laplacian_noise9 = np.random.laplace(location,scale, len(data9))\n",
        "# print(Laplacian_noise)"
      ],
      "execution_count": 87,
      "outputs": []
    },
    {
      "cell_type": "code",
      "metadata": {
        "id": "g2iyepaYNmYc"
      },
      "source": [
        "noisydata1 = data1 + Laplacian_noise1\n",
        "noisydata2 = data2 + Laplacian_noise2\n",
        "noisydata3 = data3 + Laplacian_noise3\n",
        "noisydata4 = data4 + Laplacian_noise4\n",
        "noisydata5 = data5 + Laplacian_noise5\n",
        "noisydata6 = data6 + Laplacian_noise6\n",
        "noisydata7 = data7 + Laplacian_noise7\n",
        "noisydata8 = data8 + Laplacian_noise8\n",
        "noisydata9 = data9 + Laplacian_noise9\n",
        "# noisydata"
      ],
      "execution_count": 88,
      "outputs": []
    },
    {
      "cell_type": "code",
      "metadata": {
        "id": "qJfKtzkEODKG"
      },
      "source": [
        "d1 = dict(zip(data1, noisydata1))\n",
        "d2 = dict(zip(data2, noisydata2))\n",
        "d3 = dict(zip(data3, noisydata3))\n",
        "d4 = dict(zip(data4, noisydata4))\n",
        "d5 = dict(zip(data5, noisydata5))\n",
        "d6 = dict(zip(data6, noisydata6))\n",
        "d7 = dict(zip(data7, noisydata7))\n",
        "d8 = dict(zip(data8, noisydata8))\n",
        "d9 = dict(zip(data9, noisydata9))"
      ],
      "execution_count": 89,
      "outputs": []
    },
    {
      "cell_type": "code",
      "metadata": {
        "id": "eDL8YGjiUTIV"
      },
      "source": [
        "# df[\"noiceCF\"] = df[\"Clump Thickness\"].map(res)\n",
        "# df[\"noiceCF\"]\n",
        "df[\"noice_Clump Thickness\"]=df[\"Clump Thickness\"].map(d1)\n",
        "df[\"noice_Uniformity of Cell Size\"]=df[\"Uniformity of Cell Size\"].map(d2)\n",
        "df[\"noice_Uniformity of Cell Shape\"]=df[\"Uniformity of Cell Shape\"].map(d3)\n",
        "df[\"noice_Marginal Adhesion\"]=df[\"Marginal Adhesion\"].map(d4)\n",
        "df[\"noice_Single Epithelial Cell Size\"]=df[\"Single Epithelial Cell Size\"].map(d5)\n",
        "df[\"noice_Bare Nuclei\"]=df[\"Bare Nuclei\"].map(d6)\n",
        "df[\"noice_Bland Chromatin\"]=df[\"Bland Chromatin\"].map(d7)\n",
        "df[\"noice_Normal Nucleoli\"]=df[\"Normal Nucleoli\"].map(d8)\n",
        "df[\"noice_Mitoses\"]=df[\"Mitoses\"].map(d9)"
      ],
      "execution_count": 90,
      "outputs": []
    },
    {
      "cell_type": "code",
      "metadata": {
        "id": "t0trVwloVZrR"
      },
      "source": [
        "# df"
      ],
      "execution_count": 91,
      "outputs": []
    },
    {
      "cell_type": "markdown",
      "metadata": {
        "id": "juJKaawPVwXp"
      },
      "source": [
        "## **BCWD data with classic exponential**"
      ]
    },
    {
      "cell_type": "code",
      "metadata": {
        "id": "WwvrWTkCV0Qa"
      },
      "source": [
        "# Library Declaration  \n",
        "import numpy as np\n",
        "import pandas as pd \n",
        "# Data Input\n",
        "df = pd.read_table('breast-cancer-wisconsin.data', sep=',', names=[\"Sample code number\", \"Clump Thickness\", \"Uniformity of Cell Size\", \"Uniformity of Cell Shape\", \"Marginal Adhesion\", \"Single Epithelial Cell Size\",\"Bare Nuclei\", \"Bland Chromatin\", \"Normal Nucleoli\",\"Mitoses\",\"Class\"]) \n",
        "# print(df.head)"
      ],
      "execution_count": 93,
      "outputs": []
    },
    {
      "cell_type": "code",
      "metadata": {
        "colab": {
          "base_uri": "https://localhost:8080/"
        },
        "id": "Vv-Ppu-lkZm4",
        "outputId": "30a90e02-adf2-491f-93ae-fcc35588919e"
      },
      "source": [
        "# Data Cleaning\n",
        "df[\"Bare Nuclei\"][df[\"Bare Nuclei\"]=='?']='0'\n",
        "df[\"Bare Nuclei\"] = df[\"Bare Nuclei\"].astype(str).astype(int)\n",
        "# df.info()\n",
        "# pd.to_numeric(df[\"Bare Nuclei\"])"
      ],
      "execution_count": 94,
      "outputs": [
        {
          "output_type": "stream",
          "text": [
            "/usr/local/lib/python3.6/dist-packages/ipykernel_launcher.py:2: SettingWithCopyWarning: \n",
            "A value is trying to be set on a copy of a slice from a DataFrame\n",
            "\n",
            "See the caveats in the documentation: https://pandas.pydata.org/pandas-docs/stable/user_guide/indexing.html#returning-a-view-versus-a-copy\n",
            "  \n"
          ],
          "name": "stderr"
        }
      ]
    },
    {
      "cell_type": "code",
      "metadata": {
        "colab": {
          "base_uri": "https://localhost:8080/"
        },
        "id": "hyY2xuGekc89",
        "outputId": "449d337e-e988-4b97-ec70-7fb3af44ffc5"
      },
      "source": [
        "# Data Cleaning\n",
        "df=df.drop([\"Sample code number\"], axis = 1)\n",
        "print(df.shape)"
      ],
      "execution_count": 95,
      "outputs": [
        {
          "output_type": "stream",
          "text": [
            "(699, 10)\n"
          ],
          "name": "stdout"
        }
      ]
    },
    {
      "cell_type": "code",
      "metadata": {
        "id": "Xw1rgU_nkc5_"
      },
      "source": [
        "# Data Cleaning\n",
        "def Class_value(Class): \n",
        "     if Class == 2: \n",
        "         return 1\n",
        "     else: \n",
        "         return 0\n",
        "  \n",
        "df['Class'] = df['Class'].apply(Class_value) \n",
        "#df['Class'].head(10)"
      ],
      "execution_count": 96,
      "outputs": []
    },
    {
      "cell_type": "code",
      "metadata": {
        "id": "DtazXMUTkc3R"
      },
      "source": [
        "sf=df\n",
        "y = sf[\"Class\"].astype(float).values.tolist()\n",
        "# y"
      ],
      "execution_count": 97,
      "outputs": []
    },
    {
      "cell_type": "code",
      "metadata": {
        "id": "uqR6PaB7kcz4"
      },
      "source": [
        "df=df.drop([\"Class\"], axis = 1)"
      ],
      "execution_count": 98,
      "outputs": []
    },
    {
      "cell_type": "code",
      "metadata": {
        "id": "evsT2dtNkcu_"
      },
      "source": [
        "import math\n",
        "data1=df[\"Clump Thickness\"].unique()\n",
        "data2=df[\"Uniformity of Cell Size\"].unique()\n",
        "data3=df[\"Uniformity of Cell Shape\"].unique()\n",
        "data4=df[\"Marginal Adhesion\"].unique()\n",
        "data5=df[\"Single Epithelial Cell Size\"].unique()\n",
        "data6=df[\"Bare Nuclei\"].unique()\n",
        "data7=df[\"Bland Chromatin\"].unique()\n",
        "data8=df[\"Normal Nucleoli\"].unique()\n",
        "data9=df[\"Mitoses\"].unique()"
      ],
      "execution_count": 99,
      "outputs": []
    },
    {
      "cell_type": "code",
      "metadata": {
        "id": "HJmLjyn8kcoh"
      },
      "source": [
        "Exponential_noise1 = np.random.exponential(1)\n",
        "Exponential_noise2 = np.random.exponential(1)\n",
        "Exponential_noise3 = np.random.exponential(1)\n",
        "Exponential_noise4 = np.random.exponential(1)\n",
        "Exponential_noise5 = np.random.exponential(1)\n",
        "Exponential_noise6 = np.random.exponential(1)\n",
        "Exponential_noise7 = np.random.exponential(1)\n",
        "Exponential_noise8 = np.random.exponential(1)\n",
        "Exponential_noise9 = np.random.exponential(1)"
      ],
      "execution_count": 100,
      "outputs": []
    },
    {
      "cell_type": "code",
      "metadata": {
        "id": "v7TGcjCNkcgb"
      },
      "source": [
        "# print(Exponential_noise2)"
      ],
      "execution_count": 101,
      "outputs": []
    },
    {
      "cell_type": "code",
      "metadata": {
        "id": "F5ICpNx1lBfY"
      },
      "source": [
        "noisydata1 = data1 + Exponential_noise1\n",
        "noisydata2 = data2 + Exponential_noise2\n",
        "noisydata3 = data3 + Exponential_noise3\n",
        "noisydata4 = data4 + Exponential_noise4\n",
        "noisydata5 = data5 + Exponential_noise5\n",
        "noisydata6 = data6 + Exponential_noise6\n",
        "noisydata7 = data7 + Exponential_noise7\n",
        "noisydata8 = data8 + Exponential_noise8\n",
        "noisydata9 = data9 + Exponential_noise9\n",
        "# noisydata"
      ],
      "execution_count": 102,
      "outputs": []
    },
    {
      "cell_type": "code",
      "metadata": {
        "id": "Y66tBo_Hl-zt"
      },
      "source": [
        "d1 = dict(zip(data1, noisydata1))\n",
        "d2 = dict(zip(data2, noisydata2))\n",
        "d3 = dict(zip(data3, noisydata3))\n",
        "d4 = dict(zip(data4, noisydata4))\n",
        "d5 = dict(zip(data5, noisydata5))\n",
        "d6 = dict(zip(data6, noisydata6))\n",
        "d7 = dict(zip(data7, noisydata7))\n",
        "d8 = dict(zip(data8, noisydata8))\n",
        "d9 = dict(zip(data9, noisydata9))"
      ],
      "execution_count": 103,
      "outputs": []
    },
    {
      "cell_type": "code",
      "metadata": {
        "id": "y94BOaPBmHAT"
      },
      "source": [
        "# df[\"noiceCF\"] = df[\"Clump Thickness\"].map(res)\n",
        "# df[\"noiceCF\"]\n",
        "df[\"noice_Clump Thickness\"]=df[\"Clump Thickness\"].map(d1)\n",
        "df[\"noice_Uniformity of Cell Size\"]=df[\"Uniformity of Cell Size\"].map(d2)\n",
        "df[\"noice_Uniformity of Cell Shape\"]=df[\"Uniformity of Cell Shape\"].map(d3)\n",
        "df[\"noice_Marginal Adhesion\"]=df[\"Marginal Adhesion\"].map(d4)\n",
        "df[\"noice_Single Epithelial Cell Size\"]=df[\"Single Epithelial Cell Size\"].map(d5)\n",
        "df[\"noice_Bare Nuclei\"]=df[\"Bare Nuclei\"].map(d6)\n",
        "df[\"noice_Bland Chromatin\"]=df[\"Bland Chromatin\"].map(d7)\n",
        "df[\"noice_Normal Nucleoli\"]=df[\"Normal Nucleoli\"].map(d8)\n",
        "df[\"noice_Mitoses\"]=df[\"Mitoses\"].map(d9)"
      ],
      "execution_count": 104,
      "outputs": []
    },
    {
      "cell_type": "code",
      "metadata": {
        "colab": {
          "base_uri": "https://localhost:8080/",
          "height": 473
        },
        "id": "ZqiYhPz1mNyS",
        "outputId": "4dd0200c-621b-4ccb-bd5c-de29152a9ba5"
      },
      "source": [
        "df"
      ],
      "execution_count": 105,
      "outputs": [
        {
          "output_type": "execute_result",
          "data": {
            "text/html": [
              "<div>\n",
              "<style scoped>\n",
              "    .dataframe tbody tr th:only-of-type {\n",
              "        vertical-align: middle;\n",
              "    }\n",
              "\n",
              "    .dataframe tbody tr th {\n",
              "        vertical-align: top;\n",
              "    }\n",
              "\n",
              "    .dataframe thead th {\n",
              "        text-align: right;\n",
              "    }\n",
              "</style>\n",
              "<table border=\"1\" class=\"dataframe\">\n",
              "  <thead>\n",
              "    <tr style=\"text-align: right;\">\n",
              "      <th></th>\n",
              "      <th>Clump Thickness</th>\n",
              "      <th>Uniformity of Cell Size</th>\n",
              "      <th>Uniformity of Cell Shape</th>\n",
              "      <th>Marginal Adhesion</th>\n",
              "      <th>Single Epithelial Cell Size</th>\n",
              "      <th>Bare Nuclei</th>\n",
              "      <th>Bland Chromatin</th>\n",
              "      <th>Normal Nucleoli</th>\n",
              "      <th>Mitoses</th>\n",
              "      <th>noice_Clump Thickness</th>\n",
              "      <th>noice_Uniformity of Cell Size</th>\n",
              "      <th>noice_Uniformity of Cell Shape</th>\n",
              "      <th>noice_Marginal Adhesion</th>\n",
              "      <th>noice_Single Epithelial Cell Size</th>\n",
              "      <th>noice_Bare Nuclei</th>\n",
              "      <th>noice_Bland Chromatin</th>\n",
              "      <th>noice_Normal Nucleoli</th>\n",
              "      <th>noice_Mitoses</th>\n",
              "    </tr>\n",
              "  </thead>\n",
              "  <tbody>\n",
              "    <tr>\n",
              "      <th>0</th>\n",
              "      <td>5</td>\n",
              "      <td>1</td>\n",
              "      <td>1</td>\n",
              "      <td>1</td>\n",
              "      <td>2</td>\n",
              "      <td>1</td>\n",
              "      <td>3</td>\n",
              "      <td>1</td>\n",
              "      <td>1</td>\n",
              "      <td>5.420455</td>\n",
              "      <td>2.171991</td>\n",
              "      <td>4.391569</td>\n",
              "      <td>1.393474</td>\n",
              "      <td>3.250389</td>\n",
              "      <td>1.086701</td>\n",
              "      <td>3.805526</td>\n",
              "      <td>1.119149</td>\n",
              "      <td>3.405462</td>\n",
              "    </tr>\n",
              "    <tr>\n",
              "      <th>1</th>\n",
              "      <td>5</td>\n",
              "      <td>4</td>\n",
              "      <td>4</td>\n",
              "      <td>5</td>\n",
              "      <td>7</td>\n",
              "      <td>10</td>\n",
              "      <td>3</td>\n",
              "      <td>2</td>\n",
              "      <td>1</td>\n",
              "      <td>5.420455</td>\n",
              "      <td>5.171991</td>\n",
              "      <td>7.391569</td>\n",
              "      <td>5.393474</td>\n",
              "      <td>8.250389</td>\n",
              "      <td>10.086701</td>\n",
              "      <td>3.805526</td>\n",
              "      <td>2.119149</td>\n",
              "      <td>3.405462</td>\n",
              "    </tr>\n",
              "    <tr>\n",
              "      <th>2</th>\n",
              "      <td>3</td>\n",
              "      <td>1</td>\n",
              "      <td>1</td>\n",
              "      <td>1</td>\n",
              "      <td>2</td>\n",
              "      <td>2</td>\n",
              "      <td>3</td>\n",
              "      <td>1</td>\n",
              "      <td>1</td>\n",
              "      <td>3.420455</td>\n",
              "      <td>2.171991</td>\n",
              "      <td>4.391569</td>\n",
              "      <td>1.393474</td>\n",
              "      <td>3.250389</td>\n",
              "      <td>2.086701</td>\n",
              "      <td>3.805526</td>\n",
              "      <td>1.119149</td>\n",
              "      <td>3.405462</td>\n",
              "    </tr>\n",
              "    <tr>\n",
              "      <th>3</th>\n",
              "      <td>6</td>\n",
              "      <td>8</td>\n",
              "      <td>8</td>\n",
              "      <td>1</td>\n",
              "      <td>3</td>\n",
              "      <td>4</td>\n",
              "      <td>3</td>\n",
              "      <td>7</td>\n",
              "      <td>1</td>\n",
              "      <td>6.420455</td>\n",
              "      <td>9.171991</td>\n",
              "      <td>11.391569</td>\n",
              "      <td>1.393474</td>\n",
              "      <td>4.250389</td>\n",
              "      <td>4.086701</td>\n",
              "      <td>3.805526</td>\n",
              "      <td>7.119149</td>\n",
              "      <td>3.405462</td>\n",
              "    </tr>\n",
              "    <tr>\n",
              "      <th>4</th>\n",
              "      <td>4</td>\n",
              "      <td>1</td>\n",
              "      <td>1</td>\n",
              "      <td>3</td>\n",
              "      <td>2</td>\n",
              "      <td>1</td>\n",
              "      <td>3</td>\n",
              "      <td>1</td>\n",
              "      <td>1</td>\n",
              "      <td>4.420455</td>\n",
              "      <td>2.171991</td>\n",
              "      <td>4.391569</td>\n",
              "      <td>3.393474</td>\n",
              "      <td>3.250389</td>\n",
              "      <td>1.086701</td>\n",
              "      <td>3.805526</td>\n",
              "      <td>1.119149</td>\n",
              "      <td>3.405462</td>\n",
              "    </tr>\n",
              "    <tr>\n",
              "      <th>...</th>\n",
              "      <td>...</td>\n",
              "      <td>...</td>\n",
              "      <td>...</td>\n",
              "      <td>...</td>\n",
              "      <td>...</td>\n",
              "      <td>...</td>\n",
              "      <td>...</td>\n",
              "      <td>...</td>\n",
              "      <td>...</td>\n",
              "      <td>...</td>\n",
              "      <td>...</td>\n",
              "      <td>...</td>\n",
              "      <td>...</td>\n",
              "      <td>...</td>\n",
              "      <td>...</td>\n",
              "      <td>...</td>\n",
              "      <td>...</td>\n",
              "      <td>...</td>\n",
              "    </tr>\n",
              "    <tr>\n",
              "      <th>694</th>\n",
              "      <td>3</td>\n",
              "      <td>1</td>\n",
              "      <td>1</td>\n",
              "      <td>1</td>\n",
              "      <td>3</td>\n",
              "      <td>2</td>\n",
              "      <td>1</td>\n",
              "      <td>1</td>\n",
              "      <td>1</td>\n",
              "      <td>3.420455</td>\n",
              "      <td>2.171991</td>\n",
              "      <td>4.391569</td>\n",
              "      <td>1.393474</td>\n",
              "      <td>4.250389</td>\n",
              "      <td>2.086701</td>\n",
              "      <td>1.805526</td>\n",
              "      <td>1.119149</td>\n",
              "      <td>3.405462</td>\n",
              "    </tr>\n",
              "    <tr>\n",
              "      <th>695</th>\n",
              "      <td>2</td>\n",
              "      <td>1</td>\n",
              "      <td>1</td>\n",
              "      <td>1</td>\n",
              "      <td>2</td>\n",
              "      <td>1</td>\n",
              "      <td>1</td>\n",
              "      <td>1</td>\n",
              "      <td>1</td>\n",
              "      <td>2.420455</td>\n",
              "      <td>2.171991</td>\n",
              "      <td>4.391569</td>\n",
              "      <td>1.393474</td>\n",
              "      <td>3.250389</td>\n",
              "      <td>1.086701</td>\n",
              "      <td>1.805526</td>\n",
              "      <td>1.119149</td>\n",
              "      <td>3.405462</td>\n",
              "    </tr>\n",
              "    <tr>\n",
              "      <th>696</th>\n",
              "      <td>5</td>\n",
              "      <td>10</td>\n",
              "      <td>10</td>\n",
              "      <td>3</td>\n",
              "      <td>7</td>\n",
              "      <td>3</td>\n",
              "      <td>8</td>\n",
              "      <td>10</td>\n",
              "      <td>2</td>\n",
              "      <td>5.420455</td>\n",
              "      <td>11.171991</td>\n",
              "      <td>13.391569</td>\n",
              "      <td>3.393474</td>\n",
              "      <td>8.250389</td>\n",
              "      <td>3.086701</td>\n",
              "      <td>8.805526</td>\n",
              "      <td>10.119149</td>\n",
              "      <td>4.405462</td>\n",
              "    </tr>\n",
              "    <tr>\n",
              "      <th>697</th>\n",
              "      <td>4</td>\n",
              "      <td>8</td>\n",
              "      <td>6</td>\n",
              "      <td>4</td>\n",
              "      <td>3</td>\n",
              "      <td>4</td>\n",
              "      <td>10</td>\n",
              "      <td>6</td>\n",
              "      <td>1</td>\n",
              "      <td>4.420455</td>\n",
              "      <td>9.171991</td>\n",
              "      <td>9.391569</td>\n",
              "      <td>4.393474</td>\n",
              "      <td>4.250389</td>\n",
              "      <td>4.086701</td>\n",
              "      <td>10.805526</td>\n",
              "      <td>6.119149</td>\n",
              "      <td>3.405462</td>\n",
              "    </tr>\n",
              "    <tr>\n",
              "      <th>698</th>\n",
              "      <td>4</td>\n",
              "      <td>8</td>\n",
              "      <td>8</td>\n",
              "      <td>5</td>\n",
              "      <td>4</td>\n",
              "      <td>5</td>\n",
              "      <td>10</td>\n",
              "      <td>4</td>\n",
              "      <td>1</td>\n",
              "      <td>4.420455</td>\n",
              "      <td>9.171991</td>\n",
              "      <td>11.391569</td>\n",
              "      <td>5.393474</td>\n",
              "      <td>5.250389</td>\n",
              "      <td>5.086701</td>\n",
              "      <td>10.805526</td>\n",
              "      <td>4.119149</td>\n",
              "      <td>3.405462</td>\n",
              "    </tr>\n",
              "  </tbody>\n",
              "</table>\n",
              "<p>699 rows × 18 columns</p>\n",
              "</div>"
            ],
            "text/plain": [
              "     Clump Thickness  ...  noice_Mitoses\n",
              "0                  5  ...       3.405462\n",
              "1                  5  ...       3.405462\n",
              "2                  3  ...       3.405462\n",
              "3                  6  ...       3.405462\n",
              "4                  4  ...       3.405462\n",
              "..               ...  ...            ...\n",
              "694                3  ...       3.405462\n",
              "695                2  ...       3.405462\n",
              "696                5  ...       4.405462\n",
              "697                4  ...       3.405462\n",
              "698                4  ...       3.405462\n",
              "\n",
              "[699 rows x 18 columns]"
            ]
          },
          "metadata": {
            "tags": []
          },
          "execution_count": 105
        }
      ]
    },
    {
      "cell_type": "markdown",
      "metadata": {
        "id": "GOAAAp_zpBdI"
      },
      "source": [
        "## **BCWD data with epsilon Laplace**"
      ]
    },
    {
      "cell_type": "code",
      "metadata": {
        "id": "ikuRKIJKmUsi"
      },
      "source": [
        "# Library Declaration  \n",
        "import numpy as np\n",
        "import pandas as pd \n",
        "# Data Input\n",
        "df = pd.read_table('breast-cancer-wisconsin.data', sep=',', names=[\"Sample code number\", \"Clump Thickness\", \"Uniformity of Cell Size\", \"Uniformity of Cell Shape\", \"Marginal Adhesion\", \"Single Epithelial Cell Size\",\"Bare Nuclei\", \"Bland Chromatin\", \"Normal Nucleoli\",\"Mitoses\",\"Class\"]) \n",
        "# print(df.head)"
      ],
      "execution_count": 106,
      "outputs": []
    },
    {
      "cell_type": "code",
      "metadata": {
        "colab": {
          "base_uri": "https://localhost:8080/"
        },
        "id": "k3FuNGcRpUXB",
        "outputId": "e96ad2a2-edaf-47f5-a0af-7ee5274363e1"
      },
      "source": [
        "# Data Cleaning\n",
        "df[\"Bare Nuclei\"][df[\"Bare Nuclei\"]=='?']='0'\n",
        "df[\"Bare Nuclei\"] = df[\"Bare Nuclei\"].astype(str).astype(int)\n",
        "# df.info()\n",
        "# pd.to_numeric(df[\"Bare Nuclei\"])"
      ],
      "execution_count": 107,
      "outputs": [
        {
          "output_type": "stream",
          "text": [
            "/usr/local/lib/python3.6/dist-packages/ipykernel_launcher.py:2: SettingWithCopyWarning: \n",
            "A value is trying to be set on a copy of a slice from a DataFrame\n",
            "\n",
            "See the caveats in the documentation: https://pandas.pydata.org/pandas-docs/stable/user_guide/indexing.html#returning-a-view-versus-a-copy\n",
            "  \n"
          ],
          "name": "stderr"
        }
      ]
    },
    {
      "cell_type": "code",
      "metadata": {
        "colab": {
          "base_uri": "https://localhost:8080/"
        },
        "id": "l8VoDg_YpWFs",
        "outputId": "be89cccf-006b-403c-de22-6c24563f7611"
      },
      "source": [
        "# Data Cleaning\n",
        "df=df.drop([\"Sample code number\"], axis = 1)\n",
        "print(df.shape)"
      ],
      "execution_count": 108,
      "outputs": [
        {
          "output_type": "stream",
          "text": [
            "(699, 10)\n"
          ],
          "name": "stdout"
        }
      ]
    },
    {
      "cell_type": "code",
      "metadata": {
        "id": "pKJrosmMpYm0"
      },
      "source": [
        "# Data Cleaning\n",
        "def Class_value(Class): \n",
        "     if Class == 2: \n",
        "         return 1\n",
        "     else: \n",
        "         return 0\n",
        "  \n",
        "df['Class'] = df['Class'].apply(Class_value) \n",
        "#df['Class'].head(10)"
      ],
      "execution_count": null,
      "outputs": []
    },
    {
      "cell_type": "code",
      "metadata": {
        "id": "7gvZCtDYpezV"
      },
      "source": [
        "sf=df\n",
        "y = sf[\"Class\"].astype(float).values.tolist()\n",
        "# y"
      ],
      "execution_count": 109,
      "outputs": []
    },
    {
      "cell_type": "code",
      "metadata": {
        "id": "4rrPU3wipfJM"
      },
      "source": [
        "df=df.drop([\"Class\"], axis = 1)"
      ],
      "execution_count": 110,
      "outputs": []
    },
    {
      "cell_type": "code",
      "metadata": {
        "id": "j2H8KVOOpjVb"
      },
      "source": [
        "# def Laplacian_func(eps):     \n",
        "#  x = 0.01\n",
        "#  mu = 0                    # mean\n",
        "#  return ((eps/2.0) * np.exp(-abs(x - mu)*eps))"
      ],
      "execution_count": null,
      "outputs": []
    },
    {
      "cell_type": "code",
      "metadata": {
        "id": "Tl7Dc0_Sq-9s"
      },
      "source": [
        "def Laplacian_func(x,eps):\n",
        "  return ((eps/2.0) * np.exp(-abs(x)*eps))"
      ],
      "execution_count": null,
      "outputs": []
    },
    {
      "cell_type": "code",
      "metadata": {
        "id": "bCjd2UGsqs1f"
      },
      "source": [
        "# noise = Laplacian_func(0.1)\n",
        "# noisydata = datacount + noise"
      ],
      "execution_count": null,
      "outputs": []
    },
    {
      "cell_type": "code",
      "metadata": {
        "id": "5bFVMobhs8Ee"
      },
      "source": [
        "data1=df[\"Clump Thickness\"].unique()\n",
        "data2=df[\"Uniformity of Cell Size\"].unique()\n",
        "data3=df[\"Uniformity of Cell Shape\"].unique()\n",
        "data4=df[\"Marginal Adhesion\"].unique()\n",
        "data5=df[\"Single Epithelial Cell Size\"].unique()\n",
        "data6=df[\"Bare Nuclei\"].unique()\n",
        "data7=df[\"Bland Chromatin\"].unique()\n",
        "data8=df[\"Normal Nucleoli\"].unique()\n",
        "data9=df[\"Mitoses\"].unique()"
      ],
      "execution_count": null,
      "outputs": []
    },
    {
      "cell_type": "code",
      "metadata": {
        "id": "CPrAPOifr4Xn"
      },
      "source": [
        "ep=0.1\n",
        "Laplacian_noise1 = Laplacian_func(location,scale, ep)\n",
        "Laplacian_noise2 = Laplacian_func(location,scale, ep)\n",
        "Laplacian_noise3 = Laplacian_func(location,scale, ep)\n",
        "Laplacian_noise4 = Laplacian_func(location,scale, ep)\n",
        "Laplacian_noise5 = Laplacian_func(location,scale, ep)\n",
        "Laplacian_noise6 = Laplacian_func(location,scale, ep)\n",
        "Laplacian_noise7 = Laplacian_func(location,scale, ep)\n",
        "Laplacian_noise8 = Laplacian_func(location,scale, ep)\n",
        "Laplacian_noise9 = Laplacian_func(location,scale, ep)"
      ],
      "execution_count": null,
      "outputs": []
    },
    {
      "cell_type": "code",
      "metadata": {
        "id": "JOhtqHZ4s6vF"
      },
      "source": [
        ""
      ],
      "execution_count": null,
      "outputs": []
    }
  ]
}
