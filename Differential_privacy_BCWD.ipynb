{
  "nbformat": 4,
  "nbformat_minor": 0,
  "metadata": {
    "colab": {
      "name": "Differential privacy.ipynb",
      "provenance": [],
      "toc_visible": true,
      "authorship_tag": "ABX9TyMq3w6TQN6QZ+zJmyjFVlhU",
      "include_colab_link": true
    },
    "kernelspec": {
      "name": "python3",
      "display_name": "Python 3"
    }
  },
  "cells": [
    {
      "cell_type": "markdown",
      "metadata": {
        "id": "view-in-github",
        "colab_type": "text"
      },
      "source": [
        "<a href=\"https://colab.research.google.com/github/Rakib-Ul-Haque/Differential_Privacy/blob/main/Differential_privacy_BCWD.ipynb\" target=\"_parent\"><img src=\"https://colab.research.google.com/assets/colab-badge.svg\" alt=\"Open In Colab\"/></a>"
      ]
    },
    {
      "cell_type": "markdown",
      "metadata": {
        "id": "lNxlkTH57ORz"
      },
      "source": [
        "## **BCWD data with classic Laplace**"
      ]
    },
    {
      "cell_type": "code",
      "metadata": {
        "id": "J042dyQx0m8N"
      },
      "source": [
        "# Library Declaration  \n",
        "import numpy as np\n",
        "import pandas as pd \n",
        "# Data Input\n",
        "df = pd.read_table('breast-cancer-wisconsin.data', sep=',', names=[\"Sample code number\", \"Clump Thickness\", \"Uniformity of Cell Size\", \"Uniformity of Cell Shape\", \"Marginal Adhesion\", \"Single Epithelial Cell Size\",\"Bare Nuclei\", \"Bland Chromatin\", \"Normal Nucleoli\",\"Mitoses\",\"Class\"]) \n",
        "# print(df.head)"
      ],
      "execution_count": 1,
      "outputs": []
    },
    {
      "cell_type": "code",
      "metadata": {
        "colab": {
          "base_uri": "https://localhost:8080/"
        },
        "id": "Jp-EQV9r1yww",
        "outputId": "df4b8da5-26db-4fa3-8231-50dc2b45e3e2"
      },
      "source": [
        "# Data Cleaning\n",
        "df[\"Bare Nuclei\"][df[\"Bare Nuclei\"]=='?']='0'\n",
        "df[\"Bare Nuclei\"] = df[\"Bare Nuclei\"].astype(str).astype(int)\n",
        "# df.info()\n",
        "# pd.to_numeric(df[\"Bare Nuclei\"])"
      ],
      "execution_count": 2,
      "outputs": [
        {
          "output_type": "stream",
          "text": [
            "/usr/local/lib/python3.6/dist-packages/ipykernel_launcher.py:2: SettingWithCopyWarning: \n",
            "A value is trying to be set on a copy of a slice from a DataFrame\n",
            "\n",
            "See the caveats in the documentation: https://pandas.pydata.org/pandas-docs/stable/user_guide/indexing.html#returning-a-view-versus-a-copy\n",
            "  \n"
          ],
          "name": "stderr"
        }
      ]
    },
    {
      "cell_type": "code",
      "metadata": {
        "colab": {
          "base_uri": "https://localhost:8080/"
        },
        "id": "NzcdTB3e10_V",
        "outputId": "5196afe6-823f-40c3-d7eb-37c2b210e6a4"
      },
      "source": [
        "# Data Cleaning\n",
        "df=df.drop([\"Sample code number\"], axis = 1)\n",
        "print(df.shape)"
      ],
      "execution_count": 3,
      "outputs": [
        {
          "output_type": "stream",
          "text": [
            "(699, 10)\n"
          ],
          "name": "stdout"
        }
      ]
    },
    {
      "cell_type": "code",
      "metadata": {
        "id": "NrPfIzpF13lN"
      },
      "source": [
        "# Data Cleaning\n",
        "def Class_value(Class): \n",
        "     if Class == 2: \n",
        "         return 1\n",
        "     else: \n",
        "         return 0\n",
        "  \n",
        "df['Class'] = df['Class'].apply(Class_value) \n",
        "#df['Class'].head(10)"
      ],
      "execution_count": 4,
      "outputs": []
    },
    {
      "cell_type": "code",
      "metadata": {
        "id": "yjRZ72ym15qE"
      },
      "source": [
        "sf=df\n",
        "y = sf[\"Class\"].astype(float).values.tolist()\n",
        "# y"
      ],
      "execution_count": 5,
      "outputs": []
    },
    {
      "cell_type": "code",
      "metadata": {
        "id": "xqPocp1c1-y_"
      },
      "source": [
        "df=df.drop([\"Class\"], axis = 1)"
      ],
      "execution_count": 6,
      "outputs": []
    },
    {
      "cell_type": "code",
      "metadata": {
        "id": "w_dnTn_k2EnP"
      },
      "source": [
        "# dataset = df.astype(float).values.tolist()\n",
        "# dataset"
      ],
      "execution_count": 7,
      "outputs": []
    },
    {
      "cell_type": "code",
      "metadata": {
        "id": "PKosD5Gk2OLm"
      },
      "source": [
        "# df[\"Clump Thickness\"].head()"
      ],
      "execution_count": 8,
      "outputs": []
    },
    {
      "cell_type": "code",
      "metadata": {
        "id": "bbiLf_hvh_RB"
      },
      "source": [
        "# df[\"Clump Thickness\"].min()\n",
        "# df[\"Clump Thickness\"].max()\n",
        "# len(df[\"Clump Thickness\"])"
      ],
      "execution_count": 9,
      "outputs": []
    },
    {
      "cell_type": "code",
      "metadata": {
        "id": "y5m4jf-Vo9wZ"
      },
      "source": [
        "import math"
      ],
      "execution_count": 10,
      "outputs": []
    },
    {
      "cell_type": "code",
      "metadata": {
        "id": "16QAz-1I30OD"
      },
      "source": [
        "# ep=1\n",
        "# def Lap(x,b):\n",
        "#   # print(x)\n",
        "#   # print(\"bget\",b)\n",
        "#   temp=(math.exp(-(abs(x)*b)))*(b/2)\n",
        "#   # print(\"noice: \",temp)\n",
        "#   return temp\n",
        "\n",
        "\n",
        "# for i in df[\"Clump Thickness\"]:\n",
        "#   noice=Lap((df[\"Clump Thickness\"].max()-df[\"Clump Thickness\"].min()),(ep))\n",
        "#   # noice=Lap((i),(ep))\n",
        "#   # data=i+noice\n",
        "#   print(noice)"
      ],
      "execution_count": 11,
      "outputs": []
    },
    {
      "cell_type": "code",
      "metadata": {
        "id": "4PjGPrU4oyLU"
      },
      "source": [
        "# sss=0.0027772491345605765\n",
        "# ssss=6.170490204333978e-05\n",
        "# if sss>ssss:\n",
        "#   print(\"sss:\",sss)\n",
        "# else:\n",
        "#   print(\"ssss:\",ssss)\n",
        "# abs(-1.4)\n",
        "# math.exp(-((62910-4.5)/0.5))"
      ],
      "execution_count": 12,
      "outputs": []
    },
    {
      "cell_type": "code",
      "metadata": {
        "id": "5bgWQRbRjJIs"
      },
      "source": [
        "# df[\"Clump Thickness\"].mean()"
      ],
      "execution_count": 13,
      "outputs": []
    },
    {
      "cell_type": "code",
      "metadata": {
        "id": "GT5OV-6YsJCn"
      },
      "source": [
        "# datacount = df[\"Clump Thickness\"].value_counts()\n",
        "# datacount = df[\"Clump Thickness\"].value_counts()\n"
      ],
      "execution_count": 14,
      "outputs": []
    },
    {
      "cell_type": "code",
      "metadata": {
        "id": "GuP8GvLQOyV6"
      },
      "source": [
        "import math\n",
        "data1=df[\"Clump Thickness\"].unique()\n",
        "data2=df[\"Uniformity of Cell Size\"].unique()\n",
        "data3=df[\"Uniformity of Cell Shape\"].unique()\n",
        "data4=df[\"Marginal Adhesion\"].unique()\n",
        "data5=df[\"Single Epithelial Cell Size\"].unique()\n",
        "data6=df[\"Bare Nuclei\"].unique()\n",
        "data7=df[\"Bland Chromatin\"].unique()\n",
        "data8=df[\"Normal Nucleoli\"].unique()\n",
        "data9=df[\"Mitoses\"].unique()"
      ],
      "execution_count": 15,
      "outputs": []
    },
    {
      "cell_type": "code",
      "metadata": {
        "id": "29ytOwfMNKHf"
      },
      "source": [
        "location = 1.0\n",
        "scale = 0.1"
      ],
      "execution_count": 16,
      "outputs": []
    },
    {
      "cell_type": "code",
      "metadata": {
        "id": "6JHfqW4hNSRA"
      },
      "source": [
        "Laplacian_noise1 = np.random.laplace(location,scale, len(data1))\n",
        "Laplacian_noise2 = np.random.laplace(location,scale, len(data2))\n",
        "Laplacian_noise3 = np.random.laplace(location,scale, len(data3))\n",
        "Laplacian_noise4 = np.random.laplace(location,scale, len(data4))\n",
        "Laplacian_noise5 = np.random.laplace(location,scale, len(data5))\n",
        "Laplacian_noise6 = np.random.laplace(location,scale, len(data6))\n",
        "Laplacian_noise7 = np.random.laplace(location,scale, len(data7))\n",
        "Laplacian_noise8 = np.random.laplace(location,scale, len(data8))\n",
        "Laplacian_noise9 = np.random.laplace(location,scale, len(data9))\n",
        "# print(Laplacian_noise)"
      ],
      "execution_count": 17,
      "outputs": []
    },
    {
      "cell_type": "code",
      "metadata": {
        "id": "g2iyepaYNmYc"
      },
      "source": [
        "noisydata1 = data1 + Laplacian_noise1\n",
        "noisydata2 = data2 + Laplacian_noise2\n",
        "noisydata3 = data3 + Laplacian_noise3\n",
        "noisydata4 = data4 + Laplacian_noise4\n",
        "noisydata5 = data5 + Laplacian_noise5\n",
        "noisydata6 = data6 + Laplacian_noise6\n",
        "noisydata7 = data7 + Laplacian_noise7\n",
        "noisydata8 = data8 + Laplacian_noise8\n",
        "noisydata9 = data9 + Laplacian_noise9\n",
        "# noisydata"
      ],
      "execution_count": 18,
      "outputs": []
    },
    {
      "cell_type": "code",
      "metadata": {
        "id": "qJfKtzkEODKG"
      },
      "source": [
        "d1 = dict(zip(data1, noisydata1))\n",
        "d2 = dict(zip(data2, noisydata2))\n",
        "d3 = dict(zip(data3, noisydata3))\n",
        "d4 = dict(zip(data4, noisydata4))\n",
        "d5 = dict(zip(data5, noisydata5))\n",
        "d6 = dict(zip(data6, noisydata6))\n",
        "d7 = dict(zip(data7, noisydata7))\n",
        "d8 = dict(zip(data8, noisydata8))\n",
        "d9 = dict(zip(data9, noisydata9))"
      ],
      "execution_count": 19,
      "outputs": []
    },
    {
      "cell_type": "code",
      "metadata": {
        "id": "eDL8YGjiUTIV"
      },
      "source": [
        "# df[\"noiceCF\"] = df[\"Clump Thickness\"].map(res)\n",
        "# df[\"noiceCF\"]\n",
        "df[\"noice_Clump Thickness\"]=df[\"Clump Thickness\"].map(d1)\n",
        "df[\"noice_Uniformity of Cell Size\"]=df[\"Uniformity of Cell Size\"].map(d2)\n",
        "df[\"noice_Uniformity of Cell Shape\"]=df[\"Uniformity of Cell Shape\"].map(d3)\n",
        "df[\"noice_Marginal Adhesion\"]=df[\"Marginal Adhesion\"].map(d4)\n",
        "df[\"noice_Single Epithelial Cell Size\"]=df[\"Single Epithelial Cell Size\"].map(d5)\n",
        "df[\"noice_Bare Nuclei\"]=df[\"Bare Nuclei\"].map(d6)\n",
        "df[\"noice_Bland Chromatin\"]=df[\"Bland Chromatin\"].map(d7)\n",
        "df[\"noice_Normal Nucleoli\"]=df[\"Normal Nucleoli\"].map(d8)\n",
        "df[\"noice_Mitoses\"]=df[\"Mitoses\"].map(d9)"
      ],
      "execution_count": 20,
      "outputs": []
    },
    {
      "cell_type": "code",
      "metadata": {
        "id": "t0trVwloVZrR",
        "colab": {
          "base_uri": "https://localhost:8080/",
          "height": 473
        },
        "outputId": "13bb7036-25b5-4218-a41a-fb9900665dc3"
      },
      "source": [
        "df=df.drop([\"Clump Thickness\", \"Uniformity of Cell Size\", \"Uniformity of Cell Shape\", \"Marginal Adhesion\",\"Single Epithelial Cell Size\", \"Bare Nuclei\", \"Bland Chromatin\", \"Normal Nucleoli\", \"Mitoses\"], axis=1)"
      ],
      "execution_count": 21,
      "outputs": [
        {
          "output_type": "execute_result",
          "data": {
            "text/html": [
              "<div>\n",
              "<style scoped>\n",
              "    .dataframe tbody tr th:only-of-type {\n",
              "        vertical-align: middle;\n",
              "    }\n",
              "\n",
              "    .dataframe tbody tr th {\n",
              "        vertical-align: top;\n",
              "    }\n",
              "\n",
              "    .dataframe thead th {\n",
              "        text-align: right;\n",
              "    }\n",
              "</style>\n",
              "<table border=\"1\" class=\"dataframe\">\n",
              "  <thead>\n",
              "    <tr style=\"text-align: right;\">\n",
              "      <th></th>\n",
              "      <th>noice_Clump Thickness</th>\n",
              "      <th>noice_Uniformity of Cell Size</th>\n",
              "      <th>noice_Uniformity of Cell Shape</th>\n",
              "      <th>noice_Marginal Adhesion</th>\n",
              "      <th>noice_Single Epithelial Cell Size</th>\n",
              "      <th>noice_Bare Nuclei</th>\n",
              "      <th>noice_Bland Chromatin</th>\n",
              "      <th>noice_Normal Nucleoli</th>\n",
              "      <th>noice_Mitoses</th>\n",
              "    </tr>\n",
              "  </thead>\n",
              "  <tbody>\n",
              "    <tr>\n",
              "      <th>0</th>\n",
              "      <td>5.987621</td>\n",
              "      <td>1.875802</td>\n",
              "      <td>1.962391</td>\n",
              "      <td>1.999414</td>\n",
              "      <td>2.969821</td>\n",
              "      <td>1.981674</td>\n",
              "      <td>3.770324</td>\n",
              "      <td>2.298516</td>\n",
              "      <td>2.198131</td>\n",
              "    </tr>\n",
              "    <tr>\n",
              "      <th>1</th>\n",
              "      <td>5.987621</td>\n",
              "      <td>4.992940</td>\n",
              "      <td>5.002021</td>\n",
              "      <td>6.024010</td>\n",
              "      <td>8.000770</td>\n",
              "      <td>11.016685</td>\n",
              "      <td>3.770324</td>\n",
              "      <td>2.976672</td>\n",
              "      <td>2.198131</td>\n",
              "    </tr>\n",
              "    <tr>\n",
              "      <th>2</th>\n",
              "      <td>3.964995</td>\n",
              "      <td>1.875802</td>\n",
              "      <td>1.962391</td>\n",
              "      <td>1.999414</td>\n",
              "      <td>2.969821</td>\n",
              "      <td>3.254935</td>\n",
              "      <td>3.770324</td>\n",
              "      <td>2.298516</td>\n",
              "      <td>2.198131</td>\n",
              "    </tr>\n",
              "    <tr>\n",
              "      <th>3</th>\n",
              "      <td>6.983850</td>\n",
              "      <td>8.910015</td>\n",
              "      <td>8.971155</td>\n",
              "      <td>1.999414</td>\n",
              "      <td>3.972086</td>\n",
              "      <td>4.847445</td>\n",
              "      <td>3.770324</td>\n",
              "      <td>8.008036</td>\n",
              "      <td>2.198131</td>\n",
              "    </tr>\n",
              "    <tr>\n",
              "      <th>4</th>\n",
              "      <td>5.061381</td>\n",
              "      <td>1.875802</td>\n",
              "      <td>1.962391</td>\n",
              "      <td>4.039305</td>\n",
              "      <td>2.969821</td>\n",
              "      <td>1.981674</td>\n",
              "      <td>3.770324</td>\n",
              "      <td>2.298516</td>\n",
              "      <td>2.198131</td>\n",
              "    </tr>\n",
              "    <tr>\n",
              "      <th>...</th>\n",
              "      <td>...</td>\n",
              "      <td>...</td>\n",
              "      <td>...</td>\n",
              "      <td>...</td>\n",
              "      <td>...</td>\n",
              "      <td>...</td>\n",
              "      <td>...</td>\n",
              "      <td>...</td>\n",
              "      <td>...</td>\n",
              "    </tr>\n",
              "    <tr>\n",
              "      <th>694</th>\n",
              "      <td>3.964995</td>\n",
              "      <td>1.875802</td>\n",
              "      <td>1.962391</td>\n",
              "      <td>1.999414</td>\n",
              "      <td>3.972086</td>\n",
              "      <td>3.254935</td>\n",
              "      <td>1.937865</td>\n",
              "      <td>2.298516</td>\n",
              "      <td>2.198131</td>\n",
              "    </tr>\n",
              "    <tr>\n",
              "      <th>695</th>\n",
              "      <td>2.844824</td>\n",
              "      <td>1.875802</td>\n",
              "      <td>1.962391</td>\n",
              "      <td>1.999414</td>\n",
              "      <td>2.969821</td>\n",
              "      <td>1.981674</td>\n",
              "      <td>1.937865</td>\n",
              "      <td>2.298516</td>\n",
              "      <td>2.198131</td>\n",
              "    </tr>\n",
              "    <tr>\n",
              "      <th>696</th>\n",
              "      <td>5.987621</td>\n",
              "      <td>11.216139</td>\n",
              "      <td>11.006203</td>\n",
              "      <td>4.039305</td>\n",
              "      <td>8.000770</td>\n",
              "      <td>4.247945</td>\n",
              "      <td>9.051848</td>\n",
              "      <td>10.915148</td>\n",
              "      <td>3.046041</td>\n",
              "    </tr>\n",
              "    <tr>\n",
              "      <th>697</th>\n",
              "      <td>5.061381</td>\n",
              "      <td>8.910015</td>\n",
              "      <td>7.053505</td>\n",
              "      <td>4.962403</td>\n",
              "      <td>3.972086</td>\n",
              "      <td>4.847445</td>\n",
              "      <td>11.154835</td>\n",
              "      <td>6.942133</td>\n",
              "      <td>2.198131</td>\n",
              "    </tr>\n",
              "    <tr>\n",
              "      <th>698</th>\n",
              "      <td>5.061381</td>\n",
              "      <td>8.910015</td>\n",
              "      <td>8.971155</td>\n",
              "      <td>6.024010</td>\n",
              "      <td>4.809723</td>\n",
              "      <td>5.935330</td>\n",
              "      <td>11.154835</td>\n",
              "      <td>5.077366</td>\n",
              "      <td>2.198131</td>\n",
              "    </tr>\n",
              "  </tbody>\n",
              "</table>\n",
              "<p>699 rows × 9 columns</p>\n",
              "</div>"
            ],
            "text/plain": [
              "     noice_Clump Thickness  ...  noice_Mitoses\n",
              "0                 5.987621  ...       2.198131\n",
              "1                 5.987621  ...       2.198131\n",
              "2                 3.964995  ...       2.198131\n",
              "3                 6.983850  ...       2.198131\n",
              "4                 5.061381  ...       2.198131\n",
              "..                     ...  ...            ...\n",
              "694               3.964995  ...       2.198131\n",
              "695               2.844824  ...       2.198131\n",
              "696               5.987621  ...       3.046041\n",
              "697               5.061381  ...       2.198131\n",
              "698               5.061381  ...       2.198131\n",
              "\n",
              "[699 rows x 9 columns]"
            ]
          },
          "metadata": {
            "tags": []
          },
          "execution_count": 21
        }
      ]
    },
    {
      "cell_type": "code",
      "metadata": {
        "colab": {
          "base_uri": "https://localhost:8080/",
          "height": 473
        },
        "id": "ygpKgRkz-wK5",
        "outputId": "bab2ad87-0827-4ede-c255-aa0389b45821"
      },
      "source": [
        "df"
      ],
      "execution_count": 22,
      "outputs": [
        {
          "output_type": "execute_result",
          "data": {
            "text/html": [
              "<div>\n",
              "<style scoped>\n",
              "    .dataframe tbody tr th:only-of-type {\n",
              "        vertical-align: middle;\n",
              "    }\n",
              "\n",
              "    .dataframe tbody tr th {\n",
              "        vertical-align: top;\n",
              "    }\n",
              "\n",
              "    .dataframe thead th {\n",
              "        text-align: right;\n",
              "    }\n",
              "</style>\n",
              "<table border=\"1\" class=\"dataframe\">\n",
              "  <thead>\n",
              "    <tr style=\"text-align: right;\">\n",
              "      <th></th>\n",
              "      <th>Clump Thickness</th>\n",
              "      <th>Uniformity of Cell Size</th>\n",
              "      <th>Uniformity of Cell Shape</th>\n",
              "      <th>Marginal Adhesion</th>\n",
              "      <th>Single Epithelial Cell Size</th>\n",
              "      <th>Bare Nuclei</th>\n",
              "      <th>Bland Chromatin</th>\n",
              "      <th>Normal Nucleoli</th>\n",
              "      <th>Mitoses</th>\n",
              "      <th>noice_Clump Thickness</th>\n",
              "      <th>noice_Uniformity of Cell Size</th>\n",
              "      <th>noice_Uniformity of Cell Shape</th>\n",
              "      <th>noice_Marginal Adhesion</th>\n",
              "      <th>noice_Single Epithelial Cell Size</th>\n",
              "      <th>noice_Bare Nuclei</th>\n",
              "      <th>noice_Bland Chromatin</th>\n",
              "      <th>noice_Normal Nucleoli</th>\n",
              "      <th>noice_Mitoses</th>\n",
              "    </tr>\n",
              "  </thead>\n",
              "  <tbody>\n",
              "    <tr>\n",
              "      <th>0</th>\n",
              "      <td>5</td>\n",
              "      <td>1</td>\n",
              "      <td>1</td>\n",
              "      <td>1</td>\n",
              "      <td>2</td>\n",
              "      <td>1</td>\n",
              "      <td>3</td>\n",
              "      <td>1</td>\n",
              "      <td>1</td>\n",
              "      <td>5.987621</td>\n",
              "      <td>1.875802</td>\n",
              "      <td>1.962391</td>\n",
              "      <td>1.999414</td>\n",
              "      <td>2.969821</td>\n",
              "      <td>1.981674</td>\n",
              "      <td>3.770324</td>\n",
              "      <td>2.298516</td>\n",
              "      <td>2.198131</td>\n",
              "    </tr>\n",
              "    <tr>\n",
              "      <th>1</th>\n",
              "      <td>5</td>\n",
              "      <td>4</td>\n",
              "      <td>4</td>\n",
              "      <td>5</td>\n",
              "      <td>7</td>\n",
              "      <td>10</td>\n",
              "      <td>3</td>\n",
              "      <td>2</td>\n",
              "      <td>1</td>\n",
              "      <td>5.987621</td>\n",
              "      <td>4.992940</td>\n",
              "      <td>5.002021</td>\n",
              "      <td>6.024010</td>\n",
              "      <td>8.000770</td>\n",
              "      <td>11.016685</td>\n",
              "      <td>3.770324</td>\n",
              "      <td>2.976672</td>\n",
              "      <td>2.198131</td>\n",
              "    </tr>\n",
              "    <tr>\n",
              "      <th>2</th>\n",
              "      <td>3</td>\n",
              "      <td>1</td>\n",
              "      <td>1</td>\n",
              "      <td>1</td>\n",
              "      <td>2</td>\n",
              "      <td>2</td>\n",
              "      <td>3</td>\n",
              "      <td>1</td>\n",
              "      <td>1</td>\n",
              "      <td>3.964995</td>\n",
              "      <td>1.875802</td>\n",
              "      <td>1.962391</td>\n",
              "      <td>1.999414</td>\n",
              "      <td>2.969821</td>\n",
              "      <td>3.254935</td>\n",
              "      <td>3.770324</td>\n",
              "      <td>2.298516</td>\n",
              "      <td>2.198131</td>\n",
              "    </tr>\n",
              "    <tr>\n",
              "      <th>3</th>\n",
              "      <td>6</td>\n",
              "      <td>8</td>\n",
              "      <td>8</td>\n",
              "      <td>1</td>\n",
              "      <td>3</td>\n",
              "      <td>4</td>\n",
              "      <td>3</td>\n",
              "      <td>7</td>\n",
              "      <td>1</td>\n",
              "      <td>6.983850</td>\n",
              "      <td>8.910015</td>\n",
              "      <td>8.971155</td>\n",
              "      <td>1.999414</td>\n",
              "      <td>3.972086</td>\n",
              "      <td>4.847445</td>\n",
              "      <td>3.770324</td>\n",
              "      <td>8.008036</td>\n",
              "      <td>2.198131</td>\n",
              "    </tr>\n",
              "    <tr>\n",
              "      <th>4</th>\n",
              "      <td>4</td>\n",
              "      <td>1</td>\n",
              "      <td>1</td>\n",
              "      <td>3</td>\n",
              "      <td>2</td>\n",
              "      <td>1</td>\n",
              "      <td>3</td>\n",
              "      <td>1</td>\n",
              "      <td>1</td>\n",
              "      <td>5.061381</td>\n",
              "      <td>1.875802</td>\n",
              "      <td>1.962391</td>\n",
              "      <td>4.039305</td>\n",
              "      <td>2.969821</td>\n",
              "      <td>1.981674</td>\n",
              "      <td>3.770324</td>\n",
              "      <td>2.298516</td>\n",
              "      <td>2.198131</td>\n",
              "    </tr>\n",
              "    <tr>\n",
              "      <th>...</th>\n",
              "      <td>...</td>\n",
              "      <td>...</td>\n",
              "      <td>...</td>\n",
              "      <td>...</td>\n",
              "      <td>...</td>\n",
              "      <td>...</td>\n",
              "      <td>...</td>\n",
              "      <td>...</td>\n",
              "      <td>...</td>\n",
              "      <td>...</td>\n",
              "      <td>...</td>\n",
              "      <td>...</td>\n",
              "      <td>...</td>\n",
              "      <td>...</td>\n",
              "      <td>...</td>\n",
              "      <td>...</td>\n",
              "      <td>...</td>\n",
              "      <td>...</td>\n",
              "    </tr>\n",
              "    <tr>\n",
              "      <th>694</th>\n",
              "      <td>3</td>\n",
              "      <td>1</td>\n",
              "      <td>1</td>\n",
              "      <td>1</td>\n",
              "      <td>3</td>\n",
              "      <td>2</td>\n",
              "      <td>1</td>\n",
              "      <td>1</td>\n",
              "      <td>1</td>\n",
              "      <td>3.964995</td>\n",
              "      <td>1.875802</td>\n",
              "      <td>1.962391</td>\n",
              "      <td>1.999414</td>\n",
              "      <td>3.972086</td>\n",
              "      <td>3.254935</td>\n",
              "      <td>1.937865</td>\n",
              "      <td>2.298516</td>\n",
              "      <td>2.198131</td>\n",
              "    </tr>\n",
              "    <tr>\n",
              "      <th>695</th>\n",
              "      <td>2</td>\n",
              "      <td>1</td>\n",
              "      <td>1</td>\n",
              "      <td>1</td>\n",
              "      <td>2</td>\n",
              "      <td>1</td>\n",
              "      <td>1</td>\n",
              "      <td>1</td>\n",
              "      <td>1</td>\n",
              "      <td>2.844824</td>\n",
              "      <td>1.875802</td>\n",
              "      <td>1.962391</td>\n",
              "      <td>1.999414</td>\n",
              "      <td>2.969821</td>\n",
              "      <td>1.981674</td>\n",
              "      <td>1.937865</td>\n",
              "      <td>2.298516</td>\n",
              "      <td>2.198131</td>\n",
              "    </tr>\n",
              "    <tr>\n",
              "      <th>696</th>\n",
              "      <td>5</td>\n",
              "      <td>10</td>\n",
              "      <td>10</td>\n",
              "      <td>3</td>\n",
              "      <td>7</td>\n",
              "      <td>3</td>\n",
              "      <td>8</td>\n",
              "      <td>10</td>\n",
              "      <td>2</td>\n",
              "      <td>5.987621</td>\n",
              "      <td>11.216139</td>\n",
              "      <td>11.006203</td>\n",
              "      <td>4.039305</td>\n",
              "      <td>8.000770</td>\n",
              "      <td>4.247945</td>\n",
              "      <td>9.051848</td>\n",
              "      <td>10.915148</td>\n",
              "      <td>3.046041</td>\n",
              "    </tr>\n",
              "    <tr>\n",
              "      <th>697</th>\n",
              "      <td>4</td>\n",
              "      <td>8</td>\n",
              "      <td>6</td>\n",
              "      <td>4</td>\n",
              "      <td>3</td>\n",
              "      <td>4</td>\n",
              "      <td>10</td>\n",
              "      <td>6</td>\n",
              "      <td>1</td>\n",
              "      <td>5.061381</td>\n",
              "      <td>8.910015</td>\n",
              "      <td>7.053505</td>\n",
              "      <td>4.962403</td>\n",
              "      <td>3.972086</td>\n",
              "      <td>4.847445</td>\n",
              "      <td>11.154835</td>\n",
              "      <td>6.942133</td>\n",
              "      <td>2.198131</td>\n",
              "    </tr>\n",
              "    <tr>\n",
              "      <th>698</th>\n",
              "      <td>4</td>\n",
              "      <td>8</td>\n",
              "      <td>8</td>\n",
              "      <td>5</td>\n",
              "      <td>4</td>\n",
              "      <td>5</td>\n",
              "      <td>10</td>\n",
              "      <td>4</td>\n",
              "      <td>1</td>\n",
              "      <td>5.061381</td>\n",
              "      <td>8.910015</td>\n",
              "      <td>8.971155</td>\n",
              "      <td>6.024010</td>\n",
              "      <td>4.809723</td>\n",
              "      <td>5.935330</td>\n",
              "      <td>11.154835</td>\n",
              "      <td>5.077366</td>\n",
              "      <td>2.198131</td>\n",
              "    </tr>\n",
              "  </tbody>\n",
              "</table>\n",
              "<p>699 rows × 18 columns</p>\n",
              "</div>"
            ],
            "text/plain": [
              "     Clump Thickness  ...  noice_Mitoses\n",
              "0                  5  ...       2.198131\n",
              "1                  5  ...       2.198131\n",
              "2                  3  ...       2.198131\n",
              "3                  6  ...       2.198131\n",
              "4                  4  ...       2.198131\n",
              "..               ...  ...            ...\n",
              "694                3  ...       2.198131\n",
              "695                2  ...       2.198131\n",
              "696                5  ...       3.046041\n",
              "697                4  ...       2.198131\n",
              "698                4  ...       2.198131\n",
              "\n",
              "[699 rows x 18 columns]"
            ]
          },
          "metadata": {
            "tags": []
          },
          "execution_count": 22
        }
      ]
    },
    {
      "cell_type": "markdown",
      "metadata": {
        "id": "juJKaawPVwXp"
      },
      "source": [
        "## **BCWD data with classic exponential**"
      ]
    },
    {
      "cell_type": "code",
      "metadata": {
        "id": "WwvrWTkCV0Qa"
      },
      "source": [
        "# Library Declaration  \n",
        "import numpy as np\n",
        "import pandas as pd \n",
        "# Data Input\n",
        "df = pd.read_table('breast-cancer-wisconsin.data', sep=',', names=[\"Sample code number\", \"Clump Thickness\", \"Uniformity of Cell Size\", \"Uniformity of Cell Shape\", \"Marginal Adhesion\", \"Single Epithelial Cell Size\",\"Bare Nuclei\", \"Bland Chromatin\", \"Normal Nucleoli\",\"Mitoses\",\"Class\"]) \n",
        "# print(df.head)"
      ],
      "execution_count": null,
      "outputs": []
    },
    {
      "cell_type": "code",
      "metadata": {
        "colab": {
          "base_uri": "https://localhost:8080/"
        },
        "id": "Vv-Ppu-lkZm4",
        "outputId": "30a90e02-adf2-491f-93ae-fcc35588919e"
      },
      "source": [
        "# Data Cleaning\n",
        "df[\"Bare Nuclei\"][df[\"Bare Nuclei\"]=='?']='0'\n",
        "df[\"Bare Nuclei\"] = df[\"Bare Nuclei\"].astype(str).astype(int)\n",
        "# df.info()\n",
        "# pd.to_numeric(df[\"Bare Nuclei\"])"
      ],
      "execution_count": null,
      "outputs": [
        {
          "output_type": "stream",
          "text": [
            "/usr/local/lib/python3.6/dist-packages/ipykernel_launcher.py:2: SettingWithCopyWarning: \n",
            "A value is trying to be set on a copy of a slice from a DataFrame\n",
            "\n",
            "See the caveats in the documentation: https://pandas.pydata.org/pandas-docs/stable/user_guide/indexing.html#returning-a-view-versus-a-copy\n",
            "  \n"
          ],
          "name": "stderr"
        }
      ]
    },
    {
      "cell_type": "code",
      "metadata": {
        "colab": {
          "base_uri": "https://localhost:8080/"
        },
        "id": "hyY2xuGekc89",
        "outputId": "449d337e-e988-4b97-ec70-7fb3af44ffc5"
      },
      "source": [
        "# Data Cleaning\n",
        "df=df.drop([\"Sample code number\"], axis = 1)\n",
        "print(df.shape)"
      ],
      "execution_count": null,
      "outputs": [
        {
          "output_type": "stream",
          "text": [
            "(699, 10)\n"
          ],
          "name": "stdout"
        }
      ]
    },
    {
      "cell_type": "code",
      "metadata": {
        "id": "Xw1rgU_nkc5_"
      },
      "source": [
        "# Data Cleaning\n",
        "def Class_value(Class): \n",
        "     if Class == 2: \n",
        "         return 1\n",
        "     else: \n",
        "         return 0\n",
        "  \n",
        "df['Class'] = df['Class'].apply(Class_value) \n",
        "#df['Class'].head(10)"
      ],
      "execution_count": null,
      "outputs": []
    },
    {
      "cell_type": "code",
      "metadata": {
        "id": "DtazXMUTkc3R"
      },
      "source": [
        "sf=df\n",
        "y = sf[\"Class\"].astype(float).values.tolist()\n",
        "# y"
      ],
      "execution_count": null,
      "outputs": []
    },
    {
      "cell_type": "code",
      "metadata": {
        "id": "uqR6PaB7kcz4"
      },
      "source": [
        "df=df.drop([\"Class\"], axis = 1)"
      ],
      "execution_count": null,
      "outputs": []
    },
    {
      "cell_type": "code",
      "metadata": {
        "id": "evsT2dtNkcu_"
      },
      "source": [
        "import math\n",
        "data1=df[\"Clump Thickness\"].unique()\n",
        "data2=df[\"Uniformity of Cell Size\"].unique()\n",
        "data3=df[\"Uniformity of Cell Shape\"].unique()\n",
        "data4=df[\"Marginal Adhesion\"].unique()\n",
        "data5=df[\"Single Epithelial Cell Size\"].unique()\n",
        "data6=df[\"Bare Nuclei\"].unique()\n",
        "data7=df[\"Bland Chromatin\"].unique()\n",
        "data8=df[\"Normal Nucleoli\"].unique()\n",
        "data9=df[\"Mitoses\"].unique()"
      ],
      "execution_count": null,
      "outputs": []
    },
    {
      "cell_type": "code",
      "metadata": {
        "id": "HJmLjyn8kcoh"
      },
      "source": [
        "Exponential_noise1 = np.random.exponential(1)\n",
        "Exponential_noise2 = np.random.exponential(1)\n",
        "Exponential_noise3 = np.random.exponential(1)\n",
        "Exponential_noise4 = np.random.exponential(1)\n",
        "Exponential_noise5 = np.random.exponential(1)\n",
        "Exponential_noise6 = np.random.exponential(1)\n",
        "Exponential_noise7 = np.random.exponential(1)\n",
        "Exponential_noise8 = np.random.exponential(1)\n",
        "Exponential_noise9 = np.random.exponential(1)"
      ],
      "execution_count": null,
      "outputs": []
    },
    {
      "cell_type": "code",
      "metadata": {
        "id": "v7TGcjCNkcgb"
      },
      "source": [
        "# print(Exponential_noise2)"
      ],
      "execution_count": null,
      "outputs": []
    },
    {
      "cell_type": "code",
      "metadata": {
        "id": "F5ICpNx1lBfY"
      },
      "source": [
        "noisydata1 = data1 + Exponential_noise1\n",
        "noisydata2 = data2 + Exponential_noise2\n",
        "noisydata3 = data3 + Exponential_noise3\n",
        "noisydata4 = data4 + Exponential_noise4\n",
        "noisydata5 = data5 + Exponential_noise5\n",
        "noisydata6 = data6 + Exponential_noise6\n",
        "noisydata7 = data7 + Exponential_noise7\n",
        "noisydata8 = data8 + Exponential_noise8\n",
        "noisydata9 = data9 + Exponential_noise9\n",
        "# noisydata"
      ],
      "execution_count": null,
      "outputs": []
    },
    {
      "cell_type": "code",
      "metadata": {
        "id": "Y66tBo_Hl-zt"
      },
      "source": [
        "d1 = dict(zip(data1, noisydata1))\n",
        "d2 = dict(zip(data2, noisydata2))\n",
        "d3 = dict(zip(data3, noisydata3))\n",
        "d4 = dict(zip(data4, noisydata4))\n",
        "d5 = dict(zip(data5, noisydata5))\n",
        "d6 = dict(zip(data6, noisydata6))\n",
        "d7 = dict(zip(data7, noisydata7))\n",
        "d8 = dict(zip(data8, noisydata8))\n",
        "d9 = dict(zip(data9, noisydata9))"
      ],
      "execution_count": null,
      "outputs": []
    },
    {
      "cell_type": "code",
      "metadata": {
        "id": "y94BOaPBmHAT"
      },
      "source": [
        "# df[\"noiceCF\"] = df[\"Clump Thickness\"].map(res)\n",
        "# df[\"noiceCF\"]\n",
        "df[\"noice_Clump Thickness\"]=df[\"Clump Thickness\"].map(d1)\n",
        "df[\"noice_Uniformity of Cell Size\"]=df[\"Uniformity of Cell Size\"].map(d2)\n",
        "df[\"noice_Uniformity of Cell Shape\"]=df[\"Uniformity of Cell Shape\"].map(d3)\n",
        "df[\"noice_Marginal Adhesion\"]=df[\"Marginal Adhesion\"].map(d4)\n",
        "df[\"noice_Single Epithelial Cell Size\"]=df[\"Single Epithelial Cell Size\"].map(d5)\n",
        "df[\"noice_Bare Nuclei\"]=df[\"Bare Nuclei\"].map(d6)\n",
        "df[\"noice_Bland Chromatin\"]=df[\"Bland Chromatin\"].map(d7)\n",
        "df[\"noice_Normal Nucleoli\"]=df[\"Normal Nucleoli\"].map(d8)\n",
        "df[\"noice_Mitoses\"]=df[\"Mitoses\"].map(d9)"
      ],
      "execution_count": null,
      "outputs": []
    },
    {
      "cell_type": "code",
      "metadata": {
        "colab": {
          "base_uri": "https://localhost:8080/",
          "height": 473
        },
        "id": "ZqiYhPz1mNyS",
        "outputId": "4dd0200c-621b-4ccb-bd5c-de29152a9ba5"
      },
      "source": [
        "df=df.drop([\"Clump Thickness\", \"Uniformity of Cell Size\", \"Uniformity of Cell Shape\", \"Marginal Adhesion\",\"Single Epithelial Cell Size\", \"Bare Nuclei\", \"Bland Chromatin\", \"Normal Nucleoli\", \"Mitoses\"], axis=1)"
      ],
      "execution_count": null,
      "outputs": [
        {
          "output_type": "execute_result",
          "data": {
            "text/html": [
              "<div>\n",
              "<style scoped>\n",
              "    .dataframe tbody tr th:only-of-type {\n",
              "        vertical-align: middle;\n",
              "    }\n",
              "\n",
              "    .dataframe tbody tr th {\n",
              "        vertical-align: top;\n",
              "    }\n",
              "\n",
              "    .dataframe thead th {\n",
              "        text-align: right;\n",
              "    }\n",
              "</style>\n",
              "<table border=\"1\" class=\"dataframe\">\n",
              "  <thead>\n",
              "    <tr style=\"text-align: right;\">\n",
              "      <th></th>\n",
              "      <th>Clump Thickness</th>\n",
              "      <th>Uniformity of Cell Size</th>\n",
              "      <th>Uniformity of Cell Shape</th>\n",
              "      <th>Marginal Adhesion</th>\n",
              "      <th>Single Epithelial Cell Size</th>\n",
              "      <th>Bare Nuclei</th>\n",
              "      <th>Bland Chromatin</th>\n",
              "      <th>Normal Nucleoli</th>\n",
              "      <th>Mitoses</th>\n",
              "      <th>noice_Clump Thickness</th>\n",
              "      <th>noice_Uniformity of Cell Size</th>\n",
              "      <th>noice_Uniformity of Cell Shape</th>\n",
              "      <th>noice_Marginal Adhesion</th>\n",
              "      <th>noice_Single Epithelial Cell Size</th>\n",
              "      <th>noice_Bare Nuclei</th>\n",
              "      <th>noice_Bland Chromatin</th>\n",
              "      <th>noice_Normal Nucleoli</th>\n",
              "      <th>noice_Mitoses</th>\n",
              "    </tr>\n",
              "  </thead>\n",
              "  <tbody>\n",
              "    <tr>\n",
              "      <th>0</th>\n",
              "      <td>5</td>\n",
              "      <td>1</td>\n",
              "      <td>1</td>\n",
              "      <td>1</td>\n",
              "      <td>2</td>\n",
              "      <td>1</td>\n",
              "      <td>3</td>\n",
              "      <td>1</td>\n",
              "      <td>1</td>\n",
              "      <td>5.420455</td>\n",
              "      <td>2.171991</td>\n",
              "      <td>4.391569</td>\n",
              "      <td>1.393474</td>\n",
              "      <td>3.250389</td>\n",
              "      <td>1.086701</td>\n",
              "      <td>3.805526</td>\n",
              "      <td>1.119149</td>\n",
              "      <td>3.405462</td>\n",
              "    </tr>\n",
              "    <tr>\n",
              "      <th>1</th>\n",
              "      <td>5</td>\n",
              "      <td>4</td>\n",
              "      <td>4</td>\n",
              "      <td>5</td>\n",
              "      <td>7</td>\n",
              "      <td>10</td>\n",
              "      <td>3</td>\n",
              "      <td>2</td>\n",
              "      <td>1</td>\n",
              "      <td>5.420455</td>\n",
              "      <td>5.171991</td>\n",
              "      <td>7.391569</td>\n",
              "      <td>5.393474</td>\n",
              "      <td>8.250389</td>\n",
              "      <td>10.086701</td>\n",
              "      <td>3.805526</td>\n",
              "      <td>2.119149</td>\n",
              "      <td>3.405462</td>\n",
              "    </tr>\n",
              "    <tr>\n",
              "      <th>2</th>\n",
              "      <td>3</td>\n",
              "      <td>1</td>\n",
              "      <td>1</td>\n",
              "      <td>1</td>\n",
              "      <td>2</td>\n",
              "      <td>2</td>\n",
              "      <td>3</td>\n",
              "      <td>1</td>\n",
              "      <td>1</td>\n",
              "      <td>3.420455</td>\n",
              "      <td>2.171991</td>\n",
              "      <td>4.391569</td>\n",
              "      <td>1.393474</td>\n",
              "      <td>3.250389</td>\n",
              "      <td>2.086701</td>\n",
              "      <td>3.805526</td>\n",
              "      <td>1.119149</td>\n",
              "      <td>3.405462</td>\n",
              "    </tr>\n",
              "    <tr>\n",
              "      <th>3</th>\n",
              "      <td>6</td>\n",
              "      <td>8</td>\n",
              "      <td>8</td>\n",
              "      <td>1</td>\n",
              "      <td>3</td>\n",
              "      <td>4</td>\n",
              "      <td>3</td>\n",
              "      <td>7</td>\n",
              "      <td>1</td>\n",
              "      <td>6.420455</td>\n",
              "      <td>9.171991</td>\n",
              "      <td>11.391569</td>\n",
              "      <td>1.393474</td>\n",
              "      <td>4.250389</td>\n",
              "      <td>4.086701</td>\n",
              "      <td>3.805526</td>\n",
              "      <td>7.119149</td>\n",
              "      <td>3.405462</td>\n",
              "    </tr>\n",
              "    <tr>\n",
              "      <th>4</th>\n",
              "      <td>4</td>\n",
              "      <td>1</td>\n",
              "      <td>1</td>\n",
              "      <td>3</td>\n",
              "      <td>2</td>\n",
              "      <td>1</td>\n",
              "      <td>3</td>\n",
              "      <td>1</td>\n",
              "      <td>1</td>\n",
              "      <td>4.420455</td>\n",
              "      <td>2.171991</td>\n",
              "      <td>4.391569</td>\n",
              "      <td>3.393474</td>\n",
              "      <td>3.250389</td>\n",
              "      <td>1.086701</td>\n",
              "      <td>3.805526</td>\n",
              "      <td>1.119149</td>\n",
              "      <td>3.405462</td>\n",
              "    </tr>\n",
              "    <tr>\n",
              "      <th>...</th>\n",
              "      <td>...</td>\n",
              "      <td>...</td>\n",
              "      <td>...</td>\n",
              "      <td>...</td>\n",
              "      <td>...</td>\n",
              "      <td>...</td>\n",
              "      <td>...</td>\n",
              "      <td>...</td>\n",
              "      <td>...</td>\n",
              "      <td>...</td>\n",
              "      <td>...</td>\n",
              "      <td>...</td>\n",
              "      <td>...</td>\n",
              "      <td>...</td>\n",
              "      <td>...</td>\n",
              "      <td>...</td>\n",
              "      <td>...</td>\n",
              "      <td>...</td>\n",
              "    </tr>\n",
              "    <tr>\n",
              "      <th>694</th>\n",
              "      <td>3</td>\n",
              "      <td>1</td>\n",
              "      <td>1</td>\n",
              "      <td>1</td>\n",
              "      <td>3</td>\n",
              "      <td>2</td>\n",
              "      <td>1</td>\n",
              "      <td>1</td>\n",
              "      <td>1</td>\n",
              "      <td>3.420455</td>\n",
              "      <td>2.171991</td>\n",
              "      <td>4.391569</td>\n",
              "      <td>1.393474</td>\n",
              "      <td>4.250389</td>\n",
              "      <td>2.086701</td>\n",
              "      <td>1.805526</td>\n",
              "      <td>1.119149</td>\n",
              "      <td>3.405462</td>\n",
              "    </tr>\n",
              "    <tr>\n",
              "      <th>695</th>\n",
              "      <td>2</td>\n",
              "      <td>1</td>\n",
              "      <td>1</td>\n",
              "      <td>1</td>\n",
              "      <td>2</td>\n",
              "      <td>1</td>\n",
              "      <td>1</td>\n",
              "      <td>1</td>\n",
              "      <td>1</td>\n",
              "      <td>2.420455</td>\n",
              "      <td>2.171991</td>\n",
              "      <td>4.391569</td>\n",
              "      <td>1.393474</td>\n",
              "      <td>3.250389</td>\n",
              "      <td>1.086701</td>\n",
              "      <td>1.805526</td>\n",
              "      <td>1.119149</td>\n",
              "      <td>3.405462</td>\n",
              "    </tr>\n",
              "    <tr>\n",
              "      <th>696</th>\n",
              "      <td>5</td>\n",
              "      <td>10</td>\n",
              "      <td>10</td>\n",
              "      <td>3</td>\n",
              "      <td>7</td>\n",
              "      <td>3</td>\n",
              "      <td>8</td>\n",
              "      <td>10</td>\n",
              "      <td>2</td>\n",
              "      <td>5.420455</td>\n",
              "      <td>11.171991</td>\n",
              "      <td>13.391569</td>\n",
              "      <td>3.393474</td>\n",
              "      <td>8.250389</td>\n",
              "      <td>3.086701</td>\n",
              "      <td>8.805526</td>\n",
              "      <td>10.119149</td>\n",
              "      <td>4.405462</td>\n",
              "    </tr>\n",
              "    <tr>\n",
              "      <th>697</th>\n",
              "      <td>4</td>\n",
              "      <td>8</td>\n",
              "      <td>6</td>\n",
              "      <td>4</td>\n",
              "      <td>3</td>\n",
              "      <td>4</td>\n",
              "      <td>10</td>\n",
              "      <td>6</td>\n",
              "      <td>1</td>\n",
              "      <td>4.420455</td>\n",
              "      <td>9.171991</td>\n",
              "      <td>9.391569</td>\n",
              "      <td>4.393474</td>\n",
              "      <td>4.250389</td>\n",
              "      <td>4.086701</td>\n",
              "      <td>10.805526</td>\n",
              "      <td>6.119149</td>\n",
              "      <td>3.405462</td>\n",
              "    </tr>\n",
              "    <tr>\n",
              "      <th>698</th>\n",
              "      <td>4</td>\n",
              "      <td>8</td>\n",
              "      <td>8</td>\n",
              "      <td>5</td>\n",
              "      <td>4</td>\n",
              "      <td>5</td>\n",
              "      <td>10</td>\n",
              "      <td>4</td>\n",
              "      <td>1</td>\n",
              "      <td>4.420455</td>\n",
              "      <td>9.171991</td>\n",
              "      <td>11.391569</td>\n",
              "      <td>5.393474</td>\n",
              "      <td>5.250389</td>\n",
              "      <td>5.086701</td>\n",
              "      <td>10.805526</td>\n",
              "      <td>4.119149</td>\n",
              "      <td>3.405462</td>\n",
              "    </tr>\n",
              "  </tbody>\n",
              "</table>\n",
              "<p>699 rows × 18 columns</p>\n",
              "</div>"
            ],
            "text/plain": [
              "     Clump Thickness  ...  noice_Mitoses\n",
              "0                  5  ...       3.405462\n",
              "1                  5  ...       3.405462\n",
              "2                  3  ...       3.405462\n",
              "3                  6  ...       3.405462\n",
              "4                  4  ...       3.405462\n",
              "..               ...  ...            ...\n",
              "694                3  ...       3.405462\n",
              "695                2  ...       3.405462\n",
              "696                5  ...       4.405462\n",
              "697                4  ...       3.405462\n",
              "698                4  ...       3.405462\n",
              "\n",
              "[699 rows x 18 columns]"
            ]
          },
          "metadata": {
            "tags": []
          },
          "execution_count": 105
        }
      ]
    },
    {
      "cell_type": "code",
      "metadata": {
        "id": "Ysb3txhJ_Npy"
      },
      "source": [
        "df"
      ],
      "execution_count": null,
      "outputs": []
    },
    {
      "cell_type": "markdown",
      "metadata": {
        "id": "GOAAAp_zpBdI"
      },
      "source": [
        "## **BCWD data with epsilon Laplace**"
      ]
    },
    {
      "cell_type": "code",
      "metadata": {
        "id": "ikuRKIJKmUsi"
      },
      "source": [
        "# Library Declaration  \n",
        "import numpy as np\n",
        "import pandas as pd \n",
        "# Data Input\n",
        "df = pd.read_table('breast-cancer-wisconsin.data', sep=',', names=[\"Sample code number\", \"Clump Thickness\", \"Uniformity of Cell Size\", \"Uniformity of Cell Shape\", \"Marginal Adhesion\", \"Single Epithelial Cell Size\",\"Bare Nuclei\", \"Bland Chromatin\", \"Normal Nucleoli\",\"Mitoses\",\"Class\"]) \n",
        "# print(df.head)"
      ],
      "execution_count": null,
      "outputs": []
    },
    {
      "cell_type": "code",
      "metadata": {
        "colab": {
          "base_uri": "https://localhost:8080/"
        },
        "id": "k3FuNGcRpUXB",
        "outputId": "36066ef0-7737-4767-9dcc-e5e177260dd6"
      },
      "source": [
        "# Data Cleaning\n",
        "df[\"Bare Nuclei\"][df[\"Bare Nuclei\"]=='?']='0'\n",
        "df[\"Bare Nuclei\"] = df[\"Bare Nuclei\"].astype(str).astype(int)\n",
        "# df.info()\n",
        "# pd.to_numeric(df[\"Bare Nuclei\"])"
      ],
      "execution_count": null,
      "outputs": [
        {
          "output_type": "stream",
          "text": [
            "/usr/local/lib/python3.6/dist-packages/ipykernel_launcher.py:2: SettingWithCopyWarning: \n",
            "A value is trying to be set on a copy of a slice from a DataFrame\n",
            "\n",
            "See the caveats in the documentation: https://pandas.pydata.org/pandas-docs/stable/user_guide/indexing.html#returning-a-view-versus-a-copy\n",
            "  \n"
          ],
          "name": "stderr"
        }
      ]
    },
    {
      "cell_type": "code",
      "metadata": {
        "colab": {
          "base_uri": "https://localhost:8080/"
        },
        "id": "l8VoDg_YpWFs",
        "outputId": "bd221881-892a-421f-ebb0-f779908fab1b"
      },
      "source": [
        "# Data Cleaning\n",
        "df=df.drop([\"Sample code number\"], axis = 1)\n",
        "print(df.shape)"
      ],
      "execution_count": null,
      "outputs": [
        {
          "output_type": "stream",
          "text": [
            "(699, 10)\n"
          ],
          "name": "stdout"
        }
      ]
    },
    {
      "cell_type": "code",
      "metadata": {
        "id": "pKJrosmMpYm0"
      },
      "source": [
        "# Data Cleaning\n",
        "def Class_value(Class): \n",
        "     if Class == 2: \n",
        "         return 1\n",
        "     else: \n",
        "         return 0\n",
        "  \n",
        "df['Class'] = df['Class'].apply(Class_value) \n",
        "#df['Class'].head(10)"
      ],
      "execution_count": null,
      "outputs": []
    },
    {
      "cell_type": "code",
      "metadata": {
        "id": "7gvZCtDYpezV"
      },
      "source": [
        "sf=df\n",
        "y = sf[\"Class\"].astype(float).values.tolist()\n",
        "# y"
      ],
      "execution_count": null,
      "outputs": []
    },
    {
      "cell_type": "code",
      "metadata": {
        "id": "4rrPU3wipfJM"
      },
      "source": [
        "df=df.drop([\"Class\"], axis = 1)"
      ],
      "execution_count": null,
      "outputs": []
    },
    {
      "cell_type": "code",
      "metadata": {
        "id": "j2H8KVOOpjVb"
      },
      "source": [
        "# def Laplacian_func(eps):     \n",
        "#  x = 0.01\n",
        "#  mu = 0                    # mean\n",
        "#  return ((eps/2.0) * np.exp(-abs(x - mu)*eps))"
      ],
      "execution_count": null,
      "outputs": []
    },
    {
      "cell_type": "code",
      "metadata": {
        "id": "Tl7Dc0_Sq-9s"
      },
      "source": [
        "def Laplacian_func(x,eps):\n",
        "  return ((eps/2.0) * np.exp(-abs(x)*eps))"
      ],
      "execution_count": null,
      "outputs": []
    },
    {
      "cell_type": "code",
      "metadata": {
        "id": "bCjd2UGsqs1f"
      },
      "source": [
        "# noise = Laplacian_func(0.1)\n",
        "# noisydata = datacount + noise"
      ],
      "execution_count": null,
      "outputs": []
    },
    {
      "cell_type": "code",
      "metadata": {
        "id": "5bFVMobhs8Ee"
      },
      "source": [
        "data1=df[\"Clump Thickness\"].values\n",
        "data2=df[\"Uniformity of Cell Size\"].values\n",
        "data3=df[\"Uniformity of Cell Shape\"].values\n",
        "data4=df[\"Marginal Adhesion\"].values\n",
        "data5=df[\"Single Epithelial Cell Size\"].values\n",
        "data6=df[\"Bare Nuclei\"].values\n",
        "data7=df[\"Bland Chromatin\"].values\n",
        "data8=df[\"Normal Nucleoli\"].values\n",
        "data9=df[\"Mitoses\"].values"
      ],
      "execution_count": null,
      "outputs": []
    },
    {
      "cell_type": "code",
      "metadata": {
        "id": "CPrAPOifr4Xn"
      },
      "source": [
        "ep=0.1\n",
        "Laplacian_noise1 = Laplacian_func((df[\"Clump Thickness\"].max()-df[\"Clump Thickness\"].min()), ep)\n",
        "Laplacian_noise2 = Laplacian_func((df[\"Uniformity of Cell Size\"].max()-df[\"Uniformity of Cell Size\"].min()), ep)\n",
        "Laplacian_noise3 = Laplacian_func((df[\"Uniformity of Cell Shape\"].max()-df[\"Uniformity of Cell Shape\"].min()), ep)\n",
        "Laplacian_noise4 = Laplacian_func((df[\"Marginal Adhesion\"].max()-df[\"Marginal Adhesion\"].min()), ep)\n",
        "Laplacian_noise5 = Laplacian_func((df[\"Single Epithelial Cell Size\"].max()-df[\"Single Epithelial Cell Size\"].min()), ep)\n",
        "Laplacian_noise6 = Laplacian_func((df[\"Bare Nuclei\"].max()-df[\"Bare Nuclei\"].min()), ep)\n",
        "Laplacian_noise7 = Laplacian_func((df[\"Bland Chromatin\"].max()-df[\"Bland Chromatin\"].min()), ep)\n",
        "Laplacian_noise8 = Laplacian_func((df[\"Normal Nucleoli\"].max()-df[\"Normal Nucleoli\"].min()), ep)\n",
        "Laplacian_noise9 = Laplacian_func((df[\"Mitoses\"].max()-df[\"Mitoses\"].min()), ep)"
      ],
      "execution_count": null,
      "outputs": []
    },
    {
      "cell_type": "code",
      "metadata": {
        "id": "JOhtqHZ4s6vF"
      },
      "source": [
        "noisydata1 = data1 + Laplacian_noise1\n",
        "noisydata2 = data2 + Laplacian_noise2\n",
        "noisydata3 = data3 + Laplacian_noise3\n",
        "noisydata4 = data4 + Laplacian_noise4\n",
        "noisydata5 = data5 + Laplacian_noise5\n",
        "noisydata6 = data6 + Laplacian_noise6\n",
        "noisydata7 = data7 + Laplacian_noise7\n",
        "noisydata8 = data8 + Laplacian_noise8\n",
        "noisydata9 = data9 + Laplacian_noise9\n",
        "# noisydata"
      ],
      "execution_count": null,
      "outputs": []
    },
    {
      "cell_type": "code",
      "metadata": {
        "id": "Xjoc2d9d7ozZ"
      },
      "source": [
        "\n",
        "d1 = dict(zip(data1, noisydata1))\n",
        "d2 = dict(zip(data2, noisydata2))\n",
        "d3 = dict(zip(data3, noisydata3))\n",
        "d4 = dict(zip(data4, noisydata4))\n",
        "d5 = dict(zip(data5, noisydata5))\n",
        "d6 = dict(zip(data6, noisydata6))\n",
        "d7 = dict(zip(data7, noisydata7))\n",
        "d8 = dict(zip(data8, noisydata8))\n",
        "d9 = dict(zip(data9, noisydata9))"
      ],
      "execution_count": null,
      "outputs": []
    },
    {
      "cell_type": "code",
      "metadata": {
        "id": "G6NpJBWp7rqi"
      },
      "source": [
        "# df[\"noiceCF\"] = df[\"Clump Thickness\"].map(res)\n",
        "# df[\"noiceCF\"]\n",
        "df[\"noice_Clump Thickness\"]=df[\"Clump Thickness\"].map(d1)\n",
        "df[\"noice_Uniformity of Cell Size\"]=df[\"Uniformity of Cell Size\"].map(d2)\n",
        "df[\"noice_Uniformity of Cell Shape\"]=df[\"Uniformity of Cell Shape\"].map(d3)\n",
        "df[\"noice_Marginal Adhesion\"]=df[\"Marginal Adhesion\"].map(d4)\n",
        "df[\"noice_Single Epithelial Cell Size\"]=df[\"Single Epithelial Cell Size\"].map(d5)\n",
        "df[\"noice_Bare Nuclei\"]=df[\"Bare Nuclei\"].map(d6)\n",
        "df[\"noice_Bland Chromatin\"]=df[\"Bland Chromatin\"].map(d7)\n",
        "df[\"noice_Normal Nucleoli\"]=df[\"Normal Nucleoli\"].map(d8)\n",
        "df[\"noice_Mitoses\"]=df[\"Mitoses\"].map(d9)"
      ],
      "execution_count": null,
      "outputs": []
    },
    {
      "cell_type": "code",
      "metadata": {
        "id": "WVtiZ_Yj7x1m",
        "colab": {
          "base_uri": "https://localhost:8080/",
          "height": 473
        },
        "outputId": "3fd79131-88e1-4a40-cb8d-24efe94efc6e"
      },
      "source": [
        "df=df.drop([\"Clump Thickness\", \"Uniformity of Cell Size\", \"Uniformity of Cell Shape\", \"Marginal Adhesion\",\"Single Epithelial Cell Size\", \"Bare Nuclei\", \"Bland Chromatin\", \"Normal Nucleoli\", \"Mitoses\"], axis=1)"
      ],
      "execution_count": null,
      "outputs": [
        {
          "output_type": "execute_result",
          "data": {
            "text/html": [
              "<div>\n",
              "<style scoped>\n",
              "    .dataframe tbody tr th:only-of-type {\n",
              "        vertical-align: middle;\n",
              "    }\n",
              "\n",
              "    .dataframe tbody tr th {\n",
              "        vertical-align: top;\n",
              "    }\n",
              "\n",
              "    .dataframe thead th {\n",
              "        text-align: right;\n",
              "    }\n",
              "</style>\n",
              "<table border=\"1\" class=\"dataframe\">\n",
              "  <thead>\n",
              "    <tr style=\"text-align: right;\">\n",
              "      <th></th>\n",
              "      <th>Clump Thickness</th>\n",
              "      <th>Uniformity of Cell Size</th>\n",
              "      <th>Uniformity of Cell Shape</th>\n",
              "      <th>Marginal Adhesion</th>\n",
              "      <th>Single Epithelial Cell Size</th>\n",
              "      <th>Bare Nuclei</th>\n",
              "      <th>Bland Chromatin</th>\n",
              "      <th>Normal Nucleoli</th>\n",
              "      <th>Mitoses</th>\n",
              "      <th>noice_Clump Thickness</th>\n",
              "      <th>noice_Uniformity of Cell Size</th>\n",
              "      <th>noice_Uniformity of Cell Shape</th>\n",
              "      <th>noice_Marginal Adhesion</th>\n",
              "      <th>noice_Single Epithelial Cell Size</th>\n",
              "      <th>noice_Bare Nuclei</th>\n",
              "      <th>noice_Bland Chromatin</th>\n",
              "      <th>noice_Normal Nucleoli</th>\n",
              "      <th>noice_Mitoses</th>\n",
              "    </tr>\n",
              "  </thead>\n",
              "  <tbody>\n",
              "    <tr>\n",
              "      <th>0</th>\n",
              "      <td>5</td>\n",
              "      <td>1</td>\n",
              "      <td>1</td>\n",
              "      <td>1</td>\n",
              "      <td>2</td>\n",
              "      <td>1</td>\n",
              "      <td>3</td>\n",
              "      <td>1</td>\n",
              "      <td>1</td>\n",
              "      <td>5.020328</td>\n",
              "      <td>1.020328</td>\n",
              "      <td>1.020328</td>\n",
              "      <td>1.020328</td>\n",
              "      <td>2.020328</td>\n",
              "      <td>1.018394</td>\n",
              "      <td>3.020328</td>\n",
              "      <td>1.020328</td>\n",
              "      <td>1.020328</td>\n",
              "    </tr>\n",
              "    <tr>\n",
              "      <th>1</th>\n",
              "      <td>5</td>\n",
              "      <td>4</td>\n",
              "      <td>4</td>\n",
              "      <td>5</td>\n",
              "      <td>7</td>\n",
              "      <td>10</td>\n",
              "      <td>3</td>\n",
              "      <td>2</td>\n",
              "      <td>1</td>\n",
              "      <td>5.020328</td>\n",
              "      <td>4.020328</td>\n",
              "      <td>4.020328</td>\n",
              "      <td>5.020328</td>\n",
              "      <td>7.020328</td>\n",
              "      <td>10.018394</td>\n",
              "      <td>3.020328</td>\n",
              "      <td>2.020328</td>\n",
              "      <td>1.020328</td>\n",
              "    </tr>\n",
              "    <tr>\n",
              "      <th>2</th>\n",
              "      <td>3</td>\n",
              "      <td>1</td>\n",
              "      <td>1</td>\n",
              "      <td>1</td>\n",
              "      <td>2</td>\n",
              "      <td>2</td>\n",
              "      <td>3</td>\n",
              "      <td>1</td>\n",
              "      <td>1</td>\n",
              "      <td>3.020328</td>\n",
              "      <td>1.020328</td>\n",
              "      <td>1.020328</td>\n",
              "      <td>1.020328</td>\n",
              "      <td>2.020328</td>\n",
              "      <td>2.018394</td>\n",
              "      <td>3.020328</td>\n",
              "      <td>1.020328</td>\n",
              "      <td>1.020328</td>\n",
              "    </tr>\n",
              "    <tr>\n",
              "      <th>3</th>\n",
              "      <td>6</td>\n",
              "      <td>8</td>\n",
              "      <td>8</td>\n",
              "      <td>1</td>\n",
              "      <td>3</td>\n",
              "      <td>4</td>\n",
              "      <td>3</td>\n",
              "      <td>7</td>\n",
              "      <td>1</td>\n",
              "      <td>6.020328</td>\n",
              "      <td>8.020328</td>\n",
              "      <td>8.020328</td>\n",
              "      <td>1.020328</td>\n",
              "      <td>3.020328</td>\n",
              "      <td>4.018394</td>\n",
              "      <td>3.020328</td>\n",
              "      <td>7.020328</td>\n",
              "      <td>1.020328</td>\n",
              "    </tr>\n",
              "    <tr>\n",
              "      <th>4</th>\n",
              "      <td>4</td>\n",
              "      <td>1</td>\n",
              "      <td>1</td>\n",
              "      <td>3</td>\n",
              "      <td>2</td>\n",
              "      <td>1</td>\n",
              "      <td>3</td>\n",
              "      <td>1</td>\n",
              "      <td>1</td>\n",
              "      <td>4.020328</td>\n",
              "      <td>1.020328</td>\n",
              "      <td>1.020328</td>\n",
              "      <td>3.020328</td>\n",
              "      <td>2.020328</td>\n",
              "      <td>1.018394</td>\n",
              "      <td>3.020328</td>\n",
              "      <td>1.020328</td>\n",
              "      <td>1.020328</td>\n",
              "    </tr>\n",
              "    <tr>\n",
              "      <th>...</th>\n",
              "      <td>...</td>\n",
              "      <td>...</td>\n",
              "      <td>...</td>\n",
              "      <td>...</td>\n",
              "      <td>...</td>\n",
              "      <td>...</td>\n",
              "      <td>...</td>\n",
              "      <td>...</td>\n",
              "      <td>...</td>\n",
              "      <td>...</td>\n",
              "      <td>...</td>\n",
              "      <td>...</td>\n",
              "      <td>...</td>\n",
              "      <td>...</td>\n",
              "      <td>...</td>\n",
              "      <td>...</td>\n",
              "      <td>...</td>\n",
              "      <td>...</td>\n",
              "    </tr>\n",
              "    <tr>\n",
              "      <th>694</th>\n",
              "      <td>3</td>\n",
              "      <td>1</td>\n",
              "      <td>1</td>\n",
              "      <td>1</td>\n",
              "      <td>3</td>\n",
              "      <td>2</td>\n",
              "      <td>1</td>\n",
              "      <td>1</td>\n",
              "      <td>1</td>\n",
              "      <td>3.020328</td>\n",
              "      <td>1.020328</td>\n",
              "      <td>1.020328</td>\n",
              "      <td>1.020328</td>\n",
              "      <td>3.020328</td>\n",
              "      <td>2.018394</td>\n",
              "      <td>1.020328</td>\n",
              "      <td>1.020328</td>\n",
              "      <td>1.020328</td>\n",
              "    </tr>\n",
              "    <tr>\n",
              "      <th>695</th>\n",
              "      <td>2</td>\n",
              "      <td>1</td>\n",
              "      <td>1</td>\n",
              "      <td>1</td>\n",
              "      <td>2</td>\n",
              "      <td>1</td>\n",
              "      <td>1</td>\n",
              "      <td>1</td>\n",
              "      <td>1</td>\n",
              "      <td>2.020328</td>\n",
              "      <td>1.020328</td>\n",
              "      <td>1.020328</td>\n",
              "      <td>1.020328</td>\n",
              "      <td>2.020328</td>\n",
              "      <td>1.018394</td>\n",
              "      <td>1.020328</td>\n",
              "      <td>1.020328</td>\n",
              "      <td>1.020328</td>\n",
              "    </tr>\n",
              "    <tr>\n",
              "      <th>696</th>\n",
              "      <td>5</td>\n",
              "      <td>10</td>\n",
              "      <td>10</td>\n",
              "      <td>3</td>\n",
              "      <td>7</td>\n",
              "      <td>3</td>\n",
              "      <td>8</td>\n",
              "      <td>10</td>\n",
              "      <td>2</td>\n",
              "      <td>5.020328</td>\n",
              "      <td>10.020328</td>\n",
              "      <td>10.020328</td>\n",
              "      <td>3.020328</td>\n",
              "      <td>7.020328</td>\n",
              "      <td>3.018394</td>\n",
              "      <td>8.020328</td>\n",
              "      <td>10.020328</td>\n",
              "      <td>2.020328</td>\n",
              "    </tr>\n",
              "    <tr>\n",
              "      <th>697</th>\n",
              "      <td>4</td>\n",
              "      <td>8</td>\n",
              "      <td>6</td>\n",
              "      <td>4</td>\n",
              "      <td>3</td>\n",
              "      <td>4</td>\n",
              "      <td>10</td>\n",
              "      <td>6</td>\n",
              "      <td>1</td>\n",
              "      <td>4.020328</td>\n",
              "      <td>8.020328</td>\n",
              "      <td>6.020328</td>\n",
              "      <td>4.020328</td>\n",
              "      <td>3.020328</td>\n",
              "      <td>4.018394</td>\n",
              "      <td>10.020328</td>\n",
              "      <td>6.020328</td>\n",
              "      <td>1.020328</td>\n",
              "    </tr>\n",
              "    <tr>\n",
              "      <th>698</th>\n",
              "      <td>4</td>\n",
              "      <td>8</td>\n",
              "      <td>8</td>\n",
              "      <td>5</td>\n",
              "      <td>4</td>\n",
              "      <td>5</td>\n",
              "      <td>10</td>\n",
              "      <td>4</td>\n",
              "      <td>1</td>\n",
              "      <td>4.020328</td>\n",
              "      <td>8.020328</td>\n",
              "      <td>8.020328</td>\n",
              "      <td>5.020328</td>\n",
              "      <td>4.020328</td>\n",
              "      <td>5.018394</td>\n",
              "      <td>10.020328</td>\n",
              "      <td>4.020328</td>\n",
              "      <td>1.020328</td>\n",
              "    </tr>\n",
              "  </tbody>\n",
              "</table>\n",
              "<p>699 rows × 18 columns</p>\n",
              "</div>"
            ],
            "text/plain": [
              "     Clump Thickness  ...  noice_Mitoses\n",
              "0                  5  ...       1.020328\n",
              "1                  5  ...       1.020328\n",
              "2                  3  ...       1.020328\n",
              "3                  6  ...       1.020328\n",
              "4                  4  ...       1.020328\n",
              "..               ...  ...            ...\n",
              "694                3  ...       1.020328\n",
              "695                2  ...       1.020328\n",
              "696                5  ...       2.020328\n",
              "697                4  ...       1.020328\n",
              "698                4  ...       1.020328\n",
              "\n",
              "[699 rows x 18 columns]"
            ]
          },
          "metadata": {
            "tags": []
          },
          "execution_count": 16
        }
      ]
    },
    {
      "cell_type": "code",
      "metadata": {
        "id": "Ici5PCXc70ZY"
      },
      "source": [
        "df"
      ],
      "execution_count": null,
      "outputs": []
    },
    {
      "cell_type": "markdown",
      "metadata": {
        "id": "zXe_Ersw8A8D"
      },
      "source": [
        "## **BCWD data with advance Gaussian**"
      ]
    },
    {
      "cell_type": "code",
      "metadata": {
        "id": "jm9vzSjk88NY"
      },
      "source": [
        "# Library Declaration  \n",
        "import numpy as np\n",
        "import pandas as pd \n",
        "# Data Input\n",
        "df = pd.read_table('breast-cancer-wisconsin.data', sep=',', names=[\"Sample code number\", \"Clump Thickness\", \"Uniformity of Cell Size\", \"Uniformity of Cell Shape\", \"Marginal Adhesion\", \"Single Epithelial Cell Size\",\"Bare Nuclei\", \"Bland Chromatin\", \"Normal Nucleoli\",\"Mitoses\",\"Class\"]) \n",
        "# print(df.head)"
      ],
      "execution_count": 25,
      "outputs": []
    },
    {
      "cell_type": "code",
      "metadata": {
        "colab": {
          "base_uri": "https://localhost:8080/"
        },
        "id": "xRrHE9I988KH",
        "outputId": "ceb35005-3c05-44b3-e6c6-127567994f9d"
      },
      "source": [
        "# Data Cleaning\n",
        "df[\"Bare Nuclei\"][df[\"Bare Nuclei\"]=='?']='0'\n",
        "df[\"Bare Nuclei\"] = df[\"Bare Nuclei\"].astype(str).astype(int)\n",
        "# df.info()\n",
        "# pd.to_numeric(df[\"Bare Nuclei\"])"
      ],
      "execution_count": 26,
      "outputs": [
        {
          "output_type": "stream",
          "text": [
            "/usr/local/lib/python3.6/dist-packages/ipykernel_launcher.py:2: SettingWithCopyWarning: \n",
            "A value is trying to be set on a copy of a slice from a DataFrame\n",
            "\n",
            "See the caveats in the documentation: https://pandas.pydata.org/pandas-docs/stable/user_guide/indexing.html#returning-a-view-versus-a-copy\n",
            "  \n"
          ],
          "name": "stderr"
        }
      ]
    },
    {
      "cell_type": "code",
      "metadata": {
        "colab": {
          "base_uri": "https://localhost:8080/"
        },
        "id": "vhskSgd688G4",
        "outputId": "c5f2acca-2070-486a-b1e7-935b5acb7c60"
      },
      "source": [
        "# Data Cleaning\n",
        "df=df.drop([\"Sample code number\"], axis = 1)\n",
        "print(df.shape)"
      ],
      "execution_count": 27,
      "outputs": [
        {
          "output_type": "stream",
          "text": [
            "(699, 10)\n"
          ],
          "name": "stdout"
        }
      ]
    },
    {
      "cell_type": "code",
      "metadata": {
        "id": "QCoyQA0x876R"
      },
      "source": [
        "# Data Cleaning\n",
        "def Class_value(Class): \n",
        "     if Class == 2: \n",
        "         return 1\n",
        "     else: \n",
        "         return 0\n",
        "  \n",
        "df['Class'] = df['Class'].apply(Class_value) \n",
        "#df['Class'].head(10)"
      ],
      "execution_count": 28,
      "outputs": []
    },
    {
      "cell_type": "code",
      "metadata": {
        "id": "qFuqmxLX9HiO"
      },
      "source": [
        "sf=df\n",
        "y = sf[\"Class\"].astype(float).values.tolist()\n",
        "# y"
      ],
      "execution_count": 29,
      "outputs": []
    },
    {
      "cell_type": "code",
      "metadata": {
        "id": "oY3jyY6h9Hfr"
      },
      "source": [
        "df=df.drop([\"Class\"], axis = 1)"
      ],
      "execution_count": 30,
      "outputs": []
    },
    {
      "cell_type": "markdown",
      "metadata": {
        "id": "-1cZJBHH8WPa"
      },
      "source": [
        "B. Balle and Y.-X. Wang. Improving the Gaussian Mechanism for Differential Privacy: Analytical Calibration and Optimal Denoising. International Conference on Machine Learning (ICML), 2018."
      ]
    },
    {
      "cell_type": "code",
      "metadata": {
        "id": "gF_v2M9b8Isk"
      },
      "source": [
        "from math import exp, sqrt\n",
        "from scipy.special import erf\n",
        "\n",
        "def calibrateAnalyticGaussianMechanism(epsilon, delta, GS, tol = 1.e-12):\n",
        "    \"\"\" Calibrate a Gaussian perturbation for differential privacy using the analytic Gaussian mechanism of [Balle and Wang, ICML'18]\n",
        "    Arguments:\n",
        "    epsilon : target epsilon (epsilon > 0)\n",
        "    delta : target delta (0 < delta < 1)\n",
        "    GS : upper bound on L2 global sensitivity (GS >= 0)\n",
        "    tol : error tolerance for binary search (tol > 0)\n",
        "    Output:\n",
        "    sigma : standard deviation of Gaussian noise needed to achieve (epsilon,delta)-DP under global sensitivity GS\n",
        "    \"\"\"\n",
        "\n",
        "    def Phi(t):\n",
        "        return 0.5*(1.0 + erf(float(t)/sqrt(2.0)))\n",
        "\n",
        "    def caseA(epsilon,s):\n",
        "        return Phi(sqrt(epsilon*s)) - exp(epsilon)*Phi(-sqrt(epsilon*(s+2.0)))\n",
        "\n",
        "    def caseB(epsilon,s):\n",
        "        return Phi(-sqrt(epsilon*s)) - exp(epsilon)*Phi(-sqrt(epsilon*(s+2.0)))\n",
        "\n",
        "    def doubling_trick(predicate_stop, s_inf, s_sup):\n",
        "        while(not predicate_stop(s_sup)):\n",
        "            s_inf = s_sup\n",
        "            s_sup = 2.0*s_inf\n",
        "        return s_inf, s_sup\n",
        "\n",
        "    def binary_search(predicate_stop, predicate_left, s_inf, s_sup):\n",
        "        s_mid = s_inf + (s_sup-s_inf)/2.0\n",
        "        while(not predicate_stop(s_mid)):\n",
        "            if (predicate_left(s_mid)):\n",
        "                s_sup = s_mid\n",
        "            else:\n",
        "                s_inf = s_mid\n",
        "            s_mid = s_inf + (s_sup-s_inf)/2.0\n",
        "        return s_mid\n",
        "\n",
        "    delta_thr = caseA(epsilon, 0.0)\n",
        "\n",
        "    if (delta == delta_thr):\n",
        "        alpha = 1.0\n",
        "\n",
        "    else:\n",
        "        if (delta > delta_thr):\n",
        "            predicate_stop_DT = lambda s : caseA(epsilon, s) >= delta\n",
        "            function_s_to_delta = lambda s : caseA(epsilon, s)\n",
        "            predicate_left_BS = lambda s : function_s_to_delta(s) > delta\n",
        "            function_s_to_alpha = lambda s : sqrt(1.0 + s/2.0) - sqrt(s/2.0)\n",
        "\n",
        "        else:\n",
        "            predicate_stop_DT = lambda s : caseB(epsilon, s) <= delta\n",
        "            function_s_to_delta = lambda s : caseB(epsilon, s)\n",
        "            predicate_left_BS = lambda s : function_s_to_delta(s) < delta\n",
        "            function_s_to_alpha = lambda s : sqrt(1.0 + s/2.0) + sqrt(s/2.0)\n",
        "\n",
        "        predicate_stop_BS = lambda s : abs(function_s_to_delta(s) - delta) <= tol\n",
        "\n",
        "        s_inf, s_sup = doubling_trick(predicate_stop_DT, 0.0, 1.0)\n",
        "        s_final = binary_search(predicate_stop_BS, predicate_left_BS, s_inf, s_sup)\n",
        "        alpha = function_s_to_alpha(s_final)\n",
        "        \n",
        "    sigma = alpha*GS/sqrt(2.0*epsilon)\n",
        "\n",
        "    return sigma"
      ],
      "execution_count": 31,
      "outputs": []
    },
    {
      "cell_type": "code",
      "metadata": {
        "id": "t7BK8l9R9cE6"
      },
      "source": [
        "data1=df[\"Clump Thickness\"].values\n",
        "data2=df[\"Uniformity of Cell Size\"].values\n",
        "data3=df[\"Uniformity of Cell Shape\"].values\n",
        "data4=df[\"Marginal Adhesion\"].values\n",
        "data5=df[\"Single Epithelial Cell Size\"].values\n",
        "data6=df[\"Bare Nuclei\"].values\n",
        "data7=df[\"Bland Chromatin\"].values\n",
        "data8=df[\"Normal Nucleoli\"].values\n",
        "data9=df[\"Mitoses\"].values"
      ],
      "execution_count": 32,
      "outputs": []
    },
    {
      "cell_type": "code",
      "metadata": {
        "id": "1HpLkJ4xBc66"
      },
      "source": [
        "# sa=np.std(df[\"Clump Thickness\"])/df[\"Clump Thickness\"].mean()\n",
        "# sa"
      ],
      "execution_count": 33,
      "outputs": []
    },
    {
      "cell_type": "code",
      "metadata": {
        "id": "zndJTCAb9jx0"
      },
      "source": [
        "ep=0.1\n",
        "delta=0.5\n",
        "# calibrateAnalyticGaussianMechanism(ep, delta, )\n",
        "Laplacian_noise1 = calibrateAnalyticGaussianMechanism(ep, delta,(np.std(df[\"Clump Thickness\"])/df[\"Clump Thickness\"].mean()))\n",
        "Laplacian_noise2 = calibrateAnalyticGaussianMechanism(ep, delta,(np.std(df[\"Uniformity of Cell Size\"])/df[\"Uniformity of Cell Size\"].mean()))\n",
        "Laplacian_noise3 = calibrateAnalyticGaussianMechanism(ep, delta,(np.std(df[\"Uniformity of Cell Shape\"])/df[\"Uniformity of Cell Shape\"].mean()))\n",
        "Laplacian_noise4 = calibrateAnalyticGaussianMechanism(ep, delta,(np.std(df[\"Marginal Adhesion\"])/df[\"Marginal Adhesion\"].mean()))\n",
        "Laplacian_noise5 = calibrateAnalyticGaussianMechanism(ep, delta,(np.std(df[\"Single Epithelial Cell Size\"])/df[\"Single Epithelial Cell Size\"].mean()))\n",
        "Laplacian_noise6 = calibrateAnalyticGaussianMechanism(ep, delta,(np.std(df[\"Bare Nuclei\"])/df[\"Bare Nuclei\"].mean()))\n",
        "Laplacian_noise7 = calibrateAnalyticGaussianMechanism(ep, delta,(np.std(df[\"Bland Chromatin\"])/df[\"Bland Chromatin\"].mean()))\n",
        "Laplacian_noise8 = calibrateAnalyticGaussianMechanism(ep, delta,(np.std(df[\"Normal Nucleoli\"])/df[\"Normal Nucleoli\"].mean()))\n",
        "Laplacian_noise9 = calibrateAnalyticGaussianMechanism(ep, delta,(np.std(df[\"Mitoses\"])/df[\"Mitoses\"].mean()))"
      ],
      "execution_count": 35,
      "outputs": []
    },
    {
      "cell_type": "code",
      "metadata": {
        "id": "z-wLMUUZ9qUU"
      },
      "source": [
        "noisydata1 = data1 + Laplacian_noise1\n",
        "noisydata2 = data2 + Laplacian_noise2\n",
        "noisydata3 = data3 + Laplacian_noise3\n",
        "noisydata4 = data4 + Laplacian_noise4\n",
        "noisydata5 = data5 + Laplacian_noise5\n",
        "noisydata6 = data6 + Laplacian_noise6\n",
        "noisydata7 = data7 + Laplacian_noise7\n",
        "noisydata8 = data8 + Laplacian_noise8\n",
        "noisydata9 = data9 + Laplacian_noise9\n",
        "# noisydata"
      ],
      "execution_count": 36,
      "outputs": []
    },
    {
      "cell_type": "code",
      "metadata": {
        "id": "x12b7xmJ92Qr"
      },
      "source": [
        "d1 = dict(zip(data1, noisydata1))\n",
        "d2 = dict(zip(data2, noisydata2))\n",
        "d3 = dict(zip(data3, noisydata3))\n",
        "d4 = dict(zip(data4, noisydata4))\n",
        "d5 = dict(zip(data5, noisydata5))\n",
        "d6 = dict(zip(data6, noisydata6))\n",
        "d7 = dict(zip(data7, noisydata7))\n",
        "d8 = dict(zip(data8, noisydata8))\n",
        "d9 = dict(zip(data9, noisydata9))"
      ],
      "execution_count": 37,
      "outputs": []
    },
    {
      "cell_type": "code",
      "metadata": {
        "id": "WHfsT7X49v0P"
      },
      "source": [
        "# df[\"noiceCF\"] = df[\"Clump Thickness\"].map(res)\n",
        "# df[\"noiceCF\"]\n",
        "df[\"noice_Clump Thickness\"]=df[\"Clump Thickness\"].map(d1)\n",
        "df[\"noice_Uniformity of Cell Size\"]=df[\"Uniformity of Cell Size\"].map(d2)\n",
        "df[\"noice_Uniformity of Cell Shape\"]=df[\"Uniformity of Cell Shape\"].map(d3)\n",
        "df[\"noice_Marginal Adhesion\"]=df[\"Marginal Adhesion\"].map(d4)\n",
        "df[\"noice_Single Epithelial Cell Size\"]=df[\"Single Epithelial Cell Size\"].map(d5)\n",
        "df[\"noice_Bare Nuclei\"]=df[\"Bare Nuclei\"].map(d6)\n",
        "df[\"noice_Bland Chromatin\"]=df[\"Bland Chromatin\"].map(d7)\n",
        "df[\"noice_Normal Nucleoli\"]=df[\"Normal Nucleoli\"].map(d8)\n",
        "df[\"noice_Mitoses\"]=df[\"Mitoses\"].map(d9)"
      ],
      "execution_count": 38,
      "outputs": []
    },
    {
      "cell_type": "code",
      "metadata": {
        "id": "qY7iTdK1_XvB"
      },
      "source": [
        "df=df.drop([\"Clump Thickness\", \"Uniformity of Cell Size\", \"Uniformity of Cell Shape\", \"Marginal Adhesion\",\"Single Epithelial Cell Size\", \"Bare Nuclei\", \"Bland Chromatin\", \"Normal Nucleoli\", \"Mitoses\"], axis=1)"
      ],
      "execution_count": 39,
      "outputs": []
    },
    {
      "cell_type": "code",
      "metadata": {
        "colab": {
          "base_uri": "https://localhost:8080/",
          "height": 473
        },
        "id": "hZiDwY-p_Yv-",
        "outputId": "16c4f125-e968-4458-aa0d-390ff14328f9"
      },
      "source": [
        "df"
      ],
      "execution_count": 40,
      "outputs": [
        {
          "output_type": "execute_result",
          "data": {
            "text/html": [
              "<div>\n",
              "<style scoped>\n",
              "    .dataframe tbody tr th:only-of-type {\n",
              "        vertical-align: middle;\n",
              "    }\n",
              "\n",
              "    .dataframe tbody tr th {\n",
              "        vertical-align: top;\n",
              "    }\n",
              "\n",
              "    .dataframe thead th {\n",
              "        text-align: right;\n",
              "    }\n",
              "</style>\n",
              "<table border=\"1\" class=\"dataframe\">\n",
              "  <thead>\n",
              "    <tr style=\"text-align: right;\">\n",
              "      <th></th>\n",
              "      <th>noice_Clump Thickness</th>\n",
              "      <th>noice_Uniformity of Cell Size</th>\n",
              "      <th>noice_Uniformity of Cell Shape</th>\n",
              "      <th>noice_Marginal Adhesion</th>\n",
              "      <th>noice_Single Epithelial Cell Size</th>\n",
              "      <th>noice_Bare Nuclei</th>\n",
              "      <th>noice_Bland Chromatin</th>\n",
              "      <th>noice_Normal Nucleoli</th>\n",
              "      <th>noice_Mitoses</th>\n",
              "    </tr>\n",
              "  </thead>\n",
              "  <tbody>\n",
              "    <tr>\n",
              "      <th>0</th>\n",
              "      <td>5.446907</td>\n",
              "      <td>1.682601</td>\n",
              "      <td>1.649684</td>\n",
              "      <td>1.713291</td>\n",
              "      <td>2.482772</td>\n",
              "      <td>1.737044</td>\n",
              "      <td>3.497333</td>\n",
              "      <td>1.746829</td>\n",
              "      <td>1.75661</td>\n",
              "    </tr>\n",
              "    <tr>\n",
              "      <th>1</th>\n",
              "      <td>5.446907</td>\n",
              "      <td>4.682601</td>\n",
              "      <td>4.649684</td>\n",
              "      <td>5.713291</td>\n",
              "      <td>7.482772</td>\n",
              "      <td>10.737044</td>\n",
              "      <td>3.497333</td>\n",
              "      <td>2.746829</td>\n",
              "      <td>1.75661</td>\n",
              "    </tr>\n",
              "    <tr>\n",
              "      <th>2</th>\n",
              "      <td>3.446907</td>\n",
              "      <td>1.682601</td>\n",
              "      <td>1.649684</td>\n",
              "      <td>1.713291</td>\n",
              "      <td>2.482772</td>\n",
              "      <td>2.737044</td>\n",
              "      <td>3.497333</td>\n",
              "      <td>1.746829</td>\n",
              "      <td>1.75661</td>\n",
              "    </tr>\n",
              "    <tr>\n",
              "      <th>3</th>\n",
              "      <td>6.446907</td>\n",
              "      <td>8.682601</td>\n",
              "      <td>8.649684</td>\n",
              "      <td>1.713291</td>\n",
              "      <td>3.482772</td>\n",
              "      <td>4.737044</td>\n",
              "      <td>3.497333</td>\n",
              "      <td>7.746829</td>\n",
              "      <td>1.75661</td>\n",
              "    </tr>\n",
              "    <tr>\n",
              "      <th>4</th>\n",
              "      <td>4.446907</td>\n",
              "      <td>1.682601</td>\n",
              "      <td>1.649684</td>\n",
              "      <td>3.713291</td>\n",
              "      <td>2.482772</td>\n",
              "      <td>1.737044</td>\n",
              "      <td>3.497333</td>\n",
              "      <td>1.746829</td>\n",
              "      <td>1.75661</td>\n",
              "    </tr>\n",
              "    <tr>\n",
              "      <th>...</th>\n",
              "      <td>...</td>\n",
              "      <td>...</td>\n",
              "      <td>...</td>\n",
              "      <td>...</td>\n",
              "      <td>...</td>\n",
              "      <td>...</td>\n",
              "      <td>...</td>\n",
              "      <td>...</td>\n",
              "      <td>...</td>\n",
              "    </tr>\n",
              "    <tr>\n",
              "      <th>694</th>\n",
              "      <td>3.446907</td>\n",
              "      <td>1.682601</td>\n",
              "      <td>1.649684</td>\n",
              "      <td>1.713291</td>\n",
              "      <td>3.482772</td>\n",
              "      <td>2.737044</td>\n",
              "      <td>1.497333</td>\n",
              "      <td>1.746829</td>\n",
              "      <td>1.75661</td>\n",
              "    </tr>\n",
              "    <tr>\n",
              "      <th>695</th>\n",
              "      <td>2.446907</td>\n",
              "      <td>1.682601</td>\n",
              "      <td>1.649684</td>\n",
              "      <td>1.713291</td>\n",
              "      <td>2.482772</td>\n",
              "      <td>1.737044</td>\n",
              "      <td>1.497333</td>\n",
              "      <td>1.746829</td>\n",
              "      <td>1.75661</td>\n",
              "    </tr>\n",
              "    <tr>\n",
              "      <th>696</th>\n",
              "      <td>5.446907</td>\n",
              "      <td>10.682601</td>\n",
              "      <td>10.649684</td>\n",
              "      <td>3.713291</td>\n",
              "      <td>7.482772</td>\n",
              "      <td>3.737044</td>\n",
              "      <td>8.497333</td>\n",
              "      <td>10.746829</td>\n",
              "      <td>2.75661</td>\n",
              "    </tr>\n",
              "    <tr>\n",
              "      <th>697</th>\n",
              "      <td>4.446907</td>\n",
              "      <td>8.682601</td>\n",
              "      <td>6.649684</td>\n",
              "      <td>4.713291</td>\n",
              "      <td>3.482772</td>\n",
              "      <td>4.737044</td>\n",
              "      <td>10.497333</td>\n",
              "      <td>6.746829</td>\n",
              "      <td>1.75661</td>\n",
              "    </tr>\n",
              "    <tr>\n",
              "      <th>698</th>\n",
              "      <td>4.446907</td>\n",
              "      <td>8.682601</td>\n",
              "      <td>8.649684</td>\n",
              "      <td>5.713291</td>\n",
              "      <td>4.482772</td>\n",
              "      <td>5.737044</td>\n",
              "      <td>10.497333</td>\n",
              "      <td>4.746829</td>\n",
              "      <td>1.75661</td>\n",
              "    </tr>\n",
              "  </tbody>\n",
              "</table>\n",
              "<p>699 rows × 9 columns</p>\n",
              "</div>"
            ],
            "text/plain": [
              "     noice_Clump Thickness  ...  noice_Mitoses\n",
              "0                 5.446907  ...        1.75661\n",
              "1                 5.446907  ...        1.75661\n",
              "2                 3.446907  ...        1.75661\n",
              "3                 6.446907  ...        1.75661\n",
              "4                 4.446907  ...        1.75661\n",
              "..                     ...  ...            ...\n",
              "694               3.446907  ...        1.75661\n",
              "695               2.446907  ...        1.75661\n",
              "696               5.446907  ...        2.75661\n",
              "697               4.446907  ...        1.75661\n",
              "698               4.446907  ...        1.75661\n",
              "\n",
              "[699 rows x 9 columns]"
            ]
          },
          "metadata": {
            "tags": []
          },
          "execution_count": 40
        }
      ]
    },
    {
      "cell_type": "code",
      "metadata": {
        "id": "_pMmwpISD3Ky"
      },
      "source": [
        ""
      ],
      "execution_count": null,
      "outputs": []
    }
  ]
}