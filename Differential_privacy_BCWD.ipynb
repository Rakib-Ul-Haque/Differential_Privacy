{
  "nbformat": 4,
  "nbformat_minor": 0,
  "metadata": {
    "colab": {
      "name": "Differential privacy.ipynb",
      "provenance": [],
      "authorship_tag": "ABX9TyOxEWOcbx5+1HFdxEchZq0s",
      "include_colab_link": true
    },
    "kernelspec": {
      "name": "python3",
      "display_name": "Python 3"
    }
  },
  "cells": [
    {
      "cell_type": "markdown",
      "metadata": {
        "id": "view-in-github",
        "colab_type": "text"
      },
      "source": [
        "<a href=\"https://colab.research.google.com/github/Rakib-Ul-Haque/Differential_Privacy/blob/main/Differential_privacy_BCWD.ipynb\" target=\"_parent\"><img src=\"https://colab.research.google.com/assets/colab-badge.svg\" alt=\"Open In Colab\"/></a>"
      ]
    },
    {
      "cell_type": "markdown",
      "metadata": {
        "id": "lNxlkTH57ORz"
      },
      "source": [
        "## **BCWD data with classic Laplace**"
      ]
    },
    {
      "cell_type": "code",
      "metadata": {
        "id": "J042dyQx0m8N"
      },
      "source": [
        "# Library Declaration  \n",
        "import numpy as np\n",
        "import pandas as pd \n",
        "# Data Input\n",
        "df = pd.read_table('breast-cancer-wisconsin.data', sep=',', names=[\"Sample code number\", \"Clump Thickness\", \"Uniformity of Cell Size\", \"Uniformity of Cell Shape\", \"Marginal Adhesion\", \"Single Epithelial Cell Size\",\"Bare Nuclei\", \"Bland Chromatin\", \"Normal Nucleoli\",\"Mitoses\",\"Class\"]) \n",
        "# print(df.head)"
      ],
      "execution_count": 1,
      "outputs": []
    },
    {
      "cell_type": "code",
      "metadata": {
        "colab": {
          "base_uri": "https://localhost:8080/"
        },
        "id": "Jp-EQV9r1yww",
        "outputId": "df4b8da5-26db-4fa3-8231-50dc2b45e3e2"
      },
      "source": [
        "# Data Cleaning\n",
        "df[\"Bare Nuclei\"][df[\"Bare Nuclei\"]=='?']='0'\n",
        "df[\"Bare Nuclei\"] = df[\"Bare Nuclei\"].astype(str).astype(int)\n",
        "# df.info()\n",
        "# pd.to_numeric(df[\"Bare Nuclei\"])"
      ],
      "execution_count": 2,
      "outputs": [
        {
          "output_type": "stream",
          "text": [
            "/usr/local/lib/python3.6/dist-packages/ipykernel_launcher.py:2: SettingWithCopyWarning: \n",
            "A value is trying to be set on a copy of a slice from a DataFrame\n",
            "\n",
            "See the caveats in the documentation: https://pandas.pydata.org/pandas-docs/stable/user_guide/indexing.html#returning-a-view-versus-a-copy\n",
            "  \n"
          ],
          "name": "stderr"
        }
      ]
    },
    {
      "cell_type": "code",
      "metadata": {
        "colab": {
          "base_uri": "https://localhost:8080/"
        },
        "id": "NzcdTB3e10_V",
        "outputId": "5196afe6-823f-40c3-d7eb-37c2b210e6a4"
      },
      "source": [
        "# Data Cleaning\n",
        "df=df.drop([\"Sample code number\"], axis = 1)\n",
        "print(df.shape)"
      ],
      "execution_count": 3,
      "outputs": [
        {
          "output_type": "stream",
          "text": [
            "(699, 10)\n"
          ],
          "name": "stdout"
        }
      ]
    },
    {
      "cell_type": "code",
      "metadata": {
        "id": "NrPfIzpF13lN"
      },
      "source": [
        "# Data Cleaning\n",
        "def Class_value(Class): \n",
        "     if Class == 2: \n",
        "         return 1\n",
        "     else: \n",
        "         return 0\n",
        "  \n",
        "df['Class'] = df['Class'].apply(Class_value) \n",
        "#df['Class'].head(10)"
      ],
      "execution_count": 4,
      "outputs": []
    },
    {
      "cell_type": "code",
      "metadata": {
        "id": "yjRZ72ym15qE"
      },
      "source": [
        "sf=df\n",
        "y = sf[\"Class\"].astype(float).values.tolist()\n",
        "# y"
      ],
      "execution_count": 5,
      "outputs": []
    },
    {
      "cell_type": "code",
      "metadata": {
        "id": "xqPocp1c1-y_"
      },
      "source": [
        "df=df.drop([\"Class\"], axis = 1)"
      ],
      "execution_count": 6,
      "outputs": []
    },
    {
      "cell_type": "code",
      "metadata": {
        "id": "w_dnTn_k2EnP"
      },
      "source": [
        "# dataset = df.astype(float).values.tolist()\n",
        "# dataset"
      ],
      "execution_count": 7,
      "outputs": []
    },
    {
      "cell_type": "code",
      "metadata": {
        "id": "PKosD5Gk2OLm"
      },
      "source": [
        "# df[\"Clump Thickness\"].head()"
      ],
      "execution_count": 8,
      "outputs": []
    },
    {
      "cell_type": "code",
      "metadata": {
        "id": "bbiLf_hvh_RB"
      },
      "source": [
        "# df[\"Clump Thickness\"].min()\n",
        "# df[\"Clump Thickness\"].max()\n",
        "# len(df[\"Clump Thickness\"])"
      ],
      "execution_count": 9,
      "outputs": []
    },
    {
      "cell_type": "code",
      "metadata": {
        "id": "y5m4jf-Vo9wZ"
      },
      "source": [
        "import math"
      ],
      "execution_count": 10,
      "outputs": []
    },
    {
      "cell_type": "code",
      "metadata": {
        "id": "16QAz-1I30OD"
      },
      "source": [
        "# ep=1\n",
        "# def Lap(x,b):\n",
        "#   # print(x)\n",
        "#   # print(\"bget\",b)\n",
        "#   temp=(math.exp(-(abs(x)*b)))*(b/2)\n",
        "#   # print(\"noice: \",temp)\n",
        "#   return temp\n",
        "\n",
        "\n",
        "# for i in df[\"Clump Thickness\"]:\n",
        "#   noice=Lap((df[\"Clump Thickness\"].max()-df[\"Clump Thickness\"].min()),(ep))\n",
        "#   # noice=Lap((i),(ep))\n",
        "#   # data=i+noice\n",
        "#   print(noice)"
      ],
      "execution_count": 11,
      "outputs": []
    },
    {
      "cell_type": "code",
      "metadata": {
        "id": "4PjGPrU4oyLU"
      },
      "source": [
        "# sss=0.0027772491345605765\n",
        "# ssss=6.170490204333978e-05\n",
        "# if sss>ssss:\n",
        "#   print(\"sss:\",sss)\n",
        "# else:\n",
        "#   print(\"ssss:\",ssss)\n",
        "# abs(-1.4)\n",
        "# math.exp(-((62910-4.5)/0.5))"
      ],
      "execution_count": 12,
      "outputs": []
    },
    {
      "cell_type": "code",
      "metadata": {
        "id": "5bgWQRbRjJIs"
      },
      "source": [
        "# df[\"Clump Thickness\"].mean()"
      ],
      "execution_count": 13,
      "outputs": []
    },
    {
      "cell_type": "code",
      "metadata": {
        "id": "GT5OV-6YsJCn"
      },
      "source": [
        "# datacount = df[\"Clump Thickness\"].value_counts()\n",
        "# datacount = df[\"Clump Thickness\"].value_counts()\n"
      ],
      "execution_count": 14,
      "outputs": []
    },
    {
      "cell_type": "code",
      "metadata": {
        "id": "GuP8GvLQOyV6"
      },
      "source": [
        "import math\n",
        "data1=df[\"Clump Thickness\"].unique()\n",
        "data2=df[\"Uniformity of Cell Size\"].unique()\n",
        "data3=df[\"Uniformity of Cell Shape\"].unique()\n",
        "data4=df[\"Marginal Adhesion\"].unique()\n",
        "data5=df[\"Single Epithelial Cell Size\"].unique()\n",
        "data6=df[\"Bare Nuclei\"].unique()\n",
        "data7=df[\"Bland Chromatin\"].unique()\n",
        "data8=df[\"Normal Nucleoli\"].unique()\n",
        "data9=df[\"Mitoses\"].unique()"
      ],
      "execution_count": 15,
      "outputs": []
    },
    {
      "cell_type": "code",
      "metadata": {
        "id": "29ytOwfMNKHf"
      },
      "source": [
        "location = 1.0\n",
        "scale = 0.1"
      ],
      "execution_count": 16,
      "outputs": []
    },
    {
      "cell_type": "code",
      "metadata": {
        "id": "6JHfqW4hNSRA"
      },
      "source": [
        "Laplacian_noise1 = np.random.laplace(location,scale, len(data1))\n",
        "Laplacian_noise2 = np.random.laplace(location,scale, len(data2))\n",
        "Laplacian_noise3 = np.random.laplace(location,scale, len(data3))\n",
        "Laplacian_noise4 = np.random.laplace(location,scale, len(data4))\n",
        "Laplacian_noise5 = np.random.laplace(location,scale, len(data5))\n",
        "Laplacian_noise6 = np.random.laplace(location,scale, len(data6))\n",
        "Laplacian_noise7 = np.random.laplace(location,scale, len(data7))\n",
        "Laplacian_noise8 = np.random.laplace(location,scale, len(data8))\n",
        "Laplacian_noise9 = np.random.laplace(location,scale, len(data9))\n",
        "# print(Laplacian_noise)"
      ],
      "execution_count": 17,
      "outputs": []
    },
    {
      "cell_type": "code",
      "metadata": {
        "id": "g2iyepaYNmYc"
      },
      "source": [
        "noisydata1 = data1 + Laplacian_noise1\n",
        "noisydata2 = data2 + Laplacian_noise2\n",
        "noisydata3 = data3 + Laplacian_noise3\n",
        "noisydata4 = data4 + Laplacian_noise4\n",
        "noisydata5 = data5 + Laplacian_noise5\n",
        "noisydata6 = data6 + Laplacian_noise6\n",
        "noisydata7 = data7 + Laplacian_noise7\n",
        "noisydata8 = data8 + Laplacian_noise8\n",
        "noisydata9 = data9 + Laplacian_noise9\n",
        "# noisydata"
      ],
      "execution_count": 18,
      "outputs": []
    },
    {
      "cell_type": "code",
      "metadata": {
        "id": "qJfKtzkEODKG"
      },
      "source": [
        "d1 = dict(zip(data1, noisydata1))\n",
        "d2 = dict(zip(data2, noisydata2))\n",
        "d3 = dict(zip(data3, noisydata3))\n",
        "d4 = dict(zip(data4, noisydata4))\n",
        "d5 = dict(zip(data5, noisydata5))\n",
        "d6 = dict(zip(data6, noisydata6))\n",
        "d7 = dict(zip(data7, noisydata7))\n",
        "d8 = dict(zip(data8, noisydata8))\n",
        "d9 = dict(zip(data9, noisydata9))"
      ],
      "execution_count": 19,
      "outputs": []
    },
    {
      "cell_type": "code",
      "metadata": {
        "id": "eDL8YGjiUTIV"
      },
      "source": [
        "# df[\"noiceCF\"] = df[\"Clump Thickness\"].map(res)\n",
        "# df[\"noiceCF\"]\n",
        "df[\"noice_Clump Thickness\"]=df[\"Clump Thickness\"].map(d1)\n",
        "df[\"noice_Uniformity of Cell Size\"]=df[\"Uniformity of Cell Size\"].map(d2)\n",
        "df[\"noice_Uniformity of Cell Shape\"]=df[\"Uniformity of Cell Shape\"].map(d3)\n",
        "df[\"noice_Marginal Adhesion\"]=df[\"Marginal Adhesion\"].map(d4)\n",
        "df[\"noice_Single Epithelial Cell Size\"]=df[\"Single Epithelial Cell Size\"].map(d5)\n",
        "df[\"noice_Bare Nuclei\"]=df[\"Bare Nuclei\"].map(d6)\n",
        "df[\"noice_Bland Chromatin\"]=df[\"Bland Chromatin\"].map(d7)\n",
        "df[\"noice_Normal Nucleoli\"]=df[\"Normal Nucleoli\"].map(d8)\n",
        "df[\"noice_Mitoses\"]=df[\"Mitoses\"].map(d9)"
      ],
      "execution_count": 20,
      "outputs": []
    },
    {
      "cell_type": "code",
      "metadata": {
        "id": "t0trVwloVZrR",
        "colab": {
          "base_uri": "https://localhost:8080/",
          "height": 473
        },
        "outputId": "13bb7036-25b5-4218-a41a-fb9900665dc3"
      },
      "source": [
        "df=df.drop([\"Clump Thickness\", \"Uniformity of Cell Size\", \"Uniformity of Cell Shape\", \"Marginal Adhesion\",\"Single Epithelial Cell Size\", \"Bare Nuclei\", \"Bland Chromatin\", \"Normal Nucleoli\", \"Mitoses\"], axis=1)"
      ],
      "execution_count": 21,
      "outputs": [
        {
          "output_type": "execute_result",
          "data": {
            "text/html": [
              "<div>\n",
              "<style scoped>\n",
              "    .dataframe tbody tr th:only-of-type {\n",
              "        vertical-align: middle;\n",
              "    }\n",
              "\n",
              "    .dataframe tbody tr th {\n",
              "        vertical-align: top;\n",
              "    }\n",
              "\n",
              "    .dataframe thead th {\n",
              "        text-align: right;\n",
              "    }\n",
              "</style>\n",
              "<table border=\"1\" class=\"dataframe\">\n",
              "  <thead>\n",
              "    <tr style=\"text-align: right;\">\n",
              "      <th></th>\n",
              "      <th>noice_Clump Thickness</th>\n",
              "      <th>noice_Uniformity of Cell Size</th>\n",
              "      <th>noice_Uniformity of Cell Shape</th>\n",
              "      <th>noice_Marginal Adhesion</th>\n",
              "      <th>noice_Single Epithelial Cell Size</th>\n",
              "      <th>noice_Bare Nuclei</th>\n",
              "      <th>noice_Bland Chromatin</th>\n",
              "      <th>noice_Normal Nucleoli</th>\n",
              "      <th>noice_Mitoses</th>\n",
              "    </tr>\n",
              "  </thead>\n",
              "  <tbody>\n",
              "    <tr>\n",
              "      <th>0</th>\n",
              "      <td>5.987621</td>\n",
              "      <td>1.875802</td>\n",
              "      <td>1.962391</td>\n",
              "      <td>1.999414</td>\n",
              "      <td>2.969821</td>\n",
              "      <td>1.981674</td>\n",
              "      <td>3.770324</td>\n",
              "      <td>2.298516</td>\n",
              "      <td>2.198131</td>\n",
              "    </tr>\n",
              "    <tr>\n",
              "      <th>1</th>\n",
              "      <td>5.987621</td>\n",
              "      <td>4.992940</td>\n",
              "      <td>5.002021</td>\n",
              "      <td>6.024010</td>\n",
              "      <td>8.000770</td>\n",
              "      <td>11.016685</td>\n",
              "      <td>3.770324</td>\n",
              "      <td>2.976672</td>\n",
              "      <td>2.198131</td>\n",
              "    </tr>\n",
              "    <tr>\n",
              "      <th>2</th>\n",
              "      <td>3.964995</td>\n",
              "      <td>1.875802</td>\n",
              "      <td>1.962391</td>\n",
              "      <td>1.999414</td>\n",
              "      <td>2.969821</td>\n",
              "      <td>3.254935</td>\n",
              "      <td>3.770324</td>\n",
              "      <td>2.298516</td>\n",
              "      <td>2.198131</td>\n",
              "    </tr>\n",
              "    <tr>\n",
              "      <th>3</th>\n",
              "      <td>6.983850</td>\n",
              "      <td>8.910015</td>\n",
              "      <td>8.971155</td>\n",
              "      <td>1.999414</td>\n",
              "      <td>3.972086</td>\n",
              "      <td>4.847445</td>\n",
              "      <td>3.770324</td>\n",
              "      <td>8.008036</td>\n",
              "      <td>2.198131</td>\n",
              "    </tr>\n",
              "    <tr>\n",
              "      <th>4</th>\n",
              "      <td>5.061381</td>\n",
              "      <td>1.875802</td>\n",
              "      <td>1.962391</td>\n",
              "      <td>4.039305</td>\n",
              "      <td>2.969821</td>\n",
              "      <td>1.981674</td>\n",
              "      <td>3.770324</td>\n",
              "      <td>2.298516</td>\n",
              "      <td>2.198131</td>\n",
              "    </tr>\n",
              "    <tr>\n",
              "      <th>...</th>\n",
              "      <td>...</td>\n",
              "      <td>...</td>\n",
              "      <td>...</td>\n",
              "      <td>...</td>\n",
              "      <td>...</td>\n",
              "      <td>...</td>\n",
              "      <td>...</td>\n",
              "      <td>...</td>\n",
              "      <td>...</td>\n",
              "    </tr>\n",
              "    <tr>\n",
              "      <th>694</th>\n",
              "      <td>3.964995</td>\n",
              "      <td>1.875802</td>\n",
              "      <td>1.962391</td>\n",
              "      <td>1.999414</td>\n",
              "      <td>3.972086</td>\n",
              "      <td>3.254935</td>\n",
              "      <td>1.937865</td>\n",
              "      <td>2.298516</td>\n",
              "      <td>2.198131</td>\n",
              "    </tr>\n",
              "    <tr>\n",
              "      <th>695</th>\n",
              "      <td>2.844824</td>\n",
              "      <td>1.875802</td>\n",
              "      <td>1.962391</td>\n",
              "      <td>1.999414</td>\n",
              "      <td>2.969821</td>\n",
              "      <td>1.981674</td>\n",
              "      <td>1.937865</td>\n",
              "      <td>2.298516</td>\n",
              "      <td>2.198131</td>\n",
              "    </tr>\n",
              "    <tr>\n",
              "      <th>696</th>\n",
              "      <td>5.987621</td>\n",
              "      <td>11.216139</td>\n",
              "      <td>11.006203</td>\n",
              "      <td>4.039305</td>\n",
              "      <td>8.000770</td>\n",
              "      <td>4.247945</td>\n",
              "      <td>9.051848</td>\n",
              "      <td>10.915148</td>\n",
              "      <td>3.046041</td>\n",
              "    </tr>\n",
              "    <tr>\n",
              "      <th>697</th>\n",
              "      <td>5.061381</td>\n",
              "      <td>8.910015</td>\n",
              "      <td>7.053505</td>\n",
              "      <td>4.962403</td>\n",
              "      <td>3.972086</td>\n",
              "      <td>4.847445</td>\n",
              "      <td>11.154835</td>\n",
              "      <td>6.942133</td>\n",
              "      <td>2.198131</td>\n",
              "    </tr>\n",
              "    <tr>\n",
              "      <th>698</th>\n",
              "      <td>5.061381</td>\n",
              "      <td>8.910015</td>\n",
              "      <td>8.971155</td>\n",
              "      <td>6.024010</td>\n",
              "      <td>4.809723</td>\n",
              "      <td>5.935330</td>\n",
              "      <td>11.154835</td>\n",
              "      <td>5.077366</td>\n",
              "      <td>2.198131</td>\n",
              "    </tr>\n",
              "  </tbody>\n",
              "</table>\n",
              "<p>699 rows × 9 columns</p>\n",
              "</div>"
            ],
            "text/plain": [
              "     noice_Clump Thickness  ...  noice_Mitoses\n",
              "0                 5.987621  ...       2.198131\n",
              "1                 5.987621  ...       2.198131\n",
              "2                 3.964995  ...       2.198131\n",
              "3                 6.983850  ...       2.198131\n",
              "4                 5.061381  ...       2.198131\n",
              "..                     ...  ...            ...\n",
              "694               3.964995  ...       2.198131\n",
              "695               2.844824  ...       2.198131\n",
              "696               5.987621  ...       3.046041\n",
              "697               5.061381  ...       2.198131\n",
              "698               5.061381  ...       2.198131\n",
              "\n",
              "[699 rows x 9 columns]"
            ]
          },
          "metadata": {
            "tags": []
          },
          "execution_count": 21
        }
      ]
    },
    {
      "cell_type": "code",
      "metadata": {
        "colab": {
          "base_uri": "https://localhost:8080/",
          "height": 473
        },
        "id": "ygpKgRkz-wK5",
        "outputId": "bab2ad87-0827-4ede-c255-aa0389b45821"
      },
      "source": [
        "df"
      ],
      "execution_count": 22,
      "outputs": [
        {
          "output_type": "execute_result",
          "data": {
            "text/html": [
              "<div>\n",
              "<style scoped>\n",
              "    .dataframe tbody tr th:only-of-type {\n",
              "        vertical-align: middle;\n",
              "    }\n",
              "\n",
              "    .dataframe tbody tr th {\n",
              "        vertical-align: top;\n",
              "    }\n",
              "\n",
              "    .dataframe thead th {\n",
              "        text-align: right;\n",
              "    }\n",
              "</style>\n",
              "<table border=\"1\" class=\"dataframe\">\n",
              "  <thead>\n",
              "    <tr style=\"text-align: right;\">\n",
              "      <th></th>\n",
              "      <th>Clump Thickness</th>\n",
              "      <th>Uniformity of Cell Size</th>\n",
              "      <th>Uniformity of Cell Shape</th>\n",
              "      <th>Marginal Adhesion</th>\n",
              "      <th>Single Epithelial Cell Size</th>\n",
              "      <th>Bare Nuclei</th>\n",
              "      <th>Bland Chromatin</th>\n",
              "      <th>Normal Nucleoli</th>\n",
              "      <th>Mitoses</th>\n",
              "      <th>noice_Clump Thickness</th>\n",
              "      <th>noice_Uniformity of Cell Size</th>\n",
              "      <th>noice_Uniformity of Cell Shape</th>\n",
              "      <th>noice_Marginal Adhesion</th>\n",
              "      <th>noice_Single Epithelial Cell Size</th>\n",
              "      <th>noice_Bare Nuclei</th>\n",
              "      <th>noice_Bland Chromatin</th>\n",
              "      <th>noice_Normal Nucleoli</th>\n",
              "      <th>noice_Mitoses</th>\n",
              "    </tr>\n",
              "  </thead>\n",
              "  <tbody>\n",
              "    <tr>\n",
              "      <th>0</th>\n",
              "      <td>5</td>\n",
              "      <td>1</td>\n",
              "      <td>1</td>\n",
              "      <td>1</td>\n",
              "      <td>2</td>\n",
              "      <td>1</td>\n",
              "      <td>3</td>\n",
              "      <td>1</td>\n",
              "      <td>1</td>\n",
              "      <td>5.987621</td>\n",
              "      <td>1.875802</td>\n",
              "      <td>1.962391</td>\n",
              "      <td>1.999414</td>\n",
              "      <td>2.969821</td>\n",
              "      <td>1.981674</td>\n",
              "      <td>3.770324</td>\n",
              "      <td>2.298516</td>\n",
              "      <td>2.198131</td>\n",
              "    </tr>\n",
              "    <tr>\n",
              "      <th>1</th>\n",
              "      <td>5</td>\n",
              "      <td>4</td>\n",
              "      <td>4</td>\n",
              "      <td>5</td>\n",
              "      <td>7</td>\n",
              "      <td>10</td>\n",
              "      <td>3</td>\n",
              "      <td>2</td>\n",
              "      <td>1</td>\n",
              "      <td>5.987621</td>\n",
              "      <td>4.992940</td>\n",
              "      <td>5.002021</td>\n",
              "      <td>6.024010</td>\n",
              "      <td>8.000770</td>\n",
              "      <td>11.016685</td>\n",
              "      <td>3.770324</td>\n",
              "      <td>2.976672</td>\n",
              "      <td>2.198131</td>\n",
              "    </tr>\n",
              "    <tr>\n",
              "      <th>2</th>\n",
              "      <td>3</td>\n",
              "      <td>1</td>\n",
              "      <td>1</td>\n",
              "      <td>1</td>\n",
              "      <td>2</td>\n",
              "      <td>2</td>\n",
              "      <td>3</td>\n",
              "      <td>1</td>\n",
              "      <td>1</td>\n",
              "      <td>3.964995</td>\n",
              "      <td>1.875802</td>\n",
              "      <td>1.962391</td>\n",
              "      <td>1.999414</td>\n",
              "      <td>2.969821</td>\n",
              "      <td>3.254935</td>\n",
              "      <td>3.770324</td>\n",
              "      <td>2.298516</td>\n",
              "      <td>2.198131</td>\n",
              "    </tr>\n",
              "    <tr>\n",
              "      <th>3</th>\n",
              "      <td>6</td>\n",
              "      <td>8</td>\n",
              "      <td>8</td>\n",
              "      <td>1</td>\n",
              "      <td>3</td>\n",
              "      <td>4</td>\n",
              "      <td>3</td>\n",
              "      <td>7</td>\n",
              "      <td>1</td>\n",
              "      <td>6.983850</td>\n",
              "      <td>8.910015</td>\n",
              "      <td>8.971155</td>\n",
              "      <td>1.999414</td>\n",
              "      <td>3.972086</td>\n",
              "      <td>4.847445</td>\n",
              "      <td>3.770324</td>\n",
              "      <td>8.008036</td>\n",
              "      <td>2.198131</td>\n",
              "    </tr>\n",
              "    <tr>\n",
              "      <th>4</th>\n",
              "      <td>4</td>\n",
              "      <td>1</td>\n",
              "      <td>1</td>\n",
              "      <td>3</td>\n",
              "      <td>2</td>\n",
              "      <td>1</td>\n",
              "      <td>3</td>\n",
              "      <td>1</td>\n",
              "      <td>1</td>\n",
              "      <td>5.061381</td>\n",
              "      <td>1.875802</td>\n",
              "      <td>1.962391</td>\n",
              "      <td>4.039305</td>\n",
              "      <td>2.969821</td>\n",
              "      <td>1.981674</td>\n",
              "      <td>3.770324</td>\n",
              "      <td>2.298516</td>\n",
              "      <td>2.198131</td>\n",
              "    </tr>\n",
              "    <tr>\n",
              "      <th>...</th>\n",
              "      <td>...</td>\n",
              "      <td>...</td>\n",
              "      <td>...</td>\n",
              "      <td>...</td>\n",
              "      <td>...</td>\n",
              "      <td>...</td>\n",
              "      <td>...</td>\n",
              "      <td>...</td>\n",
              "      <td>...</td>\n",
              "      <td>...</td>\n",
              "      <td>...</td>\n",
              "      <td>...</td>\n",
              "      <td>...</td>\n",
              "      <td>...</td>\n",
              "      <td>...</td>\n",
              "      <td>...</td>\n",
              "      <td>...</td>\n",
              "      <td>...</td>\n",
              "    </tr>\n",
              "    <tr>\n",
              "      <th>694</th>\n",
              "      <td>3</td>\n",
              "      <td>1</td>\n",
              "      <td>1</td>\n",
              "      <td>1</td>\n",
              "      <td>3</td>\n",
              "      <td>2</td>\n",
              "      <td>1</td>\n",
              "      <td>1</td>\n",
              "      <td>1</td>\n",
              "      <td>3.964995</td>\n",
              "      <td>1.875802</td>\n",
              "      <td>1.962391</td>\n",
              "      <td>1.999414</td>\n",
              "      <td>3.972086</td>\n",
              "      <td>3.254935</td>\n",
              "      <td>1.937865</td>\n",
              "      <td>2.298516</td>\n",
              "      <td>2.198131</td>\n",
              "    </tr>\n",
              "    <tr>\n",
              "      <th>695</th>\n",
              "      <td>2</td>\n",
              "      <td>1</td>\n",
              "      <td>1</td>\n",
              "      <td>1</td>\n",
              "      <td>2</td>\n",
              "      <td>1</td>\n",
              "      <td>1</td>\n",
              "      <td>1</td>\n",
              "      <td>1</td>\n",
              "      <td>2.844824</td>\n",
              "      <td>1.875802</td>\n",
              "      <td>1.962391</td>\n",
              "      <td>1.999414</td>\n",
              "      <td>2.969821</td>\n",
              "      <td>1.981674</td>\n",
              "      <td>1.937865</td>\n",
              "      <td>2.298516</td>\n",
              "      <td>2.198131</td>\n",
              "    </tr>\n",
              "    <tr>\n",
              "      <th>696</th>\n",
              "      <td>5</td>\n",
              "      <td>10</td>\n",
              "      <td>10</td>\n",
              "      <td>3</td>\n",
              "      <td>7</td>\n",
              "      <td>3</td>\n",
              "      <td>8</td>\n",
              "      <td>10</td>\n",
              "      <td>2</td>\n",
              "      <td>5.987621</td>\n",
              "      <td>11.216139</td>\n",
              "      <td>11.006203</td>\n",
              "      <td>4.039305</td>\n",
              "      <td>8.000770</td>\n",
              "      <td>4.247945</td>\n",
              "      <td>9.051848</td>\n",
              "      <td>10.915148</td>\n",
              "      <td>3.046041</td>\n",
              "    </tr>\n",
              "    <tr>\n",
              "      <th>697</th>\n",
              "      <td>4</td>\n",
              "      <td>8</td>\n",
              "      <td>6</td>\n",
              "      <td>4</td>\n",
              "      <td>3</td>\n",
              "      <td>4</td>\n",
              "      <td>10</td>\n",
              "      <td>6</td>\n",
              "      <td>1</td>\n",
              "      <td>5.061381</td>\n",
              "      <td>8.910015</td>\n",
              "      <td>7.053505</td>\n",
              "      <td>4.962403</td>\n",
              "      <td>3.972086</td>\n",
              "      <td>4.847445</td>\n",
              "      <td>11.154835</td>\n",
              "      <td>6.942133</td>\n",
              "      <td>2.198131</td>\n",
              "    </tr>\n",
              "    <tr>\n",
              "      <th>698</th>\n",
              "      <td>4</td>\n",
              "      <td>8</td>\n",
              "      <td>8</td>\n",
              "      <td>5</td>\n",
              "      <td>4</td>\n",
              "      <td>5</td>\n",
              "      <td>10</td>\n",
              "      <td>4</td>\n",
              "      <td>1</td>\n",
              "      <td>5.061381</td>\n",
              "      <td>8.910015</td>\n",
              "      <td>8.971155</td>\n",
              "      <td>6.024010</td>\n",
              "      <td>4.809723</td>\n",
              "      <td>5.935330</td>\n",
              "      <td>11.154835</td>\n",
              "      <td>5.077366</td>\n",
              "      <td>2.198131</td>\n",
              "    </tr>\n",
              "  </tbody>\n",
              "</table>\n",
              "<p>699 rows × 18 columns</p>\n",
              "</div>"
            ],
            "text/plain": [
              "     Clump Thickness  ...  noice_Mitoses\n",
              "0                  5  ...       2.198131\n",
              "1                  5  ...       2.198131\n",
              "2                  3  ...       2.198131\n",
              "3                  6  ...       2.198131\n",
              "4                  4  ...       2.198131\n",
              "..               ...  ...            ...\n",
              "694                3  ...       2.198131\n",
              "695                2  ...       2.198131\n",
              "696                5  ...       3.046041\n",
              "697                4  ...       2.198131\n",
              "698                4  ...       2.198131\n",
              "\n",
              "[699 rows x 18 columns]"
            ]
          },
          "metadata": {
            "tags": []
          },
          "execution_count": 22
        }
      ]
    },
    {
      "cell_type": "markdown",
      "metadata": {
        "id": "juJKaawPVwXp"
      },
      "source": [
        "## **BCWD data with classic exponential**"
      ]
    },
    {
      "cell_type": "code",
      "metadata": {
        "id": "WwvrWTkCV0Qa"
      },
      "source": [
        "# Library Declaration  \n",
        "import numpy as np\n",
        "import pandas as pd \n",
        "# Data Input\n",
        "df = pd.read_table('breast-cancer-wisconsin.data', sep=',', names=[\"Sample code number\", \"Clump Thickness\", \"Uniformity of Cell Size\", \"Uniformity of Cell Shape\", \"Marginal Adhesion\", \"Single Epithelial Cell Size\",\"Bare Nuclei\", \"Bland Chromatin\", \"Normal Nucleoli\",\"Mitoses\",\"Class\"]) \n",
        "# print(df.head)"
      ],
      "execution_count": 99,
      "outputs": []
    },
    {
      "cell_type": "code",
      "metadata": {
        "colab": {
          "base_uri": "https://localhost:8080/"
        },
        "id": "Vv-Ppu-lkZm4",
        "outputId": "5ae7b71a-3410-47ff-a5d1-d6c92bb5cf7d"
      },
      "source": [
        "# Data Cleaning\n",
        "df[\"Bare Nuclei\"][df[\"Bare Nuclei\"]=='?']='0'\n",
        "df[\"Bare Nuclei\"] = df[\"Bare Nuclei\"].astype(str).astype(int)\n",
        "# df.info()\n",
        "# pd.to_numeric(df[\"Bare Nuclei\"])"
      ],
      "execution_count": 100,
      "outputs": [
        {
          "output_type": "stream",
          "text": [
            "/usr/local/lib/python3.6/dist-packages/ipykernel_launcher.py:2: SettingWithCopyWarning: \n",
            "A value is trying to be set on a copy of a slice from a DataFrame\n",
            "\n",
            "See the caveats in the documentation: https://pandas.pydata.org/pandas-docs/stable/user_guide/indexing.html#returning-a-view-versus-a-copy\n",
            "  \n"
          ],
          "name": "stderr"
        }
      ]
    },
    {
      "cell_type": "code",
      "metadata": {
        "colab": {
          "base_uri": "https://localhost:8080/"
        },
        "id": "hyY2xuGekc89",
        "outputId": "5a680f77-380b-43b6-9fb1-93efccb3be60"
      },
      "source": [
        "# Data Cleaning\n",
        "df=df.drop([\"Sample code number\"], axis = 1)\n",
        "print(df.shape)"
      ],
      "execution_count": 101,
      "outputs": [
        {
          "output_type": "stream",
          "text": [
            "(699, 10)\n"
          ],
          "name": "stdout"
        }
      ]
    },
    {
      "cell_type": "code",
      "metadata": {
        "id": "Xw1rgU_nkc5_"
      },
      "source": [
        "# Data Cleaning\n",
        "def Class_value(Class): \n",
        "     if Class == 2: \n",
        "         return 1\n",
        "     else: \n",
        "         return 0\n",
        "  \n",
        "df['Class'] = df['Class'].apply(Class_value) \n",
        "#df['Class'].head(10)"
      ],
      "execution_count": 102,
      "outputs": []
    },
    {
      "cell_type": "code",
      "metadata": {
        "id": "DtazXMUTkc3R"
      },
      "source": [
        "sf=df\n",
        "y = sf[\"Class\"].astype(float).values.tolist()\n",
        "# y"
      ],
      "execution_count": 103,
      "outputs": []
    },
    {
      "cell_type": "code",
      "metadata": {
        "id": "uqR6PaB7kcz4"
      },
      "source": [
        "df=df.drop([\"Class\"], axis = 1)"
      ],
      "execution_count": 104,
      "outputs": []
    },
    {
      "cell_type": "code",
      "metadata": {
        "id": "evsT2dtNkcu_"
      },
      "source": [
        "import math\n",
        "data1=df[\"Clump Thickness\"].values\n",
        "data2=df[\"Uniformity of Cell Size\"].values\n",
        "data3=df[\"Uniformity of Cell Shape\"].values\n",
        "data4=df[\"Marginal Adhesion\"].values\n",
        "data5=df[\"Single Epithelial Cell Size\"].values\n",
        "data6=df[\"Bare Nuclei\"].values\n",
        "data7=df[\"Bland Chromatin\"].values\n",
        "data8=df[\"Normal Nucleoli\"].values\n",
        "data9=df[\"Mitoses\"].values"
      ],
      "execution_count": 105,
      "outputs": []
    },
    {
      "cell_type": "code",
      "metadata": {
        "id": "va8x60S5a1iD"
      },
      "source": [
        "# x=np.random.exponential(0.1,size=len(data1))\n",
        "# x\n"
      ],
      "execution_count": 113,
      "outputs": []
    },
    {
      "cell_type": "code",
      "metadata": {
        "id": "HJmLjyn8kcoh"
      },
      "source": [
        "Exponential_noise1 = np.random.exponential(0.5,size=len(data1))\n",
        "Exponential_noise2 = np.random.exponential(0.5,size=len(data2))\n",
        "Exponential_noise3 = np.random.exponential(0.5,size=len(data3))\n",
        "Exponential_noise4 = np.random.exponential(0.5,size=len(data4))\n",
        "Exponential_noise5 = np.random.exponential(0.5,size=len(data5))\n",
        "Exponential_noise6 = np.random.exponential(0.5,size=len(data6))\n",
        "Exponential_noise7 = np.random.exponential(0.5,size=len(data7))\n",
        "Exponential_noise8 = np.random.exponential(0.5,size=len(data8))\n",
        "Exponential_noise9 = np.random.exponential(0.5,size=len(data9))"
      ],
      "execution_count": 114,
      "outputs": []
    },
    {
      "cell_type": "code",
      "metadata": {
        "id": "v7TGcjCNkcgb",
        "colab": {
          "base_uri": "https://localhost:8080/"
        },
        "outputId": "5a3d8c8f-b152-4bcb-d12c-dec968c210a5"
      },
      "source": [
        "# print(Exponential_noise2)\n",
        "# data1\n",
        "len(Exponential_noise1)"
      ],
      "execution_count": 115,
      "outputs": [
        {
          "output_type": "execute_result",
          "data": {
            "text/plain": [
              "699"
            ]
          },
          "metadata": {
            "tags": []
          },
          "execution_count": 115
        }
      ]
    },
    {
      "cell_type": "code",
      "metadata": {
        "id": "F5ICpNx1lBfY",
        "colab": {
          "base_uri": "https://localhost:8080/"
        },
        "outputId": "5548736c-cbbc-4930-fffb-cc78652e8697"
      },
      "source": [
        "noisydata1 = data1 + Exponential_noise1\n",
        "noisydata2 = data2 + Exponential_noise2\n",
        "noisydata3 = data3 + Exponential_noise3\n",
        "noisydata4 = data4 + Exponential_noise4\n",
        "noisydata5 = data5 + Exponential_noise5\n",
        "noisydata6 = data6 + Exponential_noise6\n",
        "noisydata7 = data7 + Exponential_noise7\n",
        "noisydata8 = data8 + Exponential_noise8\n",
        "noisydata9 = data9 + Exponential_noise9\n",
        "# noisydata1"
      ],
      "execution_count": 117,
      "outputs": [
        {
          "output_type": "execute_result",
          "data": {
            "text/plain": [
              "array([ 5.31719093,  5.13576777,  3.21821687,  6.48730697,  4.50663923,\n",
              "        9.43962031,  2.16604092,  2.25581259,  2.07571693,  6.41708336,\n",
              "        1.59637345,  2.4912968 ,  6.37743812,  1.50033063,  8.30191381,\n",
              "        7.4344623 ,  4.30429377,  4.00579663, 10.08756389,  6.83759546,\n",
              "        7.42005124, 10.38436846,  3.92094362,  8.91533861,  1.23880803,\n",
              "        5.14894905,  4.41047078,  5.09134786,  2.07532651,  1.45578627,\n",
              "        3.25422054,  2.8208926 , 10.27242376,  2.8100715 ,  3.45396971,\n",
              "        2.49113644, 10.21340049,  6.27570988,  5.40238434,  2.26487656,\n",
              "        6.2183322 , 10.11039046,  6.37913043,  5.12896775, 10.23494176,\n",
              "        2.07257365,  3.10535462,  2.4259098 ,  4.16219655,  7.37296756,\n",
              "        9.20007126,  5.32233081, 10.95664636,  5.16635478, 10.07957426,\n",
              "       10.80680759,  8.10067772,  8.45076686,  5.2746557 ,  9.99031828,\n",
              "        7.74289351,  1.12760932,  9.03181857,  7.85861888,  1.24611056,\n",
              "       10.12308921,  4.13252844,  5.15882807,  8.15813864,  1.22372904,\n",
              "        5.01626703,  6.41199423,  1.40948341,  9.76518824, 10.96672577,\n",
              "        1.12523615,  1.07395072,  5.62575865,  3.07040475,  3.08925553,\n",
              "        3.16307254,  4.54039009,  5.61150243,  3.68857872,  3.33416012,\n",
              "        5.61806472,  3.14668886,  3.47989225,  4.02399852,  2.69271416,\n",
              "        1.51064565,  3.65905659,  6.62275459,  1.30033493,  2.99464169,\n",
              "        1.24613029,  2.51548368,  6.03992836, 12.1061342 ,  7.31377472,\n",
              "       10.71210589,  2.60573024,  4.02171674,  8.38541178, 10.32429055,\n",
              "        7.11368153, 10.92519365,  2.83658446,  2.58485592,  7.61600005,\n",
              "        1.50244414,  8.4844469 , 10.475795  , 10.11167643,  3.39145675,\n",
              "        1.32931978,  8.02220929,  4.49945272,  1.03556115,  4.9868938 ,\n",
              "        1.00774521,  4.11051193, 10.30330902,  5.7473668 ,  5.01457941,\n",
              "        1.50443246,  8.41780425,  3.49980517,  8.56351242,  1.15587555,\n",
              "        5.17806147,  3.51017319,  5.19435698,  3.2777405 ,  4.73337463,\n",
              "        5.88960224,  4.03633683,  3.23038583,  4.79769162,  1.32817749,\n",
              "        3.16441339,  2.116851  ,  9.62892046,  3.39705607,  2.09853121,\n",
              "        1.08900643,  3.28991896,  2.2994345 ,  3.07143195,  8.04011802,\n",
              "        1.22100311,  7.71162616, 10.62512524,  4.36437739,  2.56391689,\n",
              "        5.22862907,  1.01561056,  2.15631391,  2.85607934,  9.13907173,\n",
              "       10.24490036,  4.008708  ,  4.04297333,  1.33309007,  5.56450077,\n",
              "        4.20122079,  5.04317952, 10.13175566,  3.38385243,  1.14149705,\n",
              "        5.010013  ,  1.27179646,  1.44439118,  6.56946513,  8.12810331,\n",
              "        5.84653687,  2.60809552,  5.35507198,  4.13312895,  5.59074814,\n",
              "        1.74424397,  1.43314516,  6.31255513,  5.56471078,  8.01656948,\n",
              "        2.18228744,  1.54734378, 10.40477357,  5.86442771,  1.42622371,\n",
              "       11.10660227,  7.09449689,  5.7979772 ,  2.25862599,  3.21116712,\n",
              "        4.26131569,  8.25973561,  5.20007191,  1.99921658,  3.02004434,\n",
              "        9.16379812, 11.76463456,  1.45261621,  5.56372521,  1.14624309,\n",
              "        6.53838513, 11.51457272,  1.08585269,  1.50808655,  5.37484038,\n",
              "        8.11424072,  8.00397969,  1.1589898 , 11.36514679, 10.28821295,\n",
              "        8.48463428,  1.60575054,  1.85794087,  6.27977194,  6.02278494,\n",
              "        1.26856707, 11.38067225,  4.05287801,  7.44708723, 10.15608491,\n",
              "        1.01821547, 10.06944045,  9.60187144,  6.56791117, 10.26458549,\n",
              "        7.68043275,  6.10945699,  8.14801694, 10.44826488,  3.05537479,\n",
              "        3.01458131, 10.99286918,  9.3260317 ,  8.10240091, 10.73715869,\n",
              "        6.00975322,  3.9621886 ,  2.29494492,  2.23174316,  1.80671017,\n",
              "        5.09071393,  8.24906822,  8.08960017,  4.78332355,  3.12989001,\n",
              "        1.17535814, 10.94314991,  6.56391122,  6.34197628,  9.01151441,\n",
              "        5.44128036,  3.45381725,  3.31743886,  3.18209251,  6.21398302,\n",
              "       10.42999532,  5.13300189,  8.08824196, 10.03088788,  7.8755499 ,\n",
              "        5.38288098, 10.05692486,  3.25928899, 11.45504725,  1.22439819,\n",
              "        8.51687504,  5.10252156,  3.05973081,  9.28217473,  3.59984429,\n",
              "        3.69397674,  3.63106613,  1.91878245,  1.31134232, 10.38822039,\n",
              "        3.18164168,  2.28385064,  1.01464067, 10.01015912,  7.32683796,\n",
              "        8.36098391, 10.26663269,  3.14682178,  6.52210674,  6.43949963,\n",
              "        1.10566033,  2.79139909,  8.19419583, 11.47445061,  1.47414897,\n",
              "        6.02648647,  5.14355833,  5.12134244,  8.19449507,  9.59518849,\n",
              "        8.80963481,  1.43651478, 10.04022941,  1.32397272,  8.19813525,\n",
              "       10.19860881,  1.3365767 ,  1.3509647 ,  9.71195732,  3.34645631,\n",
              "        2.08325517,  1.42916197,  8.37369733,  1.44113806,  1.16846026,\n",
              "        4.46498499,  6.53382468,  6.08007674,  1.7010305 ,  4.08143749,\n",
              "        7.50129777,  3.34273163,  4.61556428,  5.33397085,  1.12463167,\n",
              "        3.69332503, 10.5164597 ,  2.40463617,  8.37647978, 10.49028376,\n",
              "       10.39259164,  5.02505814,  5.00667287,  5.9800645 ,  8.21275845,\n",
              "        2.35547135,  6.43938998,  1.41103766,  1.19597921,  8.952894  ,\n",
              "       10.40653553,  1.20892626,  2.22070414,  2.20160559,  7.18291451,\n",
              "        1.06594367,  5.20860101,  1.26265666,  3.1021201 ,  4.25614492,\n",
              "        5.27063788,  2.28416955,  3.22227591,  2.19935558,  1.41906695,\n",
              "        4.39107483,  5.18525087,  8.33979413,  8.7359854 , 10.0406761 ,\n",
              "        6.13965339,  3.2286366 ,  3.63521268,  4.00095734,  3.2530868 ,\n",
              "        2.66763207,  6.03402793,  5.65218651,  2.47700731,  1.37881418,\n",
              "        4.03537417,  1.63887617,  5.16068909,  5.79971736,  3.47806371,\n",
              "        1.65836349,  1.13045801,  1.04211002,  3.50622215,  5.7070144 ,\n",
              "        1.26545962, 10.76366129,  3.67830987,  2.26740131,  2.26094271,\n",
              "        3.52865204,  7.02617475,  5.49666854,  2.2699191 ,  5.6898281 ,\n",
              "        1.38702536, 10.86714813,  3.33059342,  1.61034732,  1.33264781,\n",
              "        3.18564457,  3.24613584,  5.50692283,  3.88693118,  1.53944322,\n",
              "        3.14595299,  3.25594975,  5.49313676,  3.01396721,  1.56296307,\n",
              "        1.53646264,  4.84621442,  1.30297482,  2.02647257,  3.53064234,\n",
              "        1.74863998,  1.05633627, 10.15612222,  5.05419846,  9.38522506,\n",
              "        4.13580938,  8.51508539,  1.37415518,  5.14570608,  2.02927602,\n",
              "        3.00428535, 10.93420371,  4.43585363,  5.62246322,  3.3771176 ,\n",
              "        9.53853181,  5.53547758,  8.39268633,  1.23548579,  2.60180902,\n",
              "        1.36322651,  5.06269968,  5.08467431,  3.21727762,  6.40709047,\n",
              "       11.26116025, 10.59201283,  4.24031346,  4.17438072,  5.7596846 ,\n",
              "       10.18838279,  6.51160828,  1.83164874,  1.86917527,  5.482789  ,\n",
              "        2.89395042,  1.55832093,  5.67617782,  1.965958  ,  5.16873177,\n",
              "        4.22538573,  5.19562836,  4.41022257,  5.26663069,  3.38840211,\n",
              "       12.16701631, 10.38898247,  8.52231903,  5.01710952,  5.2521341 ,\n",
              "        5.10444032,  3.56991033,  6.70763537,  4.69433647,  5.02566987,\n",
              "       10.54863496, 10.75004187,  6.02569362,  4.21938909,  1.31779618,\n",
              "        3.11795384,  6.01554422,  6.52451085,  4.885671  ,  5.0398544 ,\n",
              "        3.18347433,  5.49169352,  4.6310846 ,  6.0700388 ,  4.46249115,\n",
              "        5.39553649,  5.14223376,  9.00127901,  8.79161465,  5.41576375,\n",
              "        2.99436066,  3.34951984, 10.32028684,  3.30305804,  6.10121019,\n",
              "        1.38612587,  5.89700373,  5.39125674,  5.06174701,  5.22645472,\n",
              "        3.19257393,  1.20355155,  4.25384627,  4.84494885,  4.07268402,\n",
              "        6.5131761 ,  4.51791613,  4.19122362,  4.28573198,  1.56910373,\n",
              "        3.7198556 ,  8.51270703,  1.17291885,  5.31704057,  2.96626948,\n",
              "        1.21108083,  6.01543528,  5.4537837 ,  4.1916955 ,  6.44635224,\n",
              "        4.58323052,  2.07085786,  2.03527909,  3.36963673,  4.53760738,\n",
              "        1.25251407,  4.02719134, 10.45986219,  9.21036307,  3.10707553,\n",
              "        3.19891896,  4.06943397,  4.093189  ,  6.2556015 ,  5.08870432,\n",
              "        8.25635077,  4.39769123,  1.46860729,  3.25014024,  2.633216  ,\n",
              "        3.83584275,  5.07771244,  5.34048895,  4.46671325,  9.43441894,\n",
              "        6.57374722,  3.76888553,  5.53295374,  5.15288979,  4.57319408,\n",
              "        5.63841895,  6.66639444,  2.21508776,  3.16109665,  7.10623769,\n",
              "        4.63318785,  1.00535756,  3.02886744,  4.36593492,  3.21312346,\n",
              "        4.3169992 ,  5.55129544,  5.26095595,  3.46699528,  5.24144237,\n",
              "        6.34483842,  5.07586825,  1.07590458,  3.47904149,  5.07130007,\n",
              "        5.27172898,  3.99654249,  4.10946539,  8.47823396, 10.52360425,\n",
              "        8.34237501,  7.45530346,  3.59010207,  1.10152129, 10.21986014,\n",
              "        5.53633833,  5.48266059,  1.78839732,  1.68962594,  1.05095057,\n",
              "        5.08813563,  5.34884614,  7.1324846 ,  3.72170977,  5.03274487,\n",
              "        1.38453028,  9.02044701,  5.1064728 ,  9.0913762 ,  5.36391082,\n",
              "        5.02815756,  4.36102333, 10.53315489,  5.51064746,  4.35325681,\n",
              "        5.05233301,  4.07752689,  7.74233006,  3.01318845,  5.00252984,\n",
              "        3.0399177 ,  1.3476411 ,  4.74047074,  5.18656003,  5.46050081,\n",
              "       11.72827468,  4.41264734,  1.24036384,  5.1416304 ,  5.48222133,\n",
              "       11.0393554 ,  6.79092507,  8.53541065,  2.26947546,  2.01915668,\n",
              "        4.38753952,  3.18492148,  1.21396875,  4.28488702,  5.19345829,\n",
              "        3.25602791,  6.88510225,  7.25341276,  1.512318  ,  5.51023066,\n",
              "        3.32901109,  4.64533167,  2.39810424,  3.56834121,  4.46876999,\n",
              "        6.23480501,  5.00208714,  1.57711335,  8.28688057,  3.10017045,\n",
              "        3.30698392, 10.90640634,  4.79176832,  4.51297838,  5.09087075,\n",
              "        4.33700261,  3.45343374,  5.68409958,  1.14761513,  2.15991481,\n",
              "        3.24550223,  1.88435953,  1.35984977,  5.76647472,  3.68081709,\n",
              "        3.18974623,  1.84274159,  6.0099519 ,  5.08100351,  3.05736986,\n",
              "        3.29361389,  6.07664606,  5.011337  ,  7.03493636,  1.16734139,\n",
              "        1.0766018 ,  5.05791937,  1.3704476 ,  1.23621971,  3.04995785,\n",
              "        1.15126241,  5.14551353,  4.22511172,  5.26739186,  5.96274671,\n",
              "        3.09948769,  3.02864276,  2.64195745,  5.44146268,  1.26513193,\n",
              "        4.00504695,  1.11818143,  6.11633855,  2.38641758,  2.34059915,\n",
              "       11.62704379,  5.51394629,  6.15567736,  1.40500674,  1.43144532,\n",
              "        1.25022206,  1.43654525,  3.14446388,  4.65111809,  1.10015956,\n",
              "        1.2461956 ,  5.31365195,  3.07968521,  3.37742158,  3.54023402,\n",
              "        2.02659721,  5.23610132,  4.08868865,  4.63664392])"
            ]
          },
          "metadata": {
            "tags": []
          },
          "execution_count": 117
        }
      ]
    },
    {
      "cell_type": "code",
      "metadata": {
        "id": "Y66tBo_Hl-zt"
      },
      "source": [
        "d1 = dict(zip(data1, noisydata1))\n",
        "d2 = dict(zip(data2, noisydata2))\n",
        "d3 = dict(zip(data3, noisydata3))\n",
        "d4 = dict(zip(data4, noisydata4))\n",
        "d5 = dict(zip(data5, noisydata5))\n",
        "d6 = dict(zip(data6, noisydata6))\n",
        "d7 = dict(zip(data7, noisydata7))\n",
        "d8 = dict(zip(data8, noisydata8))\n",
        "d9 = dict(zip(data9, noisydata9))"
      ],
      "execution_count": 118,
      "outputs": []
    },
    {
      "cell_type": "code",
      "metadata": {
        "id": "y94BOaPBmHAT"
      },
      "source": [
        "# df[\"noiceCF\"] = df[\"Clump Thickness\"].map(res)\n",
        "# df[\"noiceCF\"]\n",
        "df[\"noice_Clump Thickness\"]=df[\"Clump Thickness\"].map(d1)\n",
        "df[\"noice_Uniformity of Cell Size\"]=df[\"Uniformity of Cell Size\"].map(d2)\n",
        "df[\"noice_Uniformity of Cell Shape\"]=df[\"Uniformity of Cell Shape\"].map(d3)\n",
        "df[\"noice_Marginal Adhesion\"]=df[\"Marginal Adhesion\"].map(d4)\n",
        "df[\"noice_Single Epithelial Cell Size\"]=df[\"Single Epithelial Cell Size\"].map(d5)\n",
        "df[\"noice_Bare Nuclei\"]=df[\"Bare Nuclei\"].map(d6)\n",
        "df[\"noice_Bland Chromatin\"]=df[\"Bland Chromatin\"].map(d7)\n",
        "df[\"noice_Normal Nucleoli\"]=df[\"Normal Nucleoli\"].map(d8)\n",
        "df[\"noice_Mitoses\"]=df[\"Mitoses\"].map(d9)"
      ],
      "execution_count": 119,
      "outputs": []
    },
    {
      "cell_type": "code",
      "metadata": {
        "id": "ZqiYhPz1mNyS"
      },
      "source": [
        "df=df.drop([\"Clump Thickness\", \"Uniformity of Cell Size\", \"Uniformity of Cell Shape\", \"Marginal Adhesion\",\"Single Epithelial Cell Size\", \"Bare Nuclei\", \"Bland Chromatin\", \"Normal Nucleoli\", \"Mitoses\"], axis=1)"
      ],
      "execution_count": 120,
      "outputs": []
    },
    {
      "cell_type": "code",
      "metadata": {
        "colab": {
          "base_uri": "https://localhost:8080/",
          "height": 473
        },
        "id": "Ysb3txhJ_Npy",
        "outputId": "58b4842f-e266-44cb-e197-105b2f156edb"
      },
      "source": [
        "df"
      ],
      "execution_count": 121,
      "outputs": [
        {
          "output_type": "execute_result",
          "data": {
            "text/html": [
              "<div>\n",
              "<style scoped>\n",
              "    .dataframe tbody tr th:only-of-type {\n",
              "        vertical-align: middle;\n",
              "    }\n",
              "\n",
              "    .dataframe tbody tr th {\n",
              "        vertical-align: top;\n",
              "    }\n",
              "\n",
              "    .dataframe thead th {\n",
              "        text-align: right;\n",
              "    }\n",
              "</style>\n",
              "<table border=\"1\" class=\"dataframe\">\n",
              "  <thead>\n",
              "    <tr style=\"text-align: right;\">\n",
              "      <th></th>\n",
              "      <th>noice_Clump Thickness</th>\n",
              "      <th>noice_Uniformity of Cell Size</th>\n",
              "      <th>noice_Uniformity of Cell Shape</th>\n",
              "      <th>noice_Marginal Adhesion</th>\n",
              "      <th>noice_Single Epithelial Cell Size</th>\n",
              "      <th>noice_Bare Nuclei</th>\n",
              "      <th>noice_Bland Chromatin</th>\n",
              "      <th>noice_Normal Nucleoli</th>\n",
              "      <th>noice_Mitoses</th>\n",
              "    </tr>\n",
              "  </thead>\n",
              "  <tbody>\n",
              "    <tr>\n",
              "      <th>0</th>\n",
              "      <td>5.236101</td>\n",
              "      <td>1.015936</td>\n",
              "      <td>1.180735</td>\n",
              "      <td>1.268749</td>\n",
              "      <td>2.194438</td>\n",
              "      <td>1.284093</td>\n",
              "      <td>3.277255</td>\n",
              "      <td>1.068579</td>\n",
              "      <td>1.095523</td>\n",
              "    </tr>\n",
              "    <tr>\n",
              "      <th>1</th>\n",
              "      <td>5.236101</td>\n",
              "      <td>4.750390</td>\n",
              "      <td>5.863294</td>\n",
              "      <td>5.841845</td>\n",
              "      <td>7.216972</td>\n",
              "      <td>10.964301</td>\n",
              "      <td>3.277255</td>\n",
              "      <td>3.146795</td>\n",
              "      <td>1.095523</td>\n",
              "    </tr>\n",
              "    <tr>\n",
              "      <th>2</th>\n",
              "      <td>3.540234</td>\n",
              "      <td>1.015936</td>\n",
              "      <td>1.180735</td>\n",
              "      <td>1.268749</td>\n",
              "      <td>2.194438</td>\n",
              "      <td>2.277534</td>\n",
              "      <td>3.277255</td>\n",
              "      <td>1.068579</td>\n",
              "      <td>1.095523</td>\n",
              "    </tr>\n",
              "    <tr>\n",
              "      <th>3</th>\n",
              "      <td>6.234805</td>\n",
              "      <td>8.274447</td>\n",
              "      <td>8.594927</td>\n",
              "      <td>1.268749</td>\n",
              "      <td>3.301351</td>\n",
              "      <td>4.034840</td>\n",
              "      <td>3.277255</td>\n",
              "      <td>7.540438</td>\n",
              "      <td>1.095523</td>\n",
              "    </tr>\n",
              "    <tr>\n",
              "      <th>4</th>\n",
              "      <td>4.636644</td>\n",
              "      <td>1.015936</td>\n",
              "      <td>1.180735</td>\n",
              "      <td>3.166177</td>\n",
              "      <td>2.194438</td>\n",
              "      <td>1.284093</td>\n",
              "      <td>3.277255</td>\n",
              "      <td>1.068579</td>\n",
              "      <td>1.095523</td>\n",
              "    </tr>\n",
              "    <tr>\n",
              "      <th>...</th>\n",
              "      <td>...</td>\n",
              "      <td>...</td>\n",
              "      <td>...</td>\n",
              "      <td>...</td>\n",
              "      <td>...</td>\n",
              "      <td>...</td>\n",
              "      <td>...</td>\n",
              "      <td>...</td>\n",
              "      <td>...</td>\n",
              "    </tr>\n",
              "    <tr>\n",
              "      <th>694</th>\n",
              "      <td>3.540234</td>\n",
              "      <td>1.015936</td>\n",
              "      <td>1.180735</td>\n",
              "      <td>1.268749</td>\n",
              "      <td>3.301351</td>\n",
              "      <td>2.277534</td>\n",
              "      <td>2.408188</td>\n",
              "      <td>1.068579</td>\n",
              "      <td>1.095523</td>\n",
              "    </tr>\n",
              "    <tr>\n",
              "      <th>695</th>\n",
              "      <td>2.026597</td>\n",
              "      <td>1.015936</td>\n",
              "      <td>1.180735</td>\n",
              "      <td>1.268749</td>\n",
              "      <td>2.194438</td>\n",
              "      <td>1.284093</td>\n",
              "      <td>2.408188</td>\n",
              "      <td>1.068579</td>\n",
              "      <td>1.095523</td>\n",
              "    </tr>\n",
              "    <tr>\n",
              "      <th>696</th>\n",
              "      <td>5.236101</td>\n",
              "      <td>10.006077</td>\n",
              "      <td>10.545258</td>\n",
              "      <td>3.166177</td>\n",
              "      <td>7.216972</td>\n",
              "      <td>3.022119</td>\n",
              "      <td>8.057986</td>\n",
              "      <td>10.135539</td>\n",
              "      <td>2.246445</td>\n",
              "    </tr>\n",
              "    <tr>\n",
              "      <th>697</th>\n",
              "      <td>4.636644</td>\n",
              "      <td>8.274447</td>\n",
              "      <td>6.128077</td>\n",
              "      <td>5.093347</td>\n",
              "      <td>3.301351</td>\n",
              "      <td>4.034840</td>\n",
              "      <td>10.483633</td>\n",
              "      <td>6.197069</td>\n",
              "      <td>1.095523</td>\n",
              "    </tr>\n",
              "    <tr>\n",
              "      <th>698</th>\n",
              "      <td>4.636644</td>\n",
              "      <td>8.274447</td>\n",
              "      <td>8.594927</td>\n",
              "      <td>5.841845</td>\n",
              "      <td>4.791348</td>\n",
              "      <td>5.224084</td>\n",
              "      <td>10.483633</td>\n",
              "      <td>4.428191</td>\n",
              "      <td>1.095523</td>\n",
              "    </tr>\n",
              "  </tbody>\n",
              "</table>\n",
              "<p>699 rows × 9 columns</p>\n",
              "</div>"
            ],
            "text/plain": [
              "     noice_Clump Thickness  ...  noice_Mitoses\n",
              "0                 5.236101  ...       1.095523\n",
              "1                 5.236101  ...       1.095523\n",
              "2                 3.540234  ...       1.095523\n",
              "3                 6.234805  ...       1.095523\n",
              "4                 4.636644  ...       1.095523\n",
              "..                     ...  ...            ...\n",
              "694               3.540234  ...       1.095523\n",
              "695               2.026597  ...       1.095523\n",
              "696               5.236101  ...       2.246445\n",
              "697               4.636644  ...       1.095523\n",
              "698               4.636644  ...       1.095523\n",
              "\n",
              "[699 rows x 9 columns]"
            ]
          },
          "metadata": {
            "tags": []
          },
          "execution_count": 121
        }
      ]
    },
    {
      "cell_type": "markdown",
      "metadata": {
        "id": "GOAAAp_zpBdI"
      },
      "source": [
        "## **BCWD data with epsilon Laplace**"
      ]
    },
    {
      "cell_type": "code",
      "metadata": {
        "id": "ikuRKIJKmUsi"
      },
      "source": [
        "# Library Declaration  \n",
        "import numpy as np\n",
        "import pandas as pd \n",
        "# Data Input\n",
        "df = pd.read_table('breast-cancer-wisconsin.data', sep=',', names=[\"Sample code number\", \"Clump Thickness\", \"Uniformity of Cell Size\", \"Uniformity of Cell Shape\", \"Marginal Adhesion\", \"Single Epithelial Cell Size\",\"Bare Nuclei\", \"Bland Chromatin\", \"Normal Nucleoli\",\"Mitoses\",\"Class\"]) \n",
        "# print(df.head)"
      ],
      "execution_count": null,
      "outputs": []
    },
    {
      "cell_type": "code",
      "metadata": {
        "colab": {
          "base_uri": "https://localhost:8080/"
        },
        "id": "k3FuNGcRpUXB",
        "outputId": "36066ef0-7737-4767-9dcc-e5e177260dd6"
      },
      "source": [
        "# Data Cleaning\n",
        "df[\"Bare Nuclei\"][df[\"Bare Nuclei\"]=='?']='0'\n",
        "df[\"Bare Nuclei\"] = df[\"Bare Nuclei\"].astype(str).astype(int)\n",
        "# df.info()\n",
        "# pd.to_numeric(df[\"Bare Nuclei\"])"
      ],
      "execution_count": null,
      "outputs": [
        {
          "output_type": "stream",
          "text": [
            "/usr/local/lib/python3.6/dist-packages/ipykernel_launcher.py:2: SettingWithCopyWarning: \n",
            "A value is trying to be set on a copy of a slice from a DataFrame\n",
            "\n",
            "See the caveats in the documentation: https://pandas.pydata.org/pandas-docs/stable/user_guide/indexing.html#returning-a-view-versus-a-copy\n",
            "  \n"
          ],
          "name": "stderr"
        }
      ]
    },
    {
      "cell_type": "code",
      "metadata": {
        "colab": {
          "base_uri": "https://localhost:8080/"
        },
        "id": "l8VoDg_YpWFs",
        "outputId": "bd221881-892a-421f-ebb0-f779908fab1b"
      },
      "source": [
        "# Data Cleaning\n",
        "df=df.drop([\"Sample code number\"], axis = 1)\n",
        "print(df.shape)"
      ],
      "execution_count": null,
      "outputs": [
        {
          "output_type": "stream",
          "text": [
            "(699, 10)\n"
          ],
          "name": "stdout"
        }
      ]
    },
    {
      "cell_type": "code",
      "metadata": {
        "id": "pKJrosmMpYm0"
      },
      "source": [
        "# Data Cleaning\n",
        "def Class_value(Class): \n",
        "     if Class == 2: \n",
        "         return 1\n",
        "     else: \n",
        "         return 0\n",
        "  \n",
        "df['Class'] = df['Class'].apply(Class_value) \n",
        "#df['Class'].head(10)"
      ],
      "execution_count": null,
      "outputs": []
    },
    {
      "cell_type": "code",
      "metadata": {
        "id": "7gvZCtDYpezV"
      },
      "source": [
        "sf=df\n",
        "y = sf[\"Class\"].astype(float).values.tolist()\n",
        "# y"
      ],
      "execution_count": null,
      "outputs": []
    },
    {
      "cell_type": "code",
      "metadata": {
        "id": "4rrPU3wipfJM"
      },
      "source": [
        "df=df.drop([\"Class\"], axis = 1)"
      ],
      "execution_count": null,
      "outputs": []
    },
    {
      "cell_type": "code",
      "metadata": {
        "id": "j2H8KVOOpjVb"
      },
      "source": [
        "# def Laplacian_func(eps):     \n",
        "#  x = 0.01\n",
        "#  mu = 0                    # mean\n",
        "#  return ((eps/2.0) * np.exp(-abs(x - mu)*eps))"
      ],
      "execution_count": null,
      "outputs": []
    },
    {
      "cell_type": "code",
      "metadata": {
        "id": "Tl7Dc0_Sq-9s"
      },
      "source": [
        "def Laplacian_func(x,eps):\n",
        "  return ((eps/2.0) * np.exp(-abs(x)*eps))"
      ],
      "execution_count": null,
      "outputs": []
    },
    {
      "cell_type": "code",
      "metadata": {
        "id": "bCjd2UGsqs1f"
      },
      "source": [
        "# noise = Laplacian_func(0.1)\n",
        "# noisydata = datacount + noise"
      ],
      "execution_count": null,
      "outputs": []
    },
    {
      "cell_type": "code",
      "metadata": {
        "id": "5bFVMobhs8Ee"
      },
      "source": [
        "data1=df[\"Clump Thickness\"].values\n",
        "data2=df[\"Uniformity of Cell Size\"].values\n",
        "data3=df[\"Uniformity of Cell Shape\"].values\n",
        "data4=df[\"Marginal Adhesion\"].values\n",
        "data5=df[\"Single Epithelial Cell Size\"].values\n",
        "data6=df[\"Bare Nuclei\"].values\n",
        "data7=df[\"Bland Chromatin\"].values\n",
        "data8=df[\"Normal Nucleoli\"].values\n",
        "data9=df[\"Mitoses\"].values"
      ],
      "execution_count": null,
      "outputs": []
    },
    {
      "cell_type": "code",
      "metadata": {
        "id": "CPrAPOifr4Xn"
      },
      "source": [
        "ep=0.1\n",
        "Laplacian_noise1 = Laplacian_func((df[\"Clump Thickness\"].max()-df[\"Clump Thickness\"].min()), ep)\n",
        "Laplacian_noise2 = Laplacian_func((df[\"Uniformity of Cell Size\"].max()-df[\"Uniformity of Cell Size\"].min()), ep)\n",
        "Laplacian_noise3 = Laplacian_func((df[\"Uniformity of Cell Shape\"].max()-df[\"Uniformity of Cell Shape\"].min()), ep)\n",
        "Laplacian_noise4 = Laplacian_func((df[\"Marginal Adhesion\"].max()-df[\"Marginal Adhesion\"].min()), ep)\n",
        "Laplacian_noise5 = Laplacian_func((df[\"Single Epithelial Cell Size\"].max()-df[\"Single Epithelial Cell Size\"].min()), ep)\n",
        "Laplacian_noise6 = Laplacian_func((df[\"Bare Nuclei\"].max()-df[\"Bare Nuclei\"].min()), ep)\n",
        "Laplacian_noise7 = Laplacian_func((df[\"Bland Chromatin\"].max()-df[\"Bland Chromatin\"].min()), ep)\n",
        "Laplacian_noise8 = Laplacian_func((df[\"Normal Nucleoli\"].max()-df[\"Normal Nucleoli\"].min()), ep)\n",
        "Laplacian_noise9 = Laplacian_func((df[\"Mitoses\"].max()-df[\"Mitoses\"].min()), ep)"
      ],
      "execution_count": null,
      "outputs": []
    },
    {
      "cell_type": "code",
      "metadata": {
        "id": "JOhtqHZ4s6vF"
      },
      "source": [
        "noisydata1 = data1 + Laplacian_noise1\n",
        "noisydata2 = data2 + Laplacian_noise2\n",
        "noisydata3 = data3 + Laplacian_noise3\n",
        "noisydata4 = data4 + Laplacian_noise4\n",
        "noisydata5 = data5 + Laplacian_noise5\n",
        "noisydata6 = data6 + Laplacian_noise6\n",
        "noisydata7 = data7 + Laplacian_noise7\n",
        "noisydata8 = data8 + Laplacian_noise8\n",
        "noisydata9 = data9 + Laplacian_noise9\n",
        "# noisydata"
      ],
      "execution_count": null,
      "outputs": []
    },
    {
      "cell_type": "code",
      "metadata": {
        "id": "Xjoc2d9d7ozZ"
      },
      "source": [
        "\n",
        "d1 = dict(zip(data1, noisydata1))\n",
        "d2 = dict(zip(data2, noisydata2))\n",
        "d3 = dict(zip(data3, noisydata3))\n",
        "d4 = dict(zip(data4, noisydata4))\n",
        "d5 = dict(zip(data5, noisydata5))\n",
        "d6 = dict(zip(data6, noisydata6))\n",
        "d7 = dict(zip(data7, noisydata7))\n",
        "d8 = dict(zip(data8, noisydata8))\n",
        "d9 = dict(zip(data9, noisydata9))"
      ],
      "execution_count": null,
      "outputs": []
    },
    {
      "cell_type": "code",
      "metadata": {
        "id": "G6NpJBWp7rqi"
      },
      "source": [
        "# df[\"noiceCF\"] = df[\"Clump Thickness\"].map(res)\n",
        "# df[\"noiceCF\"]\n",
        "df[\"noice_Clump Thickness\"]=df[\"Clump Thickness\"].map(d1)\n",
        "df[\"noice_Uniformity of Cell Size\"]=df[\"Uniformity of Cell Size\"].map(d2)\n",
        "df[\"noice_Uniformity of Cell Shape\"]=df[\"Uniformity of Cell Shape\"].map(d3)\n",
        "df[\"noice_Marginal Adhesion\"]=df[\"Marginal Adhesion\"].map(d4)\n",
        "df[\"noice_Single Epithelial Cell Size\"]=df[\"Single Epithelial Cell Size\"].map(d5)\n",
        "df[\"noice_Bare Nuclei\"]=df[\"Bare Nuclei\"].map(d6)\n",
        "df[\"noice_Bland Chromatin\"]=df[\"Bland Chromatin\"].map(d7)\n",
        "df[\"noice_Normal Nucleoli\"]=df[\"Normal Nucleoli\"].map(d8)\n",
        "df[\"noice_Mitoses\"]=df[\"Mitoses\"].map(d9)"
      ],
      "execution_count": null,
      "outputs": []
    },
    {
      "cell_type": "code",
      "metadata": {
        "id": "WVtiZ_Yj7x1m",
        "colab": {
          "base_uri": "https://localhost:8080/",
          "height": 473
        },
        "outputId": "3fd79131-88e1-4a40-cb8d-24efe94efc6e"
      },
      "source": [
        "df=df.drop([\"Clump Thickness\", \"Uniformity of Cell Size\", \"Uniformity of Cell Shape\", \"Marginal Adhesion\",\"Single Epithelial Cell Size\", \"Bare Nuclei\", \"Bland Chromatin\", \"Normal Nucleoli\", \"Mitoses\"], axis=1)"
      ],
      "execution_count": null,
      "outputs": [
        {
          "output_type": "execute_result",
          "data": {
            "text/html": [
              "<div>\n",
              "<style scoped>\n",
              "    .dataframe tbody tr th:only-of-type {\n",
              "        vertical-align: middle;\n",
              "    }\n",
              "\n",
              "    .dataframe tbody tr th {\n",
              "        vertical-align: top;\n",
              "    }\n",
              "\n",
              "    .dataframe thead th {\n",
              "        text-align: right;\n",
              "    }\n",
              "</style>\n",
              "<table border=\"1\" class=\"dataframe\">\n",
              "  <thead>\n",
              "    <tr style=\"text-align: right;\">\n",
              "      <th></th>\n",
              "      <th>Clump Thickness</th>\n",
              "      <th>Uniformity of Cell Size</th>\n",
              "      <th>Uniformity of Cell Shape</th>\n",
              "      <th>Marginal Adhesion</th>\n",
              "      <th>Single Epithelial Cell Size</th>\n",
              "      <th>Bare Nuclei</th>\n",
              "      <th>Bland Chromatin</th>\n",
              "      <th>Normal Nucleoli</th>\n",
              "      <th>Mitoses</th>\n",
              "      <th>noice_Clump Thickness</th>\n",
              "      <th>noice_Uniformity of Cell Size</th>\n",
              "      <th>noice_Uniformity of Cell Shape</th>\n",
              "      <th>noice_Marginal Adhesion</th>\n",
              "      <th>noice_Single Epithelial Cell Size</th>\n",
              "      <th>noice_Bare Nuclei</th>\n",
              "      <th>noice_Bland Chromatin</th>\n",
              "      <th>noice_Normal Nucleoli</th>\n",
              "      <th>noice_Mitoses</th>\n",
              "    </tr>\n",
              "  </thead>\n",
              "  <tbody>\n",
              "    <tr>\n",
              "      <th>0</th>\n",
              "      <td>5</td>\n",
              "      <td>1</td>\n",
              "      <td>1</td>\n",
              "      <td>1</td>\n",
              "      <td>2</td>\n",
              "      <td>1</td>\n",
              "      <td>3</td>\n",
              "      <td>1</td>\n",
              "      <td>1</td>\n",
              "      <td>5.020328</td>\n",
              "      <td>1.020328</td>\n",
              "      <td>1.020328</td>\n",
              "      <td>1.020328</td>\n",
              "      <td>2.020328</td>\n",
              "      <td>1.018394</td>\n",
              "      <td>3.020328</td>\n",
              "      <td>1.020328</td>\n",
              "      <td>1.020328</td>\n",
              "    </tr>\n",
              "    <tr>\n",
              "      <th>1</th>\n",
              "      <td>5</td>\n",
              "      <td>4</td>\n",
              "      <td>4</td>\n",
              "      <td>5</td>\n",
              "      <td>7</td>\n",
              "      <td>10</td>\n",
              "      <td>3</td>\n",
              "      <td>2</td>\n",
              "      <td>1</td>\n",
              "      <td>5.020328</td>\n",
              "      <td>4.020328</td>\n",
              "      <td>4.020328</td>\n",
              "      <td>5.020328</td>\n",
              "      <td>7.020328</td>\n",
              "      <td>10.018394</td>\n",
              "      <td>3.020328</td>\n",
              "      <td>2.020328</td>\n",
              "      <td>1.020328</td>\n",
              "    </tr>\n",
              "    <tr>\n",
              "      <th>2</th>\n",
              "      <td>3</td>\n",
              "      <td>1</td>\n",
              "      <td>1</td>\n",
              "      <td>1</td>\n",
              "      <td>2</td>\n",
              "      <td>2</td>\n",
              "      <td>3</td>\n",
              "      <td>1</td>\n",
              "      <td>1</td>\n",
              "      <td>3.020328</td>\n",
              "      <td>1.020328</td>\n",
              "      <td>1.020328</td>\n",
              "      <td>1.020328</td>\n",
              "      <td>2.020328</td>\n",
              "      <td>2.018394</td>\n",
              "      <td>3.020328</td>\n",
              "      <td>1.020328</td>\n",
              "      <td>1.020328</td>\n",
              "    </tr>\n",
              "    <tr>\n",
              "      <th>3</th>\n",
              "      <td>6</td>\n",
              "      <td>8</td>\n",
              "      <td>8</td>\n",
              "      <td>1</td>\n",
              "      <td>3</td>\n",
              "      <td>4</td>\n",
              "      <td>3</td>\n",
              "      <td>7</td>\n",
              "      <td>1</td>\n",
              "      <td>6.020328</td>\n",
              "      <td>8.020328</td>\n",
              "      <td>8.020328</td>\n",
              "      <td>1.020328</td>\n",
              "      <td>3.020328</td>\n",
              "      <td>4.018394</td>\n",
              "      <td>3.020328</td>\n",
              "      <td>7.020328</td>\n",
              "      <td>1.020328</td>\n",
              "    </tr>\n",
              "    <tr>\n",
              "      <th>4</th>\n",
              "      <td>4</td>\n",
              "      <td>1</td>\n",
              "      <td>1</td>\n",
              "      <td>3</td>\n",
              "      <td>2</td>\n",
              "      <td>1</td>\n",
              "      <td>3</td>\n",
              "      <td>1</td>\n",
              "      <td>1</td>\n",
              "      <td>4.020328</td>\n",
              "      <td>1.020328</td>\n",
              "      <td>1.020328</td>\n",
              "      <td>3.020328</td>\n",
              "      <td>2.020328</td>\n",
              "      <td>1.018394</td>\n",
              "      <td>3.020328</td>\n",
              "      <td>1.020328</td>\n",
              "      <td>1.020328</td>\n",
              "    </tr>\n",
              "    <tr>\n",
              "      <th>...</th>\n",
              "      <td>...</td>\n",
              "      <td>...</td>\n",
              "      <td>...</td>\n",
              "      <td>...</td>\n",
              "      <td>...</td>\n",
              "      <td>...</td>\n",
              "      <td>...</td>\n",
              "      <td>...</td>\n",
              "      <td>...</td>\n",
              "      <td>...</td>\n",
              "      <td>...</td>\n",
              "      <td>...</td>\n",
              "      <td>...</td>\n",
              "      <td>...</td>\n",
              "      <td>...</td>\n",
              "      <td>...</td>\n",
              "      <td>...</td>\n",
              "      <td>...</td>\n",
              "    </tr>\n",
              "    <tr>\n",
              "      <th>694</th>\n",
              "      <td>3</td>\n",
              "      <td>1</td>\n",
              "      <td>1</td>\n",
              "      <td>1</td>\n",
              "      <td>3</td>\n",
              "      <td>2</td>\n",
              "      <td>1</td>\n",
              "      <td>1</td>\n",
              "      <td>1</td>\n",
              "      <td>3.020328</td>\n",
              "      <td>1.020328</td>\n",
              "      <td>1.020328</td>\n",
              "      <td>1.020328</td>\n",
              "      <td>3.020328</td>\n",
              "      <td>2.018394</td>\n",
              "      <td>1.020328</td>\n",
              "      <td>1.020328</td>\n",
              "      <td>1.020328</td>\n",
              "    </tr>\n",
              "    <tr>\n",
              "      <th>695</th>\n",
              "      <td>2</td>\n",
              "      <td>1</td>\n",
              "      <td>1</td>\n",
              "      <td>1</td>\n",
              "      <td>2</td>\n",
              "      <td>1</td>\n",
              "      <td>1</td>\n",
              "      <td>1</td>\n",
              "      <td>1</td>\n",
              "      <td>2.020328</td>\n",
              "      <td>1.020328</td>\n",
              "      <td>1.020328</td>\n",
              "      <td>1.020328</td>\n",
              "      <td>2.020328</td>\n",
              "      <td>1.018394</td>\n",
              "      <td>1.020328</td>\n",
              "      <td>1.020328</td>\n",
              "      <td>1.020328</td>\n",
              "    </tr>\n",
              "    <tr>\n",
              "      <th>696</th>\n",
              "      <td>5</td>\n",
              "      <td>10</td>\n",
              "      <td>10</td>\n",
              "      <td>3</td>\n",
              "      <td>7</td>\n",
              "      <td>3</td>\n",
              "      <td>8</td>\n",
              "      <td>10</td>\n",
              "      <td>2</td>\n",
              "      <td>5.020328</td>\n",
              "      <td>10.020328</td>\n",
              "      <td>10.020328</td>\n",
              "      <td>3.020328</td>\n",
              "      <td>7.020328</td>\n",
              "      <td>3.018394</td>\n",
              "      <td>8.020328</td>\n",
              "      <td>10.020328</td>\n",
              "      <td>2.020328</td>\n",
              "    </tr>\n",
              "    <tr>\n",
              "      <th>697</th>\n",
              "      <td>4</td>\n",
              "      <td>8</td>\n",
              "      <td>6</td>\n",
              "      <td>4</td>\n",
              "      <td>3</td>\n",
              "      <td>4</td>\n",
              "      <td>10</td>\n",
              "      <td>6</td>\n",
              "      <td>1</td>\n",
              "      <td>4.020328</td>\n",
              "      <td>8.020328</td>\n",
              "      <td>6.020328</td>\n",
              "      <td>4.020328</td>\n",
              "      <td>3.020328</td>\n",
              "      <td>4.018394</td>\n",
              "      <td>10.020328</td>\n",
              "      <td>6.020328</td>\n",
              "      <td>1.020328</td>\n",
              "    </tr>\n",
              "    <tr>\n",
              "      <th>698</th>\n",
              "      <td>4</td>\n",
              "      <td>8</td>\n",
              "      <td>8</td>\n",
              "      <td>5</td>\n",
              "      <td>4</td>\n",
              "      <td>5</td>\n",
              "      <td>10</td>\n",
              "      <td>4</td>\n",
              "      <td>1</td>\n",
              "      <td>4.020328</td>\n",
              "      <td>8.020328</td>\n",
              "      <td>8.020328</td>\n",
              "      <td>5.020328</td>\n",
              "      <td>4.020328</td>\n",
              "      <td>5.018394</td>\n",
              "      <td>10.020328</td>\n",
              "      <td>4.020328</td>\n",
              "      <td>1.020328</td>\n",
              "    </tr>\n",
              "  </tbody>\n",
              "</table>\n",
              "<p>699 rows × 18 columns</p>\n",
              "</div>"
            ],
            "text/plain": [
              "     Clump Thickness  ...  noice_Mitoses\n",
              "0                  5  ...       1.020328\n",
              "1                  5  ...       1.020328\n",
              "2                  3  ...       1.020328\n",
              "3                  6  ...       1.020328\n",
              "4                  4  ...       1.020328\n",
              "..               ...  ...            ...\n",
              "694                3  ...       1.020328\n",
              "695                2  ...       1.020328\n",
              "696                5  ...       2.020328\n",
              "697                4  ...       1.020328\n",
              "698                4  ...       1.020328\n",
              "\n",
              "[699 rows x 18 columns]"
            ]
          },
          "metadata": {
            "tags": []
          },
          "execution_count": 16
        }
      ]
    },
    {
      "cell_type": "code",
      "metadata": {
        "id": "Ici5PCXc70ZY"
      },
      "source": [
        "df"
      ],
      "execution_count": null,
      "outputs": []
    },
    {
      "cell_type": "markdown",
      "metadata": {
        "id": "zXe_Ersw8A8D"
      },
      "source": [
        "## **BCWD data with advance Gaussian**"
      ]
    },
    {
      "cell_type": "code",
      "metadata": {
        "id": "jm9vzSjk88NY"
      },
      "source": [
        "# Library Declaration  \n",
        "import numpy as np\n",
        "import pandas as pd \n",
        "# Data Input\n",
        "df = pd.read_table('breast-cancer-wisconsin.data', sep=',', names=[\"Sample code number\", \"Clump Thickness\", \"Uniformity of Cell Size\", \"Uniformity of Cell Shape\", \"Marginal Adhesion\", \"Single Epithelial Cell Size\",\"Bare Nuclei\", \"Bland Chromatin\", \"Normal Nucleoli\",\"Mitoses\",\"Class\"]) \n",
        "# print(df.head)"
      ],
      "execution_count": 25,
      "outputs": []
    },
    {
      "cell_type": "code",
      "metadata": {
        "colab": {
          "base_uri": "https://localhost:8080/"
        },
        "id": "xRrHE9I988KH",
        "outputId": "ceb35005-3c05-44b3-e6c6-127567994f9d"
      },
      "source": [
        "# Data Cleaning\n",
        "df[\"Bare Nuclei\"][df[\"Bare Nuclei\"]=='?']='0'\n",
        "df[\"Bare Nuclei\"] = df[\"Bare Nuclei\"].astype(str).astype(int)\n",
        "# df.info()\n",
        "# pd.to_numeric(df[\"Bare Nuclei\"])"
      ],
      "execution_count": 26,
      "outputs": [
        {
          "output_type": "stream",
          "text": [
            "/usr/local/lib/python3.6/dist-packages/ipykernel_launcher.py:2: SettingWithCopyWarning: \n",
            "A value is trying to be set on a copy of a slice from a DataFrame\n",
            "\n",
            "See the caveats in the documentation: https://pandas.pydata.org/pandas-docs/stable/user_guide/indexing.html#returning-a-view-versus-a-copy\n",
            "  \n"
          ],
          "name": "stderr"
        }
      ]
    },
    {
      "cell_type": "code",
      "metadata": {
        "colab": {
          "base_uri": "https://localhost:8080/"
        },
        "id": "vhskSgd688G4",
        "outputId": "c5f2acca-2070-486a-b1e7-935b5acb7c60"
      },
      "source": [
        "# Data Cleaning\n",
        "df=df.drop([\"Sample code number\"], axis = 1)\n",
        "print(df.shape)"
      ],
      "execution_count": 27,
      "outputs": [
        {
          "output_type": "stream",
          "text": [
            "(699, 10)\n"
          ],
          "name": "stdout"
        }
      ]
    },
    {
      "cell_type": "code",
      "metadata": {
        "id": "QCoyQA0x876R"
      },
      "source": [
        "# Data Cleaning\n",
        "def Class_value(Class): \n",
        "     if Class == 2: \n",
        "         return 1\n",
        "     else: \n",
        "         return 0\n",
        "  \n",
        "df['Class'] = df['Class'].apply(Class_value) \n",
        "#df['Class'].head(10)"
      ],
      "execution_count": 28,
      "outputs": []
    },
    {
      "cell_type": "code",
      "metadata": {
        "id": "qFuqmxLX9HiO"
      },
      "source": [
        "sf=df\n",
        "y = sf[\"Class\"].astype(float).values.tolist()\n",
        "# y"
      ],
      "execution_count": 29,
      "outputs": []
    },
    {
      "cell_type": "code",
      "metadata": {
        "id": "oY3jyY6h9Hfr"
      },
      "source": [
        "df=df.drop([\"Class\"], axis = 1)"
      ],
      "execution_count": 30,
      "outputs": []
    },
    {
      "cell_type": "markdown",
      "metadata": {
        "id": "-1cZJBHH8WPa"
      },
      "source": [
        "B. Balle and Y.-X. Wang. Improving the Gaussian Mechanism for Differential Privacy: Analytical Calibration and Optimal Denoising. International Conference on Machine Learning (ICML), 2018."
      ]
    },
    {
      "cell_type": "code",
      "metadata": {
        "id": "gF_v2M9b8Isk"
      },
      "source": [
        "from math import exp, sqrt\n",
        "from scipy.special import erf\n",
        "\n",
        "def calibrateAnalyticGaussianMechanism(epsilon, delta, GS, tol = 1.e-12):\n",
        "    \"\"\" Calibrate a Gaussian perturbation for differential privacy using the analytic Gaussian mechanism of [Balle and Wang, ICML'18]\n",
        "    Arguments:\n",
        "    epsilon : target epsilon (epsilon > 0)\n",
        "    delta : target delta (0 < delta < 1)\n",
        "    GS : upper bound on L2 global sensitivity (GS >= 0)\n",
        "    tol : error tolerance for binary search (tol > 0)\n",
        "    Output:\n",
        "    sigma : standard deviation of Gaussian noise needed to achieve (epsilon,delta)-DP under global sensitivity GS\n",
        "    \"\"\"\n",
        "\n",
        "    def Phi(t):\n",
        "        return 0.5*(1.0 + erf(float(t)/sqrt(2.0)))\n",
        "\n",
        "    def caseA(epsilon,s):\n",
        "        return Phi(sqrt(epsilon*s)) - exp(epsilon)*Phi(-sqrt(epsilon*(s+2.0)))\n",
        "\n",
        "    def caseB(epsilon,s):\n",
        "        return Phi(-sqrt(epsilon*s)) - exp(epsilon)*Phi(-sqrt(epsilon*(s+2.0)))\n",
        "\n",
        "    def doubling_trick(predicate_stop, s_inf, s_sup):\n",
        "        while(not predicate_stop(s_sup)):\n",
        "            s_inf = s_sup\n",
        "            s_sup = 2.0*s_inf\n",
        "        return s_inf, s_sup\n",
        "\n",
        "    def binary_search(predicate_stop, predicate_left, s_inf, s_sup):\n",
        "        s_mid = s_inf + (s_sup-s_inf)/2.0\n",
        "        while(not predicate_stop(s_mid)):\n",
        "            if (predicate_left(s_mid)):\n",
        "                s_sup = s_mid\n",
        "            else:\n",
        "                s_inf = s_mid\n",
        "            s_mid = s_inf + (s_sup-s_inf)/2.0\n",
        "        return s_mid\n",
        "\n",
        "    delta_thr = caseA(epsilon, 0.0)\n",
        "\n",
        "    if (delta == delta_thr):\n",
        "        alpha = 1.0\n",
        "\n",
        "    else:\n",
        "        if (delta > delta_thr):\n",
        "            predicate_stop_DT = lambda s : caseA(epsilon, s) >= delta\n",
        "            function_s_to_delta = lambda s : caseA(epsilon, s)\n",
        "            predicate_left_BS = lambda s : function_s_to_delta(s) > delta\n",
        "            function_s_to_alpha = lambda s : sqrt(1.0 + s/2.0) - sqrt(s/2.0)\n",
        "\n",
        "        else:\n",
        "            predicate_stop_DT = lambda s : caseB(epsilon, s) <= delta\n",
        "            function_s_to_delta = lambda s : caseB(epsilon, s)\n",
        "            predicate_left_BS = lambda s : function_s_to_delta(s) < delta\n",
        "            function_s_to_alpha = lambda s : sqrt(1.0 + s/2.0) + sqrt(s/2.0)\n",
        "\n",
        "        predicate_stop_BS = lambda s : abs(function_s_to_delta(s) - delta) <= tol\n",
        "\n",
        "        s_inf, s_sup = doubling_trick(predicate_stop_DT, 0.0, 1.0)\n",
        "        s_final = binary_search(predicate_stop_BS, predicate_left_BS, s_inf, s_sup)\n",
        "        alpha = function_s_to_alpha(s_final)\n",
        "        \n",
        "    sigma = alpha*GS/sqrt(2.0*epsilon)\n",
        "\n",
        "    return sigma"
      ],
      "execution_count": 31,
      "outputs": []
    },
    {
      "cell_type": "code",
      "metadata": {
        "id": "t7BK8l9R9cE6"
      },
      "source": [
        "data1=df[\"Clump Thickness\"].values\n",
        "data2=df[\"Uniformity of Cell Size\"].values\n",
        "data3=df[\"Uniformity of Cell Shape\"].values\n",
        "data4=df[\"Marginal Adhesion\"].values\n",
        "data5=df[\"Single Epithelial Cell Size\"].values\n",
        "data6=df[\"Bare Nuclei\"].values\n",
        "data7=df[\"Bland Chromatin\"].values\n",
        "data8=df[\"Normal Nucleoli\"].values\n",
        "data9=df[\"Mitoses\"].values"
      ],
      "execution_count": 32,
      "outputs": []
    },
    {
      "cell_type": "code",
      "metadata": {
        "id": "1HpLkJ4xBc66"
      },
      "source": [
        "# sa=np.std(df[\"Clump Thickness\"])/df[\"Clump Thickness\"].mean()\n",
        "# sa"
      ],
      "execution_count": 33,
      "outputs": []
    },
    {
      "cell_type": "code",
      "metadata": {
        "id": "zndJTCAb9jx0"
      },
      "source": [
        "ep=0.1\n",
        "delta=0.5\n",
        "# calibrateAnalyticGaussianMechanism(ep, delta, )\n",
        "Laplacian_noise1 = calibrateAnalyticGaussianMechanism(ep, delta,(np.std(df[\"Clump Thickness\"])/df[\"Clump Thickness\"].mean()))\n",
        "Laplacian_noise2 = calibrateAnalyticGaussianMechanism(ep, delta,(np.std(df[\"Uniformity of Cell Size\"])/df[\"Uniformity of Cell Size\"].mean()))\n",
        "Laplacian_noise3 = calibrateAnalyticGaussianMechanism(ep, delta,(np.std(df[\"Uniformity of Cell Shape\"])/df[\"Uniformity of Cell Shape\"].mean()))\n",
        "Laplacian_noise4 = calibrateAnalyticGaussianMechanism(ep, delta,(np.std(df[\"Marginal Adhesion\"])/df[\"Marginal Adhesion\"].mean()))\n",
        "Laplacian_noise5 = calibrateAnalyticGaussianMechanism(ep, delta,(np.std(df[\"Single Epithelial Cell Size\"])/df[\"Single Epithelial Cell Size\"].mean()))\n",
        "Laplacian_noise6 = calibrateAnalyticGaussianMechanism(ep, delta,(np.std(df[\"Bare Nuclei\"])/df[\"Bare Nuclei\"].mean()))\n",
        "Laplacian_noise7 = calibrateAnalyticGaussianMechanism(ep, delta,(np.std(df[\"Bland Chromatin\"])/df[\"Bland Chromatin\"].mean()))\n",
        "Laplacian_noise8 = calibrateAnalyticGaussianMechanism(ep, delta,(np.std(df[\"Normal Nucleoli\"])/df[\"Normal Nucleoli\"].mean()))\n",
        "Laplacian_noise9 = calibrateAnalyticGaussianMechanism(ep, delta,(np.std(df[\"Mitoses\"])/df[\"Mitoses\"].mean()))"
      ],
      "execution_count": 35,
      "outputs": []
    },
    {
      "cell_type": "code",
      "metadata": {
        "id": "z-wLMUUZ9qUU"
      },
      "source": [
        "noisydata1 = data1 + Laplacian_noise1\n",
        "noisydata2 = data2 + Laplacian_noise2\n",
        "noisydata3 = data3 + Laplacian_noise3\n",
        "noisydata4 = data4 + Laplacian_noise4\n",
        "noisydata5 = data5 + Laplacian_noise5\n",
        "noisydata6 = data6 + Laplacian_noise6\n",
        "noisydata7 = data7 + Laplacian_noise7\n",
        "noisydata8 = data8 + Laplacian_noise8\n",
        "noisydata9 = data9 + Laplacian_noise9\n",
        "# noisydata"
      ],
      "execution_count": 36,
      "outputs": []
    },
    {
      "cell_type": "code",
      "metadata": {
        "id": "x12b7xmJ92Qr"
      },
      "source": [
        "d1 = dict(zip(data1, noisydata1))\n",
        "d2 = dict(zip(data2, noisydata2))\n",
        "d3 = dict(zip(data3, noisydata3))\n",
        "d4 = dict(zip(data4, noisydata4))\n",
        "d5 = dict(zip(data5, noisydata5))\n",
        "d6 = dict(zip(data6, noisydata6))\n",
        "d7 = dict(zip(data7, noisydata7))\n",
        "d8 = dict(zip(data8, noisydata8))\n",
        "d9 = dict(zip(data9, noisydata9))"
      ],
      "execution_count": 37,
      "outputs": []
    },
    {
      "cell_type": "code",
      "metadata": {
        "id": "WHfsT7X49v0P"
      },
      "source": [
        "# df[\"noiceCF\"] = df[\"Clump Thickness\"].map(res)\n",
        "# df[\"noiceCF\"]\n",
        "df[\"noice_Clump Thickness\"]=df[\"Clump Thickness\"].map(d1)\n",
        "df[\"noice_Uniformity of Cell Size\"]=df[\"Uniformity of Cell Size\"].map(d2)\n",
        "df[\"noice_Uniformity of Cell Shape\"]=df[\"Uniformity of Cell Shape\"].map(d3)\n",
        "df[\"noice_Marginal Adhesion\"]=df[\"Marginal Adhesion\"].map(d4)\n",
        "df[\"noice_Single Epithelial Cell Size\"]=df[\"Single Epithelial Cell Size\"].map(d5)\n",
        "df[\"noice_Bare Nuclei\"]=df[\"Bare Nuclei\"].map(d6)\n",
        "df[\"noice_Bland Chromatin\"]=df[\"Bland Chromatin\"].map(d7)\n",
        "df[\"noice_Normal Nucleoli\"]=df[\"Normal Nucleoli\"].map(d8)\n",
        "df[\"noice_Mitoses\"]=df[\"Mitoses\"].map(d9)"
      ],
      "execution_count": 38,
      "outputs": []
    },
    {
      "cell_type": "code",
      "metadata": {
        "id": "qY7iTdK1_XvB"
      },
      "source": [
        "df=df.drop([\"Clump Thickness\", \"Uniformity of Cell Size\", \"Uniformity of Cell Shape\", \"Marginal Adhesion\",\"Single Epithelial Cell Size\", \"Bare Nuclei\", \"Bland Chromatin\", \"Normal Nucleoli\", \"Mitoses\"], axis=1)"
      ],
      "execution_count": 39,
      "outputs": []
    },
    {
      "cell_type": "code",
      "metadata": {
        "colab": {
          "base_uri": "https://localhost:8080/",
          "height": 473
        },
        "id": "hZiDwY-p_Yv-",
        "outputId": "16c4f125-e968-4458-aa0d-390ff14328f9"
      },
      "source": [
        "df"
      ],
      "execution_count": 40,
      "outputs": [
        {
          "output_type": "execute_result",
          "data": {
            "text/html": [
              "<div>\n",
              "<style scoped>\n",
              "    .dataframe tbody tr th:only-of-type {\n",
              "        vertical-align: middle;\n",
              "    }\n",
              "\n",
              "    .dataframe tbody tr th {\n",
              "        vertical-align: top;\n",
              "    }\n",
              "\n",
              "    .dataframe thead th {\n",
              "        text-align: right;\n",
              "    }\n",
              "</style>\n",
              "<table border=\"1\" class=\"dataframe\">\n",
              "  <thead>\n",
              "    <tr style=\"text-align: right;\">\n",
              "      <th></th>\n",
              "      <th>noice_Clump Thickness</th>\n",
              "      <th>noice_Uniformity of Cell Size</th>\n",
              "      <th>noice_Uniformity of Cell Shape</th>\n",
              "      <th>noice_Marginal Adhesion</th>\n",
              "      <th>noice_Single Epithelial Cell Size</th>\n",
              "      <th>noice_Bare Nuclei</th>\n",
              "      <th>noice_Bland Chromatin</th>\n",
              "      <th>noice_Normal Nucleoli</th>\n",
              "      <th>noice_Mitoses</th>\n",
              "    </tr>\n",
              "  </thead>\n",
              "  <tbody>\n",
              "    <tr>\n",
              "      <th>0</th>\n",
              "      <td>5.446907</td>\n",
              "      <td>1.682601</td>\n",
              "      <td>1.649684</td>\n",
              "      <td>1.713291</td>\n",
              "      <td>2.482772</td>\n",
              "      <td>1.737044</td>\n",
              "      <td>3.497333</td>\n",
              "      <td>1.746829</td>\n",
              "      <td>1.75661</td>\n",
              "    </tr>\n",
              "    <tr>\n",
              "      <th>1</th>\n",
              "      <td>5.446907</td>\n",
              "      <td>4.682601</td>\n",
              "      <td>4.649684</td>\n",
              "      <td>5.713291</td>\n",
              "      <td>7.482772</td>\n",
              "      <td>10.737044</td>\n",
              "      <td>3.497333</td>\n",
              "      <td>2.746829</td>\n",
              "      <td>1.75661</td>\n",
              "    </tr>\n",
              "    <tr>\n",
              "      <th>2</th>\n",
              "      <td>3.446907</td>\n",
              "      <td>1.682601</td>\n",
              "      <td>1.649684</td>\n",
              "      <td>1.713291</td>\n",
              "      <td>2.482772</td>\n",
              "      <td>2.737044</td>\n",
              "      <td>3.497333</td>\n",
              "      <td>1.746829</td>\n",
              "      <td>1.75661</td>\n",
              "    </tr>\n",
              "    <tr>\n",
              "      <th>3</th>\n",
              "      <td>6.446907</td>\n",
              "      <td>8.682601</td>\n",
              "      <td>8.649684</td>\n",
              "      <td>1.713291</td>\n",
              "      <td>3.482772</td>\n",
              "      <td>4.737044</td>\n",
              "      <td>3.497333</td>\n",
              "      <td>7.746829</td>\n",
              "      <td>1.75661</td>\n",
              "    </tr>\n",
              "    <tr>\n",
              "      <th>4</th>\n",
              "      <td>4.446907</td>\n",
              "      <td>1.682601</td>\n",
              "      <td>1.649684</td>\n",
              "      <td>3.713291</td>\n",
              "      <td>2.482772</td>\n",
              "      <td>1.737044</td>\n",
              "      <td>3.497333</td>\n",
              "      <td>1.746829</td>\n",
              "      <td>1.75661</td>\n",
              "    </tr>\n",
              "    <tr>\n",
              "      <th>...</th>\n",
              "      <td>...</td>\n",
              "      <td>...</td>\n",
              "      <td>...</td>\n",
              "      <td>...</td>\n",
              "      <td>...</td>\n",
              "      <td>...</td>\n",
              "      <td>...</td>\n",
              "      <td>...</td>\n",
              "      <td>...</td>\n",
              "    </tr>\n",
              "    <tr>\n",
              "      <th>694</th>\n",
              "      <td>3.446907</td>\n",
              "      <td>1.682601</td>\n",
              "      <td>1.649684</td>\n",
              "      <td>1.713291</td>\n",
              "      <td>3.482772</td>\n",
              "      <td>2.737044</td>\n",
              "      <td>1.497333</td>\n",
              "      <td>1.746829</td>\n",
              "      <td>1.75661</td>\n",
              "    </tr>\n",
              "    <tr>\n",
              "      <th>695</th>\n",
              "      <td>2.446907</td>\n",
              "      <td>1.682601</td>\n",
              "      <td>1.649684</td>\n",
              "      <td>1.713291</td>\n",
              "      <td>2.482772</td>\n",
              "      <td>1.737044</td>\n",
              "      <td>1.497333</td>\n",
              "      <td>1.746829</td>\n",
              "      <td>1.75661</td>\n",
              "    </tr>\n",
              "    <tr>\n",
              "      <th>696</th>\n",
              "      <td>5.446907</td>\n",
              "      <td>10.682601</td>\n",
              "      <td>10.649684</td>\n",
              "      <td>3.713291</td>\n",
              "      <td>7.482772</td>\n",
              "      <td>3.737044</td>\n",
              "      <td>8.497333</td>\n",
              "      <td>10.746829</td>\n",
              "      <td>2.75661</td>\n",
              "    </tr>\n",
              "    <tr>\n",
              "      <th>697</th>\n",
              "      <td>4.446907</td>\n",
              "      <td>8.682601</td>\n",
              "      <td>6.649684</td>\n",
              "      <td>4.713291</td>\n",
              "      <td>3.482772</td>\n",
              "      <td>4.737044</td>\n",
              "      <td>10.497333</td>\n",
              "      <td>6.746829</td>\n",
              "      <td>1.75661</td>\n",
              "    </tr>\n",
              "    <tr>\n",
              "      <th>698</th>\n",
              "      <td>4.446907</td>\n",
              "      <td>8.682601</td>\n",
              "      <td>8.649684</td>\n",
              "      <td>5.713291</td>\n",
              "      <td>4.482772</td>\n",
              "      <td>5.737044</td>\n",
              "      <td>10.497333</td>\n",
              "      <td>4.746829</td>\n",
              "      <td>1.75661</td>\n",
              "    </tr>\n",
              "  </tbody>\n",
              "</table>\n",
              "<p>699 rows × 9 columns</p>\n",
              "</div>"
            ],
            "text/plain": [
              "     noice_Clump Thickness  ...  noice_Mitoses\n",
              "0                 5.446907  ...        1.75661\n",
              "1                 5.446907  ...        1.75661\n",
              "2                 3.446907  ...        1.75661\n",
              "3                 6.446907  ...        1.75661\n",
              "4                 4.446907  ...        1.75661\n",
              "..                     ...  ...            ...\n",
              "694               3.446907  ...        1.75661\n",
              "695               2.446907  ...        1.75661\n",
              "696               5.446907  ...        2.75661\n",
              "697               4.446907  ...        1.75661\n",
              "698               4.446907  ...        1.75661\n",
              "\n",
              "[699 rows x 9 columns]"
            ]
          },
          "metadata": {
            "tags": []
          },
          "execution_count": 40
        }
      ]
    },
    {
      "cell_type": "code",
      "metadata": {
        "id": "_pMmwpISD3Ky"
      },
      "source": [
        ""
      ],
      "execution_count": null,
      "outputs": []
    },
    {
      "cell_type": "markdown",
      "metadata": {
        "id": "oQVGW3CtN8Rj"
      },
      "source": [
        "## **BCWD data with epsilon exponential**"
      ]
    },
    {
      "cell_type": "code",
      "metadata": {
        "id": "hk-3KXrWOB0y"
      },
      "source": [
        "# Library Declaration  \n",
        "import numpy as np\n",
        "import pandas as pd \n",
        "# Data Input\n",
        "df = pd.read_table('breast-cancer-wisconsin.data', sep=',', names=[\"Sample code number\", \"Clump Thickness\", \"Uniformity of Cell Size\", \"Uniformity of Cell Shape\", \"Marginal Adhesion\", \"Single Epithelial Cell Size\",\"Bare Nuclei\", \"Bland Chromatin\", \"Normal Nucleoli\",\"Mitoses\",\"Class\"]) \n",
        "# print(df.head)"
      ],
      "execution_count": 41,
      "outputs": []
    },
    {
      "cell_type": "code",
      "metadata": {
        "colab": {
          "base_uri": "https://localhost:8080/"
        },
        "id": "rem8sk6POHV1",
        "outputId": "38686aec-03dd-47b8-d321-b0772bbd2f2b"
      },
      "source": [
        "# Data Cleaning\n",
        "df[\"Bare Nuclei\"][df[\"Bare Nuclei\"]=='?']='0'\n",
        "df[\"Bare Nuclei\"] = df[\"Bare Nuclei\"].astype(str).astype(int)\n",
        "# df.info()\n",
        "# pd.to_numeric(df[\"Bare Nuclei\"])"
      ],
      "execution_count": 42,
      "outputs": [
        {
          "output_type": "stream",
          "text": [
            "/usr/local/lib/python3.6/dist-packages/ipykernel_launcher.py:2: SettingWithCopyWarning: \n",
            "A value is trying to be set on a copy of a slice from a DataFrame\n",
            "\n",
            "See the caveats in the documentation: https://pandas.pydata.org/pandas-docs/stable/user_guide/indexing.html#returning-a-view-versus-a-copy\n",
            "  \n"
          ],
          "name": "stderr"
        }
      ]
    },
    {
      "cell_type": "code",
      "metadata": {
        "colab": {
          "base_uri": "https://localhost:8080/"
        },
        "id": "sJtRfyMmOJ3u",
        "outputId": "a22db57a-9f77-4061-d473-d51a9daa174c"
      },
      "source": [
        "# Data Cleaning\n",
        "df=df.drop([\"Sample code number\"], axis = 1)\n",
        "print(df.shape)"
      ],
      "execution_count": 43,
      "outputs": [
        {
          "output_type": "stream",
          "text": [
            "(699, 10)\n"
          ],
          "name": "stdout"
        }
      ]
    },
    {
      "cell_type": "code",
      "metadata": {
        "id": "JNLMNUo3ONCN"
      },
      "source": [
        "# Data Cleaning\n",
        "def Class_value(Class): \n",
        "     if Class == 2: \n",
        "         return 1\n",
        "     else: \n",
        "         return 0\n",
        "  \n",
        "df['Class'] = df['Class'].apply(Class_value) \n",
        "#df['Class'].head(10)"
      ],
      "execution_count": 44,
      "outputs": []
    },
    {
      "cell_type": "code",
      "metadata": {
        "id": "PPvf8ocxOST0"
      },
      "source": [
        "sf=df\n",
        "y = sf[\"Class\"].astype(float).values.tolist()\n",
        "# y"
      ],
      "execution_count": 45,
      "outputs": []
    },
    {
      "cell_type": "code",
      "metadata": {
        "id": "sQeKIHxHOVtK"
      },
      "source": [
        "df=df.drop([\"Class\"], axis = 1)"
      ],
      "execution_count": 46,
      "outputs": []
    },
    {
      "cell_type": "code",
      "metadata": {
        "id": "z9sfZg8FOXXc"
      },
      "source": [
        "data1=df[\"Clump Thickness\"].values\n",
        "data2=df[\"Uniformity of Cell Size\"].values\n",
        "data3=df[\"Uniformity of Cell Shape\"].values\n",
        "data4=df[\"Marginal Adhesion\"].values\n",
        "data5=df[\"Single Epithelial Cell Size\"].values\n",
        "data6=df[\"Bare Nuclei\"].values\n",
        "data7=df[\"Bland Chromatin\"].values\n",
        "data8=df[\"Normal Nucleoli\"].values\n",
        "data9=df[\"Mitoses\"].values"
      ],
      "execution_count": 47,
      "outputs": []
    },
    {
      "cell_type": "code",
      "metadata": {
        "id": "Qrrtih9nOgmT"
      },
      "source": [
        "def exponential(eps,d,sen):\n",
        "    \n",
        "    consts = eps / (2 * sen)\n",
        "\n",
        "    # create weights\n",
        "    weights = np.exp(consts * d)\n",
        "\n",
        "    # normalize to distribution and sample\n",
        "    # res = np.random.choice(utility.categories, p=normalize(weights, ord=1))\n",
        "\n",
        "    return weights"
      ],
      "execution_count": 49,
      "outputs": []
    },
    {
      "cell_type": "code",
      "metadata": {
        "colab": {
          "base_uri": "https://localhost:8080/"
        },
        "id": "x4A7M66IVTQ7",
        "outputId": "18f20752-dfc1-44c2-9197-c241da9c5535"
      },
      "source": [
        "sdf=exponential(0.1,10,(np.std(df[\"Clump Thickness\"])/df[\"Clump Thickness\"].mean()))\n",
        "sdf"
      ],
      "execution_count": 51,
      "outputs": [
        {
          "output_type": "execute_result",
          "data": {
            "text/plain": [
              "2.1924810014557043"
            ]
          },
          "metadata": {
            "tags": []
          },
          "execution_count": 51
        }
      ]
    },
    {
      "cell_type": "code",
      "metadata": {
        "id": "78GjMQ-GTZ9W"
      },
      "source": [
        "ep=0.1\n",
        "delta=0.5\n",
        "# calibrateAnalyticGaussianMechanism(ep, delta, )\n",
        "Laplacian_noise1 = calibrateAnalyticGaussianMechanism(ep, delta,(np.std(df[\"Clump Thickness\"])/df[\"Clump Thickness\"].mean()))\n",
        "Laplacian_noise2 = calibrateAnalyticGaussianMechanism(ep, delta,(np.std(df[\"Uniformity of Cell Size\"])/df[\"Uniformity of Cell Size\"].mean()))\n",
        "Laplacian_noise3 = calibrateAnalyticGaussianMechanism(ep, delta,(np.std(df[\"Uniformity of Cell Shape\"])/df[\"Uniformity of Cell Shape\"].mean()))\n",
        "Laplacian_noise4 = calibrateAnalyticGaussianMechanism(ep, delta,(np.std(df[\"Marginal Adhesion\"])/df[\"Marginal Adhesion\"].mean()))\n",
        "Laplacian_noise5 = calibrateAnalyticGaussianMechanism(ep, delta,(np.std(df[\"Single Epithelial Cell Size\"])/df[\"Single Epithelial Cell Size\"].mean()))\n",
        "Laplacian_noise6 = calibrateAnalyticGaussianMechanism(ep, delta,(np.std(df[\"Bare Nuclei\"])/df[\"Bare Nuclei\"].mean()))\n",
        "Laplacian_noise7 = calibrateAnalyticGaussianMechanism(ep, delta,(np.std(df[\"Bland Chromatin\"])/df[\"Bland Chromatin\"].mean()))\n",
        "Laplacian_noise8 = calibrateAnalyticGaussianMechanism(ep, delta,(np.std(df[\"Normal Nucleoli\"])/df[\"Normal Nucleoli\"].mean()))\n",
        "Laplacian_noise9 = calibrateAnalyticGaussianMechanism(ep, delta,(np.std(df[\"Mitoses\"])/df[\"Mitoses\"].mean()))\n"
      ],
      "execution_count": null,
      "outputs": []
    },
    {
      "cell_type": "code",
      "metadata": {
        "id": "t28E8W7zUDbY"
      },
      "source": [
        "noisydata1 = data1 + Laplacian_noise1\n",
        "noisydata2 = data2 + Laplacian_noise2\n",
        "noisydata3 = data3 + Laplacian_noise3\n",
        "noisydata4 = data4 + Laplacian_noise4\n",
        "noisydata5 = data5 + Laplacian_noise5\n",
        "noisydata6 = data6 + Laplacian_noise6\n",
        "noisydata7 = data7 + Laplacian_noise7\n",
        "noisydata8 = data8 + Laplacian_noise8\n",
        "noisydata9 = data9 + Laplacian_noise9\n",
        "# noisydata"
      ],
      "execution_count": null,
      "outputs": []
    },
    {
      "cell_type": "code",
      "metadata": {
        "id": "Hih6NxsNUDXW"
      },
      "source": [
        "\n",
        "d1 = dict(zip(data1, noisydata1))\n",
        "d2 = dict(zip(data2, noisydata2))\n",
        "d3 = dict(zip(data3, noisydata3))\n",
        "d4 = dict(zip(data4, noisydata4))\n",
        "d5 = dict(zip(data5, noisydata5))\n",
        "d6 = dict(zip(data6, noisydata6))\n",
        "d7 = dict(zip(data7, noisydata7))\n",
        "d8 = dict(zip(data8, noisydata8))\n",
        "d9 = dict(zip(data9, noisydata9))\n",
        "# df[\"noiceCF\"] = df[\"Clump Thickness\"].map(res)\n",
        "# df[\"noiceCF\"]"
      ],
      "execution_count": null,
      "outputs": []
    },
    {
      "cell_type": "code",
      "metadata": {
        "id": "Ac5BB9arUDUE"
      },
      "source": [
        "\n",
        "df[\"noice_Clump Thickness\"]=df[\"Clump Thickness\"].map(d1)\n",
        "df[\"noice_Uniformity of Cell Size\"]=df[\"Uniformity of Cell Size\"].map(d2)\n",
        "df[\"noice_Uniformity of Cell Shape\"]=df[\"Uniformity of Cell Shape\"].map(d3)\n",
        "df[\"noice_Marginal Adhesion\"]=df[\"Marginal Adhesion\"].map(d4)\n",
        "df[\"noice_Single Epithelial Cell Size\"]=df[\"Single Epithelial Cell Size\"].map(d5)\n",
        "df[\"noice_Bare Nuclei\"]=df[\"Bare Nuclei\"].map(d6)\n",
        "df[\"noice_Bland Chromatin\"]=df[\"Bland Chromatin\"].map(d7)\n",
        "df[\"noice_Normal Nucleoli\"]=df[\"Normal Nucleoli\"].map(d8)\n",
        "df[\"noice_Mitoses\"]=df[\"Mitoses\"].map(d9)"
      ],
      "execution_count": null,
      "outputs": []
    },
    {
      "cell_type": "code",
      "metadata": {
        "id": "rg_6Gs0JUDJH"
      },
      "source": [
        "df=df.drop([\"Clump Thickness\", \"Uniformity of Cell Size\", \"Uniformity of Cell Shape\", \"Marginal Adhesion\",\"Single Epithelial Cell Size\", \"Bare Nuclei\", \"Bland Chromatin\", \"Normal Nucleoli\", \"Mitoses\"], axis=1)"
      ],
      "execution_count": null,
      "outputs": []
    }
  ]
}